{
  "nbformat": 4,
  "nbformat_minor": 5,
  "metadata": {
    "kernelspec": {
      "display_name": "R",
      "language": "R",
      "name": "ir"
    },
    "language_info": {
      "codemirror_mode": "r",
      "file_extension": ".r",
      "mimetype": "text/x-r-source",
      "name": "R",
      "pygments_lexer": "r",
      "version": "4.1.1"
    },
    "colab": {
      "name": "workshop_ja.ipynb",
      "provenance": []
    }
  },
  "cells": [
    {
      "cell_type": "markdown",
      "metadata": {
        "id": "8ae147eb-0b99-42ff-86c1-3039b9f5ec9c"
      },
      "source": [
        "# ワークショップ前の手順\n",
        "\n",
        "*ワークショップの前に* 次の手順を実行してください。\n",
        "\n",
        "## ステップ 1: デスクトップ環境に最新のCytoscape (3.9.0) をインストールします\n",
        "- [ここから Cytoscape のインストーラをダウンロード](https://cytoscape.org/download.html)。\n",
        "- Javaが無ければ合わせてインストールしてくれます。\n",
        "- スタートメニューまたはデスクトップショートカットからCytoscape3.9.0を起動します\n",
        "\n",
        "![image](https://user-images.githubusercontent.com/12192/139441980-5d73579f-39dd-45da-916b-759eff99474d.png)\n",
        "\n",
        "- 上の画像のようなメッセージが表示されますので、OKボタンを押してCytoscapeを再起動してください。\n",
        "- Cytoscape は立ち上げっぱなしにしておいてください。\n",
        "\n",
        "## ステップ 2: Docker 環境の立ち上げと Google Chrome を用いたその環境へのアクセス\n",
        "- `docker run -d -p 8888:8888 kozo2/cyautoworkshop` をあなたのPCで実行します。\n",
        "- Google Chrome で `http://localhost:8888` を開きます。Safariでは動作しません。Firefoxは動作するかもしれませんが確認していません。\n",
        "\n",
        "# ワークショップ (入門編)\n",
        "\n",
        "## 自己紹介\n",
        "\n",
        "西田 孝三\n",
        "\n",
        "- Bioconductor Community Advisory Board (CAB) のメンバー\n",
        "- RCy3 を用いた Bioconductor package (transomics2cytoscape) の作者\n",
        "- Cytoscape のコミュニティへの貢献 (Google Summer of Code, Google Season of Docs)\n",
        "- KEGGscape Cytoscape App の KEGGscape の作者\n",
        "\n",
        "## Cytoscape とは何ですか?\n",
        "\n",
        "![image](https://user-images.githubusercontent.com/12192/139426468-915e9a76-7e4e-4a37-aee9-3d0e344f551e.png)\n",
        "\n",
        "- オープンソースの、クロスプラットフォームの、JavaデスクトップGUIアプリ。\n",
        "- ネットワーク可視化のためのもの。\n",
        "\n",
        "### コアコンセプト\n",
        "\n",
        "**ネットワークとテーブル**: ネットワークのノードとエッジはアノテーションのテーブルを持っています。\n",
        "\n",
        "![image](https://user-images.githubusercontent.com/12192/139427094-bfd9a839-dabf-468d-8f28-6458443c8e61.png)\n",
        "\n",
        "![image](https://user-images.githubusercontent.com/12192/139427149-4f0fe568-3851-4de6-834e-2e809e85f1be.png)\n",
        "\n",
        "色、形、サイズ、他何らか、といった「見栄え」をアノテーションの値によってスタイリングします。\n",
        "\n",
        "## なぜ自動化する必要があるんですか?\n",
        "GUIを直接使用できるのに、なぜCytoscapeを自動化するのですか？\n",
        "\n",
        "- ループなど、複数回実行したいことのために\n",
        "- 将来繰り返したいこと(再現)のために\n",
        "- 同僚と共有したり公開したりしたいもののために\n",
        "- RやPythonなどですでに取り組んでいるものを活かすために\n",
        "\n",
        "端的には「再現性」「データ共有」「RかPythonの資源活用」のため。\n",
        "\n",
        "## Cytoscape GUI操作はどのように自動化を実現しているのですか?\n",
        "\n",
        "![image](https://user-images.githubusercontent.com/12192/139397677-80076550-e458-4bd4-9ab5-ba48ef6843b9.png)\n",
        "\n",
        "- REST APIでそれを可能にしています。ほとんどすべてのGUI 操作がREST APIで行えるようになっています。\n",
        "- 昨今のCytoscapeはデスクトップアプリケーションであるだけでなく、RESTサーバーでもあります。\n",
        "- 以下のコマンドで、Cytoscapeがサーバーとして機能しているかどうかを確認できます。\n",
        "\n",
        "  ```\n",
        "  curl localhost:1234\n",
        "  ```\n",
        "\n",
        "- RCy3 または py4cytoscape といったパッケージはそのREST APIのラッパーです。\n",
        "- py4cytoscape は RCy3 の Pythonクローンです。最近できました。py4cytoscape は RCy3 と同じ関数仕様を持っているため、片方使えると両方使えるようになったのと同じです。\n",
        "- バイオインフォマティクスにはテーブル操作が不可欠であるため、RやPythonでCytoscapeを操作できると便利です。dplyrやpandasがあるからです。そういったテーブル操作をCytoscapeのGUIで行うのは面倒です。\n",
        "\n",
        "[CyREST: Turbocharging Cytoscape Access for External Tools via a RESTful API. F1000Research 2015.](https://dx.doi.org/10.12688%2Ff1000research.6767.1)\n",
        "\n",
        "[Cytoscape Automation: empowering workflow-based network analysis. Genome Biology 2019.](https://doi.org/10.1186/s13059-019-1758-4)\n",
        "\n",
        "## RCy3を用いた自動化\n",
        "\n",
        "![image](https://user-images.githubusercontent.com/12192/139400142-8a2a764b-dbbe-4e47-9d3c-d4cc07602468.png)\n",
        "\n",
        "[RCy3: Network biology using Cytoscape from within R. F1000Research 2019.](https://f1000research.com/articles/8-1774)\n",
        "\n",
        "## RCy3を使用してRのデータをCytoscapeネットワークに変換する\n",
        "\n",
        "ネットワークは、生物学的データを表すための便利な方法を提供してくれます。\n",
        "しかし、データをRからCytoscapeにシームレスに変換するにはどうすればよいでしょうか?\n",
        "\n",
        "![image](https://user-images.githubusercontent.com/12192/139404069-536a67a2-e8fe-4072-bc42-74bfb060f924.png)\n",
        "\n",
        "ここからいよいよハンズオンです。細かいことはおいておいてとにかくRとCytoscapeを接続しましょう。\n",
        "\n",
        "以下のコードを実行する前に、ローカルのCytoscapeが完全に起動しきっていることを確認してください。\n",
        "Cytoscapeが起動し、RESTサーバーが完全に起動するまでには少し時間がかかります。\n",
        "(大体10秒くらい待ちます。)"
      ],
      "id": "8ae147eb-0b99-42ff-86c1-3039b9f5ec9c"
    },
    {
      "cell_type": "code",
      "metadata": {
        "id": "5bf6427f-274e-4a0f-bc84-bfb386d3eb0e"
      },
      "source": [
        "library(RCy3)\n",
        "browserClientJs <- getBrowserClientJs()\n",
        "IRdisplay::display_javascript(browserClientJs)\n",
        "cytoscapePing()"
      ],
      "id": "5bf6427f-274e-4a0f-bc84-bfb386d3eb0e",
      "execution_count": null,
      "outputs": []
    },
    {
      "cell_type": "markdown",
      "metadata": {
        "id": "XcEzk037Yon7"
      },
      "source": [
        "### なぜ Jupyter が Cytoscape の REST サービスと通信できたのですか？\n",
        "\n",
        "下記で何が起こったのかについての詳細な説明が必要ですね。\n",
        "\n",
        "```\n",
        "browserClientJs <- getBrowserClientJs()\n",
        "IRdisplay::display_javascript(browserClientJs)\n",
        "```\n",
        "\n",
        "上記のコードでは、**Jupyter Bridge** と呼ばれるテクノロジーを使用しました。\n",
        "Jupyter Bridgeは、リモートの REST クライアントからの HTTP リクエストをローカルリクエストのように見せかける JavaScript 実装です。\n",
        "\n",
        "![image](https://user-images.githubusercontent.com/12192/139530994-8afd99b2-1175-46b3-9ad7-166d8ba78f2a.png)\n",
        "\n",
        "デスクトップ環境内のCytoscapeにリモート環境からアクセスするのは難しいため、Jupyter Bridgeを使用します。\n",
        "\n",
        "そしてこのワークショップが他のワークショップと違って [Orchestra](http://app.orchestra.cancerdatasci.org/) で動かなかったのは\n",
        "この Jupyter Bridge のせいでもあります。\n",
        "\n",
        "そのため私はローカルの Docker 環境内の Jupyter で Jupyter Bridge を使いました。\n",
        "ローカルでなくても Orchestra でないリモートサーバーで私の Docker イメージを使うなら問題無く動作します。\n",
        "\n",
        "### (で) なぜ Jupyter Bridge を使うのですか? ややこしくないですか? ノートブックを使わなければよいのではないですか?\n",
        "\n",
        "- ユーザーは依存関係や環境について心配する必要が無いからです。\n",
        "- ノートブックベースのワークフローとデータセットを簡単に共有できるからです。\n",
        "- ワークフローはクラウドに常駐し、クラウドリソースにアクセスし、それでもCytoscape機能を使用できるところがよいのです。\n",
        "\n",
        "### RデータをCytoscapeネットワークに変換する方法に戻りましょう...\n",
        "\n",
        "いくつかの基本的なRオブジェクトからCytoscapeネットワークを作成します\n"
      ],
      "id": "XcEzk037Yon7"
    },
    {
      "cell_type": "code",
      "metadata": {
        "id": "4-Utte_bYteT"
      },
      "source": [
        "nodes <- data.frame(id=c(\"node 0\",\"node 1\",\"node 2\",\"node 3\"),\n",
        "    group=c(\"A\",\"A\",\"B\",\"B\"), # categorical strings\n",
        "    score=as.integer(c(20,10,15,5)), # integers\n",
        "    stringsAsFactors=FALSE)"
      ],
      "id": "4-Utte_bYteT",
      "execution_count": null,
      "outputs": []
    },
    {
      "cell_type": "code",
      "metadata": {
        "id": "EJ_s4bTXYwsl"
      },
      "source": [
        "nodes"
      ],
      "id": "EJ_s4bTXYwsl",
      "execution_count": null,
      "outputs": []
    },
    {
      "cell_type": "code",
      "metadata": {
        "id": "5nkkhZHIYxUI"
      },
      "source": [
        "edges <- data.frame(source=c(\"node 0\",\"node 0\",\"node 0\",\"node 2\"),\n",
        "    target=c(\"node 1\",\"node 2\",\"node 3\",\"node 3\"),\n",
        "    interaction=c(\"inhibits\",\"interacts\",\"activates\",\"interacts\"),  # optional\n",
        "    weight=c(5.1,3.0,5.2,9.9), # numeric\n",
        "    stringsAsFactors=FALSE)"
      ],
      "id": "5nkkhZHIYxUI",
      "execution_count": null,
      "outputs": []
    },
    {
      "cell_type": "code",
      "metadata": {
        "id": "KAtWfU4uY5Fe"
      },
      "source": [
        "edges"
      ],
      "id": "KAtWfU4uY5Fe",
      "execution_count": null,
      "outputs": []
    },
    {
      "cell_type": "markdown",
      "metadata": {
        "id": "D-51rfyDY_Dq"
      },
      "source": [
        "#### ネットワークの作成に使用されるデータフレーム\n",
        "\n",
        "![image](https://user-images.githubusercontent.com/12192/139534280-0c569dfd-d66d-4054-9b58-becce79225bc.png)\n",
        "\n",
        "#### さあ、RCy3からネットワークを作りましょう"
      ],
      "id": "D-51rfyDY_Dq"
    },
    {
      "cell_type": "code",
      "metadata": {
        "id": "QSU-UlqxZABT"
      },
      "source": [
        "createNetworkFromDataFrames(nodes, edges, title=\"my first network\", collection=\"DataFrame Example\")"
      ],
      "id": "QSU-UlqxZABT",
      "execution_count": null,
      "outputs": []
    },
    {
      "cell_type": "markdown",
      "metadata": {
        "id": "mUjGaWdNZET-"
      },
      "source": [
        "#### ネットワークの画像をエクスポートしましょう\n",
        "\n",
        "大部分の人の目的はCytoscapeの画を論文のFigureに使うことでしょう。\n",
        "ですので画像を取得する方法が知りたいでしょう。"
      ],
      "id": "mUjGaWdNZET-"
    },
    {
      "cell_type": "code",
      "metadata": {
        "id": "WcKBMWeEZH3P"
      },
      "source": [
        "exportImage(\"my_first_network\", type = \"png\")"
      ],
      "id": "WcKBMWeEZH3P",
      "execution_count": null,
      "outputs": []
    },
    {
      "cell_type": "code",
      "metadata": {
        "id": "aXo-LB5jZOFa"
      },
      "source": [
        "library(RCurl)\n",
        "matrix <- getURL(\"https://raw.githubusercontent.com/cytoscape/cytoscape-tutorials/gh-pages/presentations/modules/RCy3_ExampleData/data/TCGA_OV_RNAseq_All_edgeR_scores.txt\")\n",
        "RNASeq_gene_scores <- read.table(text=matrix, header = TRUE, sep = \"\\t\", quote=\"\\\"\", stringsAsFactors = FALSE)"
      ],
      "id": "aXo-LB5jZOFa",
      "execution_count": null,
      "outputs": []
    },
    {
      "cell_type": "code",
      "metadata": {
        "id": "1wh7K2kSZQdy"
      },
      "source": [
        "RNASeq_gene_scores"
      ],
      "id": "1wh7K2kSZQdy",
      "execution_count": null,
      "outputs": []
    },
    {
      "cell_type": "markdown",
      "metadata": {
        "id": "930V7Zh_ZKrH"
      },
      "source": [
        ""
      ],
      "id": "930V7Zh_ZKrH"
    }
  ]
}