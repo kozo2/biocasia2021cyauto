{
 "cells": [
  {
   "cell_type": "markdown",
   "id": "8ae147eb-0b99-42ff-86c1-3039b9f5ec9c",
   "metadata": {
    "id": "8ae147eb-0b99-42ff-86c1-3039b9f5ec9c"
   },
   "source": [
    "# ワークショップ前の手順\n",
    "\n",
    "*ワークショップの前に* 次の手順を実行してください。\n",
    "\n",
    "## ステップ 1: デスクトップ環境に最新のCytoscape (3.9.0) をインストールします\n",
    "- [ここから Cytoscape のインストーラをダウンロード](https://cytoscape.org/download.html)。\n",
    "- Javaが無ければ合わせてインストールしてくれます。\n",
    "- スタートメニューまたはデスクトップショートカットからCytoscape3.9.0を起動します\n",
    "\n",
    "![image](https://user-images.githubusercontent.com/12192/139441980-5d73579f-39dd-45da-916b-759eff99474d.png)\n",
    "\n",
    "- 上の画像のようなメッセージが表示されますので、OKボタンを押してCytoscapeを再起動してください。\n",
    "- Cytoscape は立ち上げっぱなしにしておいてください。\n",
    "\n",
    "## ステップ 2: Docker 環境の立ち上げと Google Chrome を用いたその環境へのアクセス\n",
    "- `docker run -d -p 8888:8888 kozo2/cyautoworkshop` をあなたのPCで実行します。\n",
    "- Google Chrome で `http://localhost:8888` を開きます。Safariでは動作しません。Firefoxは動作するかもしれませんが確認していません。\n",
    "\n",
    "# ワークショップ (入門編)\n",
    "\n",
    "## 自己紹介\n",
    "\n",
    "西田 孝三\n",
    "\n",
    "- Bioconductor Community Advisory Board (CAB) のメンバー\n",
    "- RCy3 を用いた Bioconductor package (transomics2cytoscape) の作者\n",
    "- Cytoscape のコミュニティへの貢献 (Google Summer of Code, Google Season of Docs)\n",
    "- KEGGscape Cytoscape App の KEGGscape の作者\n",
    "\n",
    "## Cytoscape とは何ですか?\n",
    "\n",
    "![image](https://user-images.githubusercontent.com/12192/139426468-915e9a76-7e4e-4a37-aee9-3d0e344f551e.png)\n",
    "\n",
    "- オープンソースの、クロスプラットフォームの、JavaデスクトップGUIアプリ。\n",
    "- ネットワーク可視化のためのもの。\n",
    "\n",
    "### コアコンセプト\n",
    "\n",
    "**ネットワークとテーブル**: ネットワークのノードとエッジはアノテーションのテーブルを持っています。\n",
    "\n",
    "![image](https://user-images.githubusercontent.com/12192/139427094-bfd9a839-dabf-468d-8f28-6458443c8e61.png)\n",
    "\n",
    "![image](https://user-images.githubusercontent.com/12192/139427149-4f0fe568-3851-4de6-834e-2e809e85f1be.png)\n",
    "\n",
    "色、形、サイズ、他何らか、といった「見栄え」をアノテーションの値によってスタイリングします。\n",
    "\n",
    "## なぜ自動化する必要があるんですか?\n",
    "GUIを直接使用できるのに、なぜCytoscapeを自動化するのですか？\n",
    "\n",
    "- ループなど、複数回実行したいことのために\n",
    "- 将来繰り返したいこと(再現)のために\n",
    "- 同僚と共有したり公開したりしたいもののために\n",
    "- RやPythonなどですでに取り組んでいるものを活かすために\n",
    "\n",
    "端的には「再現性」「データ共有」「RかPythonの資源活用」のため。\n",
    "\n",
    "## Cytoscape GUI操作はどのように自動化を実現しているのですか?\n",
    "\n",
    "![image](https://user-images.githubusercontent.com/12192/139397677-80076550-e458-4bd4-9ab5-ba48ef6843b9.png)\n",
    "\n",
    "- REST APIでそれを可能にしています。ほとんどすべてのGUI 操作がREST APIで行えるようになっています。\n",
    "- 昨今のCytoscapeはデスクトップアプリケーションであるだけでなく、RESTサーバーでもあります。\n",
    "- 以下のコマンドで、Cytoscapeがサーバーとして機能しているかどうかを確認できます。\n",
    "\n",
    "  ```\n",
    "  curl localhost:1234\n",
    "  ```\n",
    "\n",
    "- RCy3 または py4cytoscape といったパッケージはそのREST APIのラッパーです。\n",
    "- py4cytoscape は RCy3 の Pythonクローンです。最近できました。py4cytoscape は RCy3 と同じ関数仕様を持っているため、片方使えると両方使えるようになったのと同じです。\n",
    "- バイオインフォマティクスにはテーブル操作が不可欠であるため、RやPythonでCytoscapeを操作できると便利です。dplyrやpandasがあるからです。そういったテーブル操作をCytoscapeのGUIで行うのは面倒です。\n",
    "\n",
    "[CyREST: Turbocharging Cytoscape Access for External Tools via a RESTful API. F1000Research 2015.](https://dx.doi.org/10.12688%2Ff1000research.6767.1)\n",
    "\n",
    "[Cytoscape Automation: empowering workflow-based network analysis. Genome Biology 2019.](https://doi.org/10.1186/s13059-019-1758-4)\n",
    "\n",
    "## RCy3を用いた自動化\n",
    "\n",
    "![image](https://user-images.githubusercontent.com/12192/139400142-8a2a764b-dbbe-4e47-9d3c-d4cc07602468.png)\n",
    "\n",
    "[RCy3: Network biology using Cytoscape from within R. F1000Research 2019.](https://f1000research.com/articles/8-1774)\n",
    "\n",
    "## RCy3を使用してRのデータをCytoscapeネットワークに変換する\n",
    "\n",
    "ネットワークは、生物学的データを表すための便利な方法を提供してくれます。\n",
    "しかし、データをRからCytoscapeにシームレスに変換するにはどうすればよいでしょうか?\n",
    "\n",
    "![image](https://user-images.githubusercontent.com/12192/139404069-536a67a2-e8fe-4072-bc42-74bfb060f924.png)\n",
    "\n",
    "ここからいよいよハンズオンです。細かいことはおいておいてとにかくRとCytoscapeを接続しましょう。\n",
    "\n",
    "以下のコードを実行する前に、ローカルのCytoscapeが完全に起動しきっていることを確認してください。\n",
    "Cytoscapeが起動し、RESTサーバーが完全に起動するまでには少し時間がかかります。\n",
    "(大体10秒くらい待ちます。)"
   ]
  },
  {
   "cell_type": "code",
   "execution_count": 1,
   "id": "5bf6427f-274e-4a0f-bc84-bfb386d3eb0e",
   "metadata": {
    "id": "5bf6427f-274e-4a0f-bc84-bfb386d3eb0e"
   },
   "outputs": [
    {
     "data": {
      "application/javascript": [
       "var Channel = \"14d9f849-d22c-4449-a493-2ce5a66d6687\"; \n",
       "\n",
       " var JupyterBridge = \"https://jupyter-bridge.cytoscape.org\"; \n",
       "\n",
       "  /*\n",
       "    These functions serve as a connector between a remote Jupyter server and Cytoscape.\n",
       "    They run in the user's browser, which also shows the Jupyter Notebook.\n",
       "\n",
       "    A remote Jupyter Notebook call to the py4cytoscape package is forwarded to the Jupyter Bridge,\n",
       "    which is a standalone server. The functions in this connector execute in the Jupyter Notebook\n",
       "    browser, which executes on the same PC as Cytoscape. So, that's 4 components: (A) remote\n",
       "    Jupyter Notebook, (B) separate Jupyter Bridge server, (C) this browser-based component, and\n",
       "    (D) Cytoscape. (A) is on a remote server, (B) is on a different remote server, and (C) and (D)\n",
       "    are on the user's PC.\n",
       "\n",
       "    (A) calls its py4cytoscape module, which forwards the request (in a JSON wrapper) to (B).\n",
       "    (C) picks up the request from (B), unpacks the request and forwards it to (D). (C) awaits a\n",
       "    reply from (D), and when it gets it, it forwards the reply (in a JSON wrapper) to (B).\n",
       "    (A)'s py4cytoscape module picks up the reply on (B) when it becomes available, unpacks it,\n",
       "    and returns it to (A).\n",
       "\n",
       "    A Jupyter Notebook can talk to only one Cytoscape (i.e., the one on the machine running the\n",
       "    Jupyter Notebook browser), and Cytoscape should be called by only one Jupyter Notebook. The\n",
       "    Jupyter Bridge differentiates between Notebook-Cytoscape conversations via a channel UUID.\n",
       "    The UUID is prepended to this browser component by py4Cytoscape, and the component is\n",
       "    started by the Jupyter Notebook. (I wish py4Cytoscape could start the component, too, but I\n",
       "    haven't figured out how to do that yet, so startup code *is* required in the Jupyter\n",
       "    Notebook.)\n",
       "\n",
       "    Note that for the case of a Jupyter server running on the same machine as Cytoscape, this\n",
       "    bridge isn't necessary because the Jupyter server's HTTP calls can easily connect to\n",
       "    Cytoscape over a localhost socket. So, the combination of Jupyter Bridge and this browser\n",
       "    component solves the problem of a Jupyter server (e.g., Google's Colab) that can't\n",
       "    connect to Cytoscape that sits behind a firewall.\n",
       "\n",
       "    The request represents an HTTP call that py4cytoscape would normally make via HTTP directly\n",
       "    to Cytoscape via localhost when both py4cytoscape and Cytoscape are running on the same machine.\n",
       " */\n",
       "\n",
       "const VERSION = '0.0.2'\n",
       "\n",
       "var showDebug; // Flag indicating whether to show Jupyter-bridge progress\n",
       "if (typeof showDebug === 'undefined') {\n",
       "    showDebug = false\n",
       "}\n",
       "if (showDebug) {\n",
       "    alert(\"Starting Jupyter-bridge browser component\")\n",
       "}\n",
       "\n",
       "//const JupyterBridge = 'http://127.0.0.1:5000' // for testing against local Jupyter-bridge\n",
       "var JupyterBridge; // URL of Jupyter-bridge server could be defined by assignment pre-pended to this file\n",
       "if (typeof JupyterBridge === 'undefined') {\n",
       "    JupyterBridge = 'https://jupyter-bridge.cytoscape.org' // for production\n",
       "}\n",
       "var Channel; // Unique constant that could be defined by assignment pre-pended to this file\n",
       "if (typeof Channel === 'undefined') { // ... but if not assigned, use a debugging value\n",
       "    Channel = 1\n",
       "}\n",
       "\n",
       "\n",
       "var httpR = new XMLHttpRequest(); // for sending reply to Jupyter-bridge\n",
       "var httpRE = new XMLHttpRequest(); // for sending backup error reply to Jupyter-bridge\n",
       "var httpC = new XMLHttpRequest(); // for sending command to Cytoscape\n",
       "var httpJ = new XMLHttpRequest(); // for fetching request from Jupyter-bridge\n",
       "\n",
       "const HTTP_OK = 200\n",
       "const HTTP_SYS_ERR = 500\n",
       "const HTTP_TIMEOUT = 408\n",
       "const HTTP_TOO_MANY = 429\n",
       "\n",
       "\n",
       " /* This function is useful if we want to rewrite the incoming URL to resolve just to our local one.\n",
       "    Doing this stops the Jupyter component from abusing this client to call out to endpoints other\n",
       "    than local Cytoscape. On the other hand, it makes it hard to detect when the Jupyter component\n",
       "    has specified a genuinely bad URL and really should get an error result. For now, we'll execute\n",
       "    the Jupyter-supplied URL and return the result, whatever it may be.\n",
       "\n",
       "const LocalCytoscape = 'http://127.0.0.1:1234'\n",
       "\n",
       "function parseURL(url) {\n",
       "    var reURLInformation = new RegExp([\n",
       "        '^(https?:)//', // protocol\n",
       "        '(([^:/?#]*)(?::([0-9]+))?)', // host (hostname and port)\n",
       "        '(/{0,1}[^?#]*)', // pathname\n",
       "        '(\\\\?[^#]*|)', // search\n",
       "        '(#.*|)$' // hash\n",
       "    ].join(''));\n",
       "    var match = url.match(reURLInformation);\n",
       "    return match && {\n",
       "        url: url,\n",
       "        protocol: match[1],\n",
       "        host: match[2],\n",
       "        hostname: match[3],\n",
       "        port: match[4],\n",
       "        pathname: match[5],\n",
       "        search: match[6],\n",
       "        hash: match[7]\n",
       "    }\n",
       "}\n",
       "*/\n",
       "\n",
       "function replyCytoscape(replyStatus, replyStatusText, replyText) {\n",
       "\n",
       "    // Clean up after Jupyter bridge accepts reply\n",
       "    httpR.onreadystatechange = function() {\n",
       "        if (httpR.readyState === 4) {\n",
       "            if (showDebug) {\n",
       "                console.log(' status from queue_reply: ' + httpR.status + ', reply: ' + httpR.responseText)\n",
       "            }\n",
       "        }\n",
       "    }\n",
       "\n",
       "    httpR.onerror = function() {\n",
       "        // Clean up after Jupyter bridge accepts backup reply\n",
       "        httpRE.onreadystatechange = function() {\n",
       "            if (httpRE.readyState === 4) {\n",
       "                if (showDebug) {\n",
       "                    console.log(' status from backup queue_reply: ' + httpRE.status + ', reply: ' + httpRE.responseText)\n",
       "                }\n",
       "            }\n",
       "        }\n",
       "\n",
       "        if (showDebug) {\n",
       "            console.log(' error from queue_reply -- could be Jupyter-Bridge server reject')\n",
       "        }\n",
       "        var errReply = {'status': HTTP_SYS_ERR, 'reason': 'Jupyter-Bridge rejected reply', 'text': 'Possibly reply is too long for Jupyter-Bridge server'}\n",
       "        httpRE.open('POST', jupyterBridgeURL, true)\n",
       "        httpRE.setRequestHeader('Content-Type', 'text/plain')\n",
       "        httpRE.send(JSON.stringify(errReply))\n",
       "    }\n",
       "\n",
       "    var reply = {'status': replyStatus, 'reason': replyStatusText, 'text': replyText}\n",
       "\n",
       "    // Send reply to Jupyter bridge\n",
       "    var jupyterBridgeURL = JupyterBridge + '/queue_reply?channel=' + Channel\n",
       "    if (showDebug) {\n",
       "        console.log('Starting queue to Jupyter bridge: ' + jupyterBridgeURL)\n",
       "    }\n",
       "    httpR.open('POST', jupyterBridgeURL, true)\n",
       "    httpR.setRequestHeader('Content-Type', 'text/plain')\n",
       "    httpR.send(JSON.stringify(reply))\n",
       "}\n",
       "\n",
       "function callCytoscape(callSpec) {\n",
       "\n",
       "    // Captures Cytoscape reply and sends it on\n",
       "    httpC.onreadystatechange = function() {\n",
       "        if (httpC.readyState === 4) {\n",
       "            if (showDebug) {\n",
       "                console.log(' status from CyREST: ' + httpC.status + ', statusText: ' + httpC.statusText + ', reply: ' + httpC.responseText)\n",
       "            }\n",
       "            // Note that httpC.status is 0 if the URL can't be reached *OR* there is a CORS violation.\n",
       "            // I wish I could tell the difference because for a CORS violation, I'd return a 404,\n",
       "            // which would roughly match what Python's native request package would return.\n",
       "            // The practical consequence is that the ultimate caller (e.g., py4cytoscape)\n",
       "            // returns different exceptions, depending on wither this module is doing the\n",
       "            // HTTP operation or the native Python requests package is. This is minor, but\n",
       "            // messes up tests that verify the exception type.\n",
       "            replyCytoscape(httpC.status, httpC.statusText, httpC.responseText)\n",
       "            waitOnJupyterBridge()\n",
       "        }\n",
       "    }\n",
       "\n",
       "//  Build up request to Cytoscape, making sure host is local.\n",
       "//    Too heavy handed: localURL = LocalCytoscape + parseURL(callSpec.url).pathname\n",
       "    var localURL = callSpec.url // Try using what was passed in ... is there a security risk??\n",
       "\n",
       "    if (showDebug) {\n",
       "        console.log('Command to CyREST: ' + callSpec.command + ' (' + localURL + ')')\n",
       "        if (callSpec.params) {\n",
       "            console.log(' params: ' + JSON.stringify(callSpec.params))\n",
       "        }\n",
       "        if (callSpec.headers) {\n",
       "            console.log(' header: ' + JSON.stringify(callSpec.headers))\n",
       "        }\n",
       "        if (callSpec.data) {\n",
       "            console.log('   data: ' + JSON.stringify(callSpec.data))\n",
       "        }\n",
       "    }\n",
       "\n",
       "    if (callSpec.command === 'webbrowser') {\n",
       "        if (window.open(callSpec.url)) {\n",
       "            replyCytoscape(HTTP_OK, 'OK', '')\n",
       "        } else {\n",
       "            replyCytoscape(HTTP_SYS_ERR, 'BAD BROWSER OPEN', '')\n",
       "        }\n",
       "        waitOnJupyterBridge()\n",
       "    } else if (callSpec.command === 'version') {\n",
       "        replyCytoscape(HTTP_OK, 'OK',\n",
       "            JSON.stringify({\"jupyterBridgeVersion\": VERSION}))\n",
       "        waitOnJupyterBridge()\n",
       "    } else {\n",
       "        var joiner = '?'\n",
       "        for (let param in callSpec.params) {\n",
       "            localURL = localURL + joiner + param + '=' + encodeURIComponent(callSpec.params[param])\n",
       "            joiner = '&'\n",
       "        }\n",
       "\n",
       "        httpC.open(callSpec.command, localURL, true)\n",
       "        for (let header in callSpec.headers) {\n",
       "            httpC.setRequestHeader(header, callSpec.headers[header])\n",
       "        }\n",
       "\n",
       "        // Send request to Cytoscape ... reply goes to onreadystatechange handler\n",
       "        httpC.send(JSON.stringify(callSpec.data))\n",
       "    }\n",
       "}\n",
       "\n",
       "function waitOnJupyterBridge() {\n",
       "\n",
       "    // Captures request from Jupyter bridge\n",
       "    httpJ.onreadystatechange = function() {\n",
       "        if (httpJ.readyState === 4) {\n",
       "            if (showDebug) {\n",
       "                console.log(' status from dequeue_request: ' + httpJ.status + ', reply: ' + httpJ.responseText)\n",
       "            }\n",
       "            try {\n",
       "                if (httpJ.status == HTTP_TOO_MANY) {\n",
       "                    // Nothing more to do ... the browser has created too many listeners,\n",
       "                    // and it's time to stop listening because the server saw a listener\n",
       "                    // listening on this channel before we got there.\n",
       "                    console.log('  shutting down because of redundant reader on channel: ' + Channel)\n",
       "                } else {\n",
       "                    if (httpJ.status === HTTP_TIMEOUT) {\n",
       "                        waitOnJupyterBridge()\n",
       "                    } else {\n",
       "                        callCytoscape(JSON.parse(httpJ.responseText))\n",
       "                    }\n",
       "                }\n",
       "            } catch(err) {\n",
       "                if (showDebug) {\n",
       "                    console.log(' exception calling Cytoscape: ' + err)\n",
       "                }\n",
       "                // Bad responseText means something bad happened that we don't understand.\n",
       "                // Go wait on another request, as there's nothing to call Cytoscape with.\n",
       "                waitOnJupyterBridge()\n",
       "            }\n",
       "        }\n",
       "    }\n",
       "\n",
       "    // Wait for request from Jupyter bridge\n",
       "    var jupyterBridgeURL = JupyterBridge + '/dequeue_request?channel=' + Channel\n",
       "    if (showDebug) {\n",
       "        console.log('Starting dequeue on Jupyter bridge: ' + jupyterBridgeURL)\n",
       "    }\n",
       "    httpJ.open('GET', jupyterBridgeURL, true)\n",
       "    httpJ.send()\n",
       "}\n",
       "\n",
       "// This kicks off a loop that ends by calling waitOnJupyterBridge again. This first call\n",
       "// ejects any dead readers before we start a read\n",
       "waitOnJupyterBridge() // Wait for message from Jupyter bridge, execute it, and return reply\n",
       "\n",
       "if (showDebug) {\n",
       "    alert(\"Jupyter-bridge browser component is started on \" + JupyterBridge + ', channel ' + Channel)\n",
       "}\n"
      ]
     },
     "metadata": {},
     "output_type": "display_data"
    },
    {
     "name": "stderr",
     "output_type": "stream",
     "text": [
      "You are connected to Cytoscape!\n",
      "\n"
     ]
    }
   ],
   "source": [
    "library(RCy3)\n",
    "browserClientJs <- getBrowserClientJs()\n",
    "IRdisplay::display_javascript(browserClientJs)\n",
    "cytoscapePing()"
   ]
  },
  {
   "cell_type": "markdown",
   "id": "XcEzk037Yon7",
   "metadata": {
    "id": "XcEzk037Yon7"
   },
   "source": [
    "### なぜ Jupyter が Cytoscape の REST サービスと通信できたのですか？\n",
    "\n",
    "下記で何が起こったのかについての詳細な説明が必要ですね。\n",
    "\n",
    "```\n",
    "browserClientJs <- getBrowserClientJs()\n",
    "IRdisplay::display_javascript(browserClientJs)\n",
    "```\n",
    "\n",
    "上記のコードでは、**Jupyter Bridge** と呼ばれるテクノロジーを使用しました。\n",
    "Jupyter Bridgeは、リモートの REST クライアントからの HTTP リクエストをローカルリクエストのように見せかける JavaScript 実装です。\n",
    "\n",
    "![image](https://user-images.githubusercontent.com/12192/139530994-8afd99b2-1175-46b3-9ad7-166d8ba78f2a.png)\n",
    "\n",
    "デスクトップ環境内のCytoscapeにリモート環境からアクセスするのは難しいため、Jupyter Bridgeを使用します。\n",
    "\n",
    "そしてこのワークショップが他のワークショップと違って [Orchestra](http://app.orchestra.cancerdatasci.org/) で動かなかったのは\n",
    "この Jupyter Bridge のせいでもあります。\n",
    "\n",
    "そのため私はローカルの Docker 環境内の Jupyter で Jupyter Bridge を使いました。\n",
    "ローカルでなくても Orchestra でないリモートサーバーで私の Docker イメージを使うなら問題無く動作します。\n",
    "\n",
    "### (で) なぜ Jupyter Bridge を使うのですか? ややこしくないですか? ノートブックを使わなければよいのではないですか?\n",
    "\n",
    "- ユーザーは依存関係や環境について心配する必要が無いからです。\n",
    "- ノートブックベースのワークフローとデータセットを簡単に共有できるからです。\n",
    "- ワークフローはクラウドに常駐し、クラウドリソースにアクセスし、それでもCytoscape機能を使用できるところがよいのです。\n",
    "\n",
    "### RデータをCytoscapeネットワークに変換する方法に戻りましょう...\n",
    "\n",
    "いくつかの基本的なRオブジェクトからCytoscapeネットワークを作成します\n"
   ]
  },
  {
   "cell_type": "code",
   "execution_count": 2,
   "id": "4-Utte_bYteT",
   "metadata": {
    "id": "4-Utte_bYteT"
   },
   "outputs": [],
   "source": [
    "nodes <- data.frame(id=c(\"node 0\",\"node 1\",\"node 2\",\"node 3\"),\n",
    "    group=c(\"A\",\"A\",\"B\",\"B\"), # categorical strings\n",
    "    score=as.integer(c(20,10,15,5)), # integers\n",
    "    stringsAsFactors=FALSE)"
   ]
  },
  {
   "cell_type": "code",
   "execution_count": 3,
   "id": "EJ_s4bTXYwsl",
   "metadata": {
    "id": "EJ_s4bTXYwsl"
   },
   "outputs": [
    {
     "data": {
      "text/html": [
       "<table class=\"dataframe\">\n",
       "<caption>A data.frame: 4 × 3</caption>\n",
       "<thead>\n",
       "\t<tr><th scope=col>id</th><th scope=col>group</th><th scope=col>score</th></tr>\n",
       "\t<tr><th scope=col>&lt;chr&gt;</th><th scope=col>&lt;chr&gt;</th><th scope=col>&lt;int&gt;</th></tr>\n",
       "</thead>\n",
       "<tbody>\n",
       "\t<tr><td>node 0</td><td>A</td><td>20</td></tr>\n",
       "\t<tr><td>node 1</td><td>A</td><td>10</td></tr>\n",
       "\t<tr><td>node 2</td><td>B</td><td>15</td></tr>\n",
       "\t<tr><td>node 3</td><td>B</td><td> 5</td></tr>\n",
       "</tbody>\n",
       "</table>\n"
      ],
      "text/latex": [
       "A data.frame: 4 × 3\n",
       "\\begin{tabular}{lll}\n",
       " id & group & score\\\\\n",
       " <chr> & <chr> & <int>\\\\\n",
       "\\hline\n",
       "\t node 0 & A & 20\\\\\n",
       "\t node 1 & A & 10\\\\\n",
       "\t node 2 & B & 15\\\\\n",
       "\t node 3 & B &  5\\\\\n",
       "\\end{tabular}\n"
      ],
      "text/markdown": [
       "\n",
       "A data.frame: 4 × 3\n",
       "\n",
       "| id &lt;chr&gt; | group &lt;chr&gt; | score &lt;int&gt; |\n",
       "|---|---|---|\n",
       "| node 0 | A | 20 |\n",
       "| node 1 | A | 10 |\n",
       "| node 2 | B | 15 |\n",
       "| node 3 | B |  5 |\n",
       "\n"
      ],
      "text/plain": [
       "  id     group score\n",
       "1 node 0 A     20   \n",
       "2 node 1 A     10   \n",
       "3 node 2 B     15   \n",
       "4 node 3 B      5   "
      ]
     },
     "metadata": {},
     "output_type": "display_data"
    }
   ],
   "source": [
    "nodes"
   ]
  },
  {
   "cell_type": "code",
   "execution_count": 4,
   "id": "5nkkhZHIYxUI",
   "metadata": {
    "id": "5nkkhZHIYxUI"
   },
   "outputs": [],
   "source": [
    "edges <- data.frame(source=c(\"node 0\",\"node 0\",\"node 0\",\"node 2\"),\n",
    "    target=c(\"node 1\",\"node 2\",\"node 3\",\"node 3\"),\n",
    "    interaction=c(\"inhibits\",\"interacts\",\"activates\",\"interacts\"),  # optional\n",
    "    weight=c(5.1,3.0,5.2,9.9), # numeric\n",
    "    stringsAsFactors=FALSE)"
   ]
  },
  {
   "cell_type": "code",
   "execution_count": 5,
   "id": "KAtWfU4uY5Fe",
   "metadata": {
    "id": "KAtWfU4uY5Fe"
   },
   "outputs": [
    {
     "data": {
      "text/html": [
       "<table class=\"dataframe\">\n",
       "<caption>A data.frame: 4 × 4</caption>\n",
       "<thead>\n",
       "\t<tr><th scope=col>source</th><th scope=col>target</th><th scope=col>interaction</th><th scope=col>weight</th></tr>\n",
       "\t<tr><th scope=col>&lt;chr&gt;</th><th scope=col>&lt;chr&gt;</th><th scope=col>&lt;chr&gt;</th><th scope=col>&lt;dbl&gt;</th></tr>\n",
       "</thead>\n",
       "<tbody>\n",
       "\t<tr><td>node 0</td><td>node 1</td><td>inhibits </td><td>5.1</td></tr>\n",
       "\t<tr><td>node 0</td><td>node 2</td><td>interacts</td><td>3.0</td></tr>\n",
       "\t<tr><td>node 0</td><td>node 3</td><td>activates</td><td>5.2</td></tr>\n",
       "\t<tr><td>node 2</td><td>node 3</td><td>interacts</td><td>9.9</td></tr>\n",
       "</tbody>\n",
       "</table>\n"
      ],
      "text/latex": [
       "A data.frame: 4 × 4\n",
       "\\begin{tabular}{llll}\n",
       " source & target & interaction & weight\\\\\n",
       " <chr> & <chr> & <chr> & <dbl>\\\\\n",
       "\\hline\n",
       "\t node 0 & node 1 & inhibits  & 5.1\\\\\n",
       "\t node 0 & node 2 & interacts & 3.0\\\\\n",
       "\t node 0 & node 3 & activates & 5.2\\\\\n",
       "\t node 2 & node 3 & interacts & 9.9\\\\\n",
       "\\end{tabular}\n"
      ],
      "text/markdown": [
       "\n",
       "A data.frame: 4 × 4\n",
       "\n",
       "| source &lt;chr&gt; | target &lt;chr&gt; | interaction &lt;chr&gt; | weight &lt;dbl&gt; |\n",
       "|---|---|---|---|\n",
       "| node 0 | node 1 | inhibits  | 5.1 |\n",
       "| node 0 | node 2 | interacts | 3.0 |\n",
       "| node 0 | node 3 | activates | 5.2 |\n",
       "| node 2 | node 3 | interacts | 9.9 |\n",
       "\n"
      ],
      "text/plain": [
       "  source target interaction weight\n",
       "1 node 0 node 1 inhibits    5.1   \n",
       "2 node 0 node 2 interacts   3.0   \n",
       "3 node 0 node 3 activates   5.2   \n",
       "4 node 2 node 3 interacts   9.9   "
      ]
     },
     "metadata": {},
     "output_type": "display_data"
    }
   ],
   "source": [
    "edges"
   ]
  },
  {
   "cell_type": "markdown",
   "id": "D-51rfyDY_Dq",
   "metadata": {
    "id": "D-51rfyDY_Dq"
   },
   "source": [
    "#### ネットワークの作成に使用されるデータフレーム\n",
    "\n",
    "![image](https://user-images.githubusercontent.com/12192/139534280-0c569dfd-d66d-4054-9b58-becce79225bc.png)\n",
    "\n",
    "#### さあ、RCy3からネットワークを作りましょう"
   ]
  },
  {
   "cell_type": "code",
   "execution_count": 6,
   "id": "QSU-UlqxZABT",
   "metadata": {
    "id": "QSU-UlqxZABT"
   },
   "outputs": [
    {
     "name": "stderr",
     "output_type": "stream",
     "text": [
      "Loading data...\n",
      "\n",
      "\n",
      "Applying default style...\n",
      "\n",
      "\n",
      "Applying preferred layout...\n",
      "\n",
      "\n"
     ]
    },
    {
     "data": {
      "text/html": [
       "<strong>networkSUID:</strong> 285"
      ],
      "text/latex": [
       "\\textbf{networkSUID:} 285"
      ],
      "text/markdown": [
       "**networkSUID:** 285"
      ],
      "text/plain": [
       "networkSUID \n",
       "        285 "
      ]
     },
     "metadata": {},
     "output_type": "display_data"
    }
   ],
   "source": [
    "createNetworkFromDataFrames(nodes, edges, title=\"my first network\", collection=\"DataFrame Example\")"
   ]
  },
  {
   "cell_type": "markdown",
   "id": "mUjGaWdNZET-",
   "metadata": {
    "id": "mUjGaWdNZET-"
   },
   "source": [
    "#### ネットワークの画像をエクスポートしましょう\n",
    "\n",
    "大部分の人の目的はCytoscapeの画を論文のFigureに使うことでしょう。\n",
    "ですので画像を取得する方法が知りたいでしょう。"
   ]
  },
  {
   "cell_type": "code",
   "execution_count": 7,
   "id": "WcKBMWeEZH3P",
   "metadata": {
    "id": "WcKBMWeEZH3P"
   },
   "outputs": [
    {
     "data": {
      "text/html": [
       "<strong>file:</strong> 'C:\\\\Users\\\\kozo2\\\\CytoscapeConfiguration\\\\filetransfer\\\\default_sandbox\\\\my_first_network.png'"
      ],
      "text/latex": [
       "\\textbf{file:} 'C:\\textbackslash{}\\textbackslash{}Users\\textbackslash{}\\textbackslash{}kozo2\\textbackslash{}\\textbackslash{}CytoscapeConfiguration\\textbackslash{}\\textbackslash{}filetransfer\\textbackslash{}\\textbackslash{}default\\_sandbox\\textbackslash{}\\textbackslash{}my\\_first\\_network.png'"
      ],
      "text/markdown": [
       "**file:** 'C:\\\\Users\\\\kozo2\\\\CytoscapeConfiguration\\\\filetransfer\\\\default_sandbox\\\\my_first_network.png'"
      ],
      "text/plain": [
       "                                                                                           file \n",
       "\"C:\\\\Users\\\\kozo2\\\\CytoscapeConfiguration\\\\filetransfer\\\\default_sandbox\\\\my_first_network.png\" "
      ]
     },
     "metadata": {},
     "output_type": "display_data"
    }
   ],
   "source": [
    "exportImage(\"my_first_network\", type = \"png\")"
   ]
  },
  {
   "cell_type": "code",
   "execution_count": 8,
   "id": "aXo-LB5jZOFa",
   "metadata": {
    "id": "aXo-LB5jZOFa"
   },
   "outputs": [],
   "source": [
    "library(RCurl)\n",
    "matrix <- getURL(\"https://raw.githubusercontent.com/cytoscape/cytoscape-tutorials/gh-pages/presentations/modules/RCy3_ExampleData/data/TCGA_OV_RNAseq_All_edgeR_scores.txt\")\n",
    "RNASeq_gene_scores <- read.table(text=matrix, header = TRUE, sep = \"\\t\", quote=\"\\\"\", stringsAsFactors = FALSE)"
   ]
  },
  {
   "cell_type": "code",
   "execution_count": 9,
   "id": "1wh7K2kSZQdy",
   "metadata": {
    "id": "1wh7K2kSZQdy"
   },
   "outputs": [
    {
     "data": {
      "text/html": [
       "<table class=\"dataframe\">\n",
       "<caption>A data.frame: 15211 × 23</caption>\n",
       "<thead>\n",
       "\t<tr><th scope=col>Name</th><th scope=col>geneid</th><th scope=col>logFC.mesen</th><th scope=col>logCPM.mesen</th><th scope=col>LR.mesen</th><th scope=col>PValue.mesen</th><th scope=col>FDR.mesen</th><th scope=col>logFC.diff</th><th scope=col>logCPM.diff</th><th scope=col>LR.diff</th><th scope=col>⋯</th><th scope=col>logFC.immuno</th><th scope=col>logCPM.immuno</th><th scope=col>LR.immuno</th><th scope=col>PValue.immuno</th><th scope=col>FDR.immuno</th><th scope=col>logFC.prolif</th><th scope=col>logCPM.prolif</th><th scope=col>LR.prolif</th><th scope=col>PValue.prolif</th><th scope=col>FDR.prolif</th></tr>\n",
       "\t<tr><th scope=col>&lt;chr&gt;</th><th scope=col>&lt;int&gt;</th><th scope=col>&lt;dbl&gt;</th><th scope=col>&lt;dbl&gt;</th><th scope=col>&lt;dbl&gt;</th><th scope=col>&lt;dbl&gt;</th><th scope=col>&lt;dbl&gt;</th><th scope=col>&lt;dbl&gt;</th><th scope=col>&lt;dbl&gt;</th><th scope=col>&lt;dbl&gt;</th><th scope=col>⋯</th><th scope=col>&lt;dbl&gt;</th><th scope=col>&lt;dbl&gt;</th><th scope=col>&lt;dbl&gt;</th><th scope=col>&lt;dbl&gt;</th><th scope=col>&lt;dbl&gt;</th><th scope=col>&lt;dbl&gt;</th><th scope=col>&lt;dbl&gt;</th><th scope=col>&lt;dbl&gt;</th><th scope=col>&lt;dbl&gt;</th><th scope=col>&lt;dbl&gt;</th></tr>\n",
       "</thead>\n",
       "<tbody>\n",
       "\t<tr><td>A1BG       </td><td>     1</td><td>-0.077320895</td><td>2.5827100</td><td> 0.265542288</td><td>6.063378e-01</td><td>7.038775e-01</td><td>-0.242890159</td><td>2.5827100</td><td>2.490778e+00</td><td>⋯</td><td> 0.39312991</td><td>2.5827100</td><td> 7.67701142</td><td>5.592872e-03</td><td>0.017527558</td><td>-0.07291885</td><td>2.5827100</td><td> 0.2536317</td><td>6.145294e-01</td><td>6.852028e-01</td></tr>\n",
       "\t<tr><td>AADAT      </td><td> 51166</td><td> 0.070121562</td><td>2.2266988</td><td> 0.250469112</td><td>6.167450e-01</td><td>7.129096e-01</td><td>-0.586270386</td><td>2.2266988</td><td>1.559364e+01</td><td>⋯</td><td>-0.43841330</td><td>2.2266988</td><td> 9.80546955</td><td>1.739936e-03</td><td>0.006603769</td><td> 0.95456212</td><td>2.2266988</td><td>53.9597476</td><td>2.050000e-13</td><td>2.860000e-12</td></tr>\n",
       "\t<tr><td>ACADVL     </td><td>    37</td><td>-0.081684942</td><td>7.3203376</td><td> 0.928061773</td><td>3.353671e-01</td><td>4.493222e-01</td><td> 0.002490680</td><td>7.3203376</td><td>8.467680e-04</td><td>⋯</td><td> 0.12857053</td><td>7.3203376</td><td> 2.50393576</td><td>1.135622e-01</td><td>0.199550404</td><td>-0.04937627</td><td>7.3203376</td><td> 0.3652864</td><td>5.455849e-01</td><td>6.229750e-01</td></tr>\n",
       "\t<tr><td>ATP6V1G2   </td><td>   534</td><td>-0.314748726</td><td>1.2661867</td><td> 3.301836234</td><td>6.920248e-02</td><td>1.311622e-01</td><td>-0.357141995</td><td>1.2661867</td><td>4.100941e+00</td><td>⋯</td><td> 0.20418411</td><td>1.2661867</td><td> 1.57198027</td><td>2.099197e-01</td><td>0.322447272</td><td> 0.46770661</td><td>1.2661867</td><td> 8.5343521</td><td>3.485054e-03</td><td>7.837764e-03</td></tr>\n",
       "\t<tr><td>POU2F3     </td><td> 25833</td><td> 0.221858061</td><td>4.8887288</td><td> 1.239245261</td><td>2.656166e-01</td><td>3.745420e-01</td><td> 0.288698853</td><td>4.8887288</td><td>2.056991e+00</td><td>⋯</td><td> 0.86807297</td><td>4.8887288</td><td>21.37327834</td><td>3.780000e-06</td><td>0.000033800</td><td>-1.37862988</td><td>4.8887288</td><td>42.3202960</td><td>7.750000e-11</td><td>7.470000e-10</td></tr>\n",
       "\t<tr><td>POU5F1     </td><td>  5460</td><td>-0.727618829</td><td>1.7583399</td><td>11.139330420</td><td>8.451640e-04</td><td>3.591238e-03</td><td> 0.322238215</td><td>1.7583399</td><td>2.420652e+00</td><td>⋯</td><td> 0.66398983</td><td>1.7583399</td><td>11.56842358</td><td>6.708130e-04</td><td>0.002956941</td><td>-0.25860921</td><td>1.7583399</td><td> 1.6079839</td><td>2.047754e-01</td><td>2.763034e-01</td></tr>\n",
       "\t<tr><td>POU5F1B    </td><td>  5462</td><td>-0.421291192</td><td>0.4675505</td><td> 6.815279599</td><td>9.038115e-03</td><td>2.494789e-02</td><td>-0.142569674</td><td>0.4675505</td><td>7.833023e-01</td><td>⋯</td><td> 0.31208778</td><td>0.4675505</td><td> 4.34101042</td><td>3.720484e-02</td><td>0.082213828</td><td> 0.25177309</td><td>0.4675505</td><td> 2.8296153</td><td>9.254053e-02</td><td>1.403656e-01</td></tr>\n",
       "\t<tr><td>POU6F1     </td><td>  5463</td><td> 0.082304656</td><td>2.8167736</td><td> 0.625238935</td><td>4.291071e-01</td><td>5.427436e-01</td><td>-0.289833294</td><td>2.8167736</td><td>7.181229e+00</td><td>⋯</td><td>-0.04186972</td><td>2.8167736</td><td> 0.16957791</td><td>6.804872e-01</td><td>0.773949259</td><td> 0.24939836</td><td>2.8167736</td><td> 6.2590453</td><td>1.235608e-02</td><td>2.402360e-02</td></tr>\n",
       "\t<tr><td>POU6F2     </td><td> 11281</td><td>-0.269211034</td><td>0.4724774</td><td> 0.502561744</td><td>4.783767e-01</td><td>5.879032e-01</td><td>-0.929613277</td><td>0.4724774</td><td>5.332995e+00</td><td>⋯</td><td>-0.19907201</td><td>0.4724774</td><td> 0.29516453</td><td>5.869298e-01</td><td>0.697257048</td><td> 1.39789632</td><td>0.4724774</td><td>16.9657456</td><td>3.810000e-05</td><td>1.329450e-04</td></tr>\n",
       "\t<tr><td>PPA1       </td><td>  5464</td><td>-0.251474444</td><td>7.7013474</td><td> 6.349348630</td><td>1.174244e-02</td><td>3.091344e-02</td><td> 0.301206390</td><td>7.7013474</td><td>9.465266e+00</td><td>⋯</td><td> 0.40702444</td><td>7.7013474</td><td>19.02881073</td><td>1.290000e-05</td><td>0.000099500</td><td>-0.45675638</td><td>7.7013474</td><td>22.0003182</td><td>2.730000e-06</td><td>1.210000e-05</td></tr>\n",
       "\t<tr><td>PPA2       </td><td> 27068</td><td>-0.189782684</td><td>5.5349661</td><td> 5.936935106</td><td>1.482678e-02</td><td>3.741188e-02</td><td>-0.032226270</td><td>5.5349661</td><td>1.694910e-01</td><td>⋯</td><td> 0.25561506</td><td>5.5349661</td><td>12.04440461</td><td>5.194810e-04</td><td>0.002390303</td><td>-0.03360611</td><td>5.5349661</td><td> 0.2035812</td><td>6.518456e-01</td><td>7.186979e-01</td></tr>\n",
       "\t<tr><td>PPAN-P2RY11</td><td>692312</td><td>-0.495027529</td><td>2.6019555</td><td> 2.507779036</td><td>1.132855e-01</td><td>1.928274e-01</td><td> 0.245427620</td><td>2.6019555</td><td>6.563417e-01</td><td>⋯</td><td>-0.15811447</td><td>2.6019555</td><td> 0.28436075</td><td>5.938572e-01</td><td>0.703310483</td><td> 0.40771438</td><td>2.6019555</td><td> 2.0228975</td><td>1.549432e-01</td><td>2.180991e-01</td></tr>\n",
       "\t<tr><td>PPAN       </td><td> 56342</td><td>-0.289016719</td><td>5.2481205</td><td> 8.993166597</td><td>2.709910e-03</td><td>9.322287e-03</td><td> 0.095779765</td><td>5.2481205</td><td>1.005959e+00</td><td>⋯</td><td> 0.05166693</td><td>5.2481205</td><td> 0.31853115</td><td>5.724917e-01</td><td>0.684326881</td><td> 0.14157002</td><td>5.2481205</td><td> 2.4339514</td><td>1.187333e-01</td><td>1.736368e-01</td></tr>\n",
       "\t<tr><td>PPAP2A     </td><td>  8611</td><td> 0.751353871</td><td>4.5650929</td><td>90.622144960</td><td>1.740000e-21</td><td>8.320000e-20</td><td>-0.222469817</td><td>4.5650929</td><td>6.903280e+00</td><td>⋯</td><td>-0.10453108</td><td>4.5650929</td><td> 1.69681934</td><td>1.927045e-01</td><td>0.301445539</td><td>-0.42435298</td><td>4.5650929</td><td>27.1973035</td><td>1.840000e-07</td><td>1.020000e-06</td></tr>\n",
       "\t<tr><td>ATP6V1H    </td><td> 51606</td><td>-0.195562499</td><td>5.7811572</td><td> 7.660903964</td><td>5.643022e-03</td><td>1.698489e-02</td><td> 0.000017700</td><td>5.7811572</td><td>6.410000e-08</td><td>⋯</td><td> 0.02180684</td><td>5.7811572</td><td> 0.10400590</td><td>7.470743e-01</td><td>0.825363338</td><td> 0.17373792</td><td>5.7811572</td><td> 6.7634538</td><td>9.304350e-03</td><td>1.867253e-02</td></tr>\n",
       "\t<tr><td>PPAP2B     </td><td>  8613</td><td> 0.113051870</td><td>6.2545915</td><td> 0.677806863</td><td>4.103429e-01</td><td>5.243290e-01</td><td>-0.435874050</td><td>6.2545915</td><td>9.131165e+00</td><td>⋯</td><td>-0.29706751</td><td>6.2545915</td><td> 4.74990852</td><td>2.929985e-02</td><td>0.067860741</td><td> 0.61988969</td><td>6.2545915</td><td>22.9231871</td><td>1.690000e-06</td><td>7.780000e-06</td></tr>\n",
       "\t<tr><td>PPAP2C     </td><td>  8612</td><td>-0.092849030</td><td>5.3519188</td><td> 0.310872849</td><td>5.771451e-01</td><td>6.787422e-01</td><td> 0.669341226</td><td>5.3519188</td><td>1.716111e+01</td><td>⋯</td><td> 0.03435273</td><td>5.3519188</td><td> 0.04595310</td><td>8.302611e-01</td><td>0.884015635</td><td>-0.61084493</td><td>5.3519188</td><td>13.6069570</td><td>2.253490e-04</td><td>6.708430e-04</td></tr>\n",
       "\t<tr><td>PPAPDC1A   </td><td>196051</td><td> 0.370583427</td><td>3.0426590</td><td> 2.717534906</td><td>9.925119e-02</td><td>1.738610e-01</td><td>-0.834546409</td><td>3.0426590</td><td>1.149183e+01</td><td>⋯</td><td> 0.18837978</td><td>3.0426590</td><td> 0.73013221</td><td>3.928403e-01</td><td>0.518335261</td><td> 0.27558320</td><td>3.0426590</td><td> 1.5891351</td><td>2.074498e-01</td><td>2.792349e-01</td></tr>\n",
       "\t<tr><td>PPAPDC1B   </td><td> 84513</td><td>-0.186325544</td><td>4.8392867</td><td> 3.763243535</td><td>5.239086e-02</td><td>1.053357e-01</td><td> 0.113748905</td><td>4.8392867</td><td>1.413308e+00</td><td>⋯</td><td>-0.08922657</td><td>4.8392867</td><td> 0.92969915</td><td>3.349411e-01</td><td>0.459475535</td><td> 0.16180321</td><td>4.8392867</td><td> 3.1670082</td><td>7.513997e-02</td><td>1.173704e-01</td></tr>\n",
       "\t<tr><td>PPAPDC2    </td><td>403313</td><td>-0.288380474</td><td>4.0983374</td><td> 9.434225953</td><td>2.129730e-03</td><td>7.648122e-03</td><td> 0.016735163</td><td>4.0983374</td><td>3.204177e-02</td><td>⋯</td><td> 0.32065368</td><td>4.0983374</td><td>13.29470147</td><td>2.661570e-04</td><td>0.001355468</td><td>-0.04900837</td><td>4.0983374</td><td> 0.3011944</td><td>5.831346e-01</td><td>6.584504e-01</td></tr>\n",
       "\t<tr><td>PPAPDC3    </td><td> 84814</td><td> 0.463620836</td><td>0.6212830</td><td> 8.278889356</td><td>4.010865e-03</td><td>1.288832e-02</td><td>-0.268694402</td><td>0.6212830</td><td>2.472365e+00</td><td>⋯</td><td>-0.53193510</td><td>0.6212830</td><td>10.31266649</td><td>1.321202e-03</td><td>0.005233889</td><td> 0.33700867</td><td>0.6212830</td><td> 4.6109440</td><td>3.176854e-02</td><td>5.538197e-02</td></tr>\n",
       "\t<tr><td>PPARA      </td><td>  5465</td><td> 0.255375475</td><td>4.9940097</td><td> 8.160095582</td><td>4.282211e-03</td><td>1.358236e-02</td><td> 0.003906393</td><td>4.9940097</td><td>1.802063e-03</td><td>⋯</td><td> 0.15469117</td><td>4.9940097</td><td> 3.14231122</td><td>7.628564e-02</td><td>0.145767755</td><td>-0.41397304</td><td>4.9940097</td><td>21.3007241</td><td>3.930000e-06</td><td>1.690000e-05</td></tr>\n",
       "\t<tr><td>PPARD      </td><td>  5467</td><td> 0.169366586</td><td>6.1197434</td><td> 6.017551443</td><td>1.416429e-02</td><td>3.609164e-02</td><td>-0.052137186</td><td>6.1197434</td><td>5.394128e-01</td><td>⋯</td><td> 0.06245636</td><td>6.1197434</td><td> 0.85890012</td><td>3.540467e-01</td><td>0.478521359</td><td>-0.17968576</td><td>6.1197434</td><td> 6.9803573</td><td>8.240915e-03</td><td>1.674380e-02</td></tr>\n",
       "\t<tr><td>PPARG      </td><td>  5468</td><td> 0.769792891</td><td>1.9299475</td><td>20.445467210</td><td>6.140000e-06</td><td>5.130000e-05</td><td>-0.299063801</td><td>1.9299475</td><td>2.649317e+00</td><td>⋯</td><td> 0.43984339</td><td>1.9299475</td><td> 6.82600940</td><td>8.983977e-03</td><td>0.026026329</td><td>-0.91057248</td><td>1.9299475</td><td>25.3233443</td><td>4.850000e-07</td><td>2.490000e-06</td></tr>\n",
       "\t<tr><td>PPARGC1A   </td><td> 10891</td><td> 0.325640124</td><td>1.2060178</td><td> 1.321582313</td><td>2.503083e-01</td><td>3.575967e-01</td><td> 0.004092240</td><td>1.2060178</td><td>2.467810e-04</td><td>⋯</td><td>-1.82384316</td><td>1.2060178</td><td>33.71154539</td><td>6.390000e-09</td><td>0.000000105</td><td> 1.49411079</td><td>1.2060178</td><td>32.4675154</td><td>1.210000e-08</td><td>8.320000e-08</td></tr>\n",
       "\t<tr><td>ATP7A      </td><td>   538</td><td> 0.037864241</td><td>4.1064671</td><td> 0.156376858</td><td>6.925144e-01</td><td>7.748826e-01</td><td>-0.054890339</td><td>4.1064671</td><td>3.155516e-01</td><td>⋯</td><td> 0.14632452</td><td>4.1064671</td><td> 2.51160237</td><td>1.130110e-01</td><td>0.198834475</td><td>-0.12929842</td><td>4.1064671</td><td> 1.9197432</td><td>1.658850e-01</td><td>2.311480e-01</td></tr>\n",
       "\t<tr><td>PPARGC1B   </td><td>133522</td><td>-0.005480188</td><td>3.1427926</td><td> 0.001867104</td><td>9.655341e-01</td><td>9.750203e-01</td><td> 0.467741254</td><td>3.1427926</td><td>1.405003e+01</td><td>⋯</td><td> 0.24985707</td><td>3.1427926</td><td> 4.26418083</td><td>3.892401e-02</td><td>0.085098027</td><td>-0.71211813</td><td>3.1427926</td><td>31.3153280</td><td>2.190000e-08</td><td>1.430000e-07</td></tr>\n",
       "\t<tr><td>PPAT       </td><td>  5471</td><td>-0.071729292</td><td>4.7193858</td><td> 0.851008678</td><td>3.562671e-01</td><td>4.702825e-01</td><td>-0.064427142</td><td>4.7193858</td><td>6.672016e-01</td><td>⋯</td><td> 0.02211717</td><td>4.7193858</td><td> 0.08701192</td><td>7.680108e-01</td><td>0.839958339</td><td> 0.11403926</td><td>4.7193858</td><td> 2.3557352</td><td>1.248230e-01</td><td>1.812185e-01</td></tr>\n",
       "\t<tr><td>PPCDC      </td><td> 60490</td><td>-0.243529801</td><td>3.0833274</td><td> 6.133486003</td><td>1.326451e-02</td><td>3.413053e-02</td><td> 0.031240172</td><td>3.0833274</td><td>1.013891e-01</td><td>⋯</td><td> 0.27438336</td><td>3.0833274</td><td> 8.78477240</td><td>3.037555e-03</td><td>0.010621153</td><td>-0.06209374</td><td>3.0833274</td><td> 0.4378446</td><td>5.081646e-01</td><td>5.878479e-01</td></tr>\n",
       "\t<tr><td>PPCS       </td><td> 79717</td><td>-0.110361777</td><td>6.1865098</td><td> 1.646294258</td><td>1.994641e-01</td><td>3.001530e-01</td><td>-0.007352508</td><td>6.1865098</td><td>7.186898e-03</td><td>⋯</td><td> 0.25923733</td><td>6.1865098</td><td>10.06292561</td><td>1.512828e-03</td><td>0.005888726</td><td>-0.14152305</td><td>6.1865098</td><td> 2.8971213</td><td>8.873790e-02</td><td>1.353535e-01</td></tr>\n",
       "\t<tr><td>⋮</td><td>⋮</td><td>⋮</td><td>⋮</td><td>⋮</td><td>⋮</td><td>⋮</td><td>⋮</td><td>⋮</td><td>⋮</td><td>⋱</td><td>⋮</td><td>⋮</td><td>⋮</td><td>⋮</td><td>⋮</td><td>⋮</td><td>⋮</td><td>⋮</td><td>⋮</td><td>⋮</td></tr>\n",
       "\t<tr><td>POLR3H  </td><td>   171568</td><td> 0.05577472</td><td>5.4270625</td><td>7.111842e-01</td><td>3.990510e-01</td><td>5.128295e-01</td><td> 0.005373598</td><td>5.4270625</td><td> 0.006373906</td><td>⋯</td><td> 0.05516554</td><td>5.4270625</td><td> 0.739435890</td><td>3.898416e-01</td><td>5.156309e-01</td><td>-0.116313853</td><td>5.4270625</td><td>3.253322e+00</td><td>7.127888e-02</td><td>1.119098e-01</td></tr>\n",
       "\t<tr><td>POLR3K  </td><td>    51728</td><td>-0.26768487</td><td>3.8890382</td><td>8.384031e+00</td><td>3.785320e-03</td><td>1.225938e-02</td><td>-0.072718936</td><td>3.8890382</td><td> 0.615379660</td><td>⋯</td><td> 0.34806181</td><td>3.8890382</td><td>16.158436370</td><td>5.830000e-05</td><td>3.681880e-04</td><td>-0.007658001</td><td>3.8890382</td><td>7.596097e-03</td><td>9.305478e-01</td><td>9.469825e-01</td></tr>\n",
       "\t<tr><td>POLRMT  </td><td>     5442</td><td>-0.18010055</td><td>5.3351053</td><td>5.295419e+00</td><td>2.138159e-02</td><td>5.049787e-02</td><td> 0.163203481</td><td>5.3351053</td><td> 4.405063859</td><td>⋯</td><td>-0.01938042</td><td>5.3351053</td><td> 0.066524731</td><td>7.964657e-01</td><td>8.605014e-01</td><td> 0.036277490</td><td>5.3351053</td><td>2.364679e-01</td><td>6.267689e-01</td><td>6.953062e-01</td></tr>\n",
       "\t<tr><td>POM121  </td><td>     9883</td><td>-0.01073478</td><td>7.4620770</td><td>2.432243e-02</td><td>8.760673e-01</td><td>9.134344e-01</td><td> 0.044023990</td><td>7.4620770</td><td> 0.400084203</td><td>⋯</td><td>-0.23091030</td><td>7.4620770</td><td>11.679603250</td><td>6.318900e-04</td><td>2.815557e-03</td><td> 0.197621095</td><td>7.4620770</td><td>9.036768e+00</td><td>2.646031e-03</td><td>6.122820e-03</td></tr>\n",
       "\t<tr><td>POM121C </td><td>100101267</td><td>-0.00683170</td><td>6.4824992</td><td>9.748615e-03</td><td>9.213486e-01</td><td>9.448901e-01</td><td> 0.044313014</td><td>6.4824992</td><td> 0.400973597</td><td>⋯</td><td>-0.21883401</td><td>6.4824992</td><td>10.390606140</td><td>1.266580e-03</td><td>5.054360e-03</td><td> 0.181352693</td><td>6.4824992</td><td>7.515693e+00</td><td>6.116374e-03</td><td>1.291178e-02</td></tr>\n",
       "\t<tr><td>POMC    </td><td>     5443</td><td>-0.98832367</td><td>1.7656506</td><td>1.423243e+01</td><td>1.615620e-04</td><td>8.840600e-04</td><td>-1.809294029</td><td>1.7656506</td><td>41.176258820</td><td>⋯</td><td>-0.63339820</td><td>1.7656506</td><td> 6.544304802</td><td>1.052204e-02</td><td>2.959444e-02</td><td> 3.431015902</td><td>1.7656506</td><td>2.457936e+02</td><td>2.150000e-55</td><td>4.080000e-52</td></tr>\n",
       "\t<tr><td>POMGNT1 </td><td>    55624</td><td>-0.14466654</td><td>6.6631005</td><td>4.889011e+00</td><td>2.702816e-02</td><td>6.135687e-02</td><td> 0.122476465</td><td>6.6631005</td><td> 3.517153531</td><td>⋯</td><td> 0.09086914</td><td>6.6631005</td><td> 2.108515126</td><td>1.464814e-01</td><td>2.440073e-01</td><td>-0.068679073</td><td>6.6631005</td><td>1.193680e+00</td><td>2.745885e-01</td><td>3.537766e-01</td></tr>\n",
       "\t<tr><td>POMP    </td><td>    51371</td><td>-0.05344880</td><td>6.4707510</td><td>3.825942e-01</td><td>5.362181e-01</td><td>6.403635e-01</td><td>-0.109333394</td><td>6.4707510</td><td> 1.543880585</td><td>⋯</td><td> 0.27919455</td><td>6.4707510</td><td>11.508327240</td><td>6.928510e-04</td><td>3.041746e-03</td><td>-0.116412357</td><td>6.4707510</td><td>1.934162e+00</td><td>1.643038e-01</td><td>2.291966e-01</td></tr>\n",
       "\t<tr><td>ATP6V1F </td><td>     9296</td><td>-0.13882760</td><td>7.0512506</td><td>2.881486e+00</td><td>8.960332e-02</td><td>1.603679e-01</td><td>-0.057322316</td><td>7.0512506</td><td> 0.481870816</td><td>⋯</td><td> 0.24423322</td><td>7.0512506</td><td> 9.898800146</td><td>1.653866e-03</td><td>6.341972e-03</td><td>-0.048083305</td><td>7.0512506</td><td>3.750313e-01</td><td>5.402745e-01</td><td>6.182854e-01</td></tr>\n",
       "\t<tr><td>POMT1   </td><td>    10585</td><td> 0.05036836</td><td>4.8534273</td><td>4.998901e-01</td><td>4.795484e-01</td><td>5.892004e-01</td><td> 0.113561316</td><td>4.8534273</td><td> 2.487525592</td><td>⋯</td><td>-0.18999302</td><td>4.8534273</td><td> 7.360954949</td><td>6.665538e-03</td><td>2.028329e-02</td><td> 0.026063347</td><td>4.8534273</td><td>1.430897e-01</td><td>7.052286e-01</td><td>7.643703e-01</td></tr>\n",
       "\t<tr><td>POMT2   </td><td>    29954</td><td>-0.04994793</td><td>4.7473841</td><td>4.052848e-01</td><td>5.243725e-01</td><td>6.296775e-01</td><td> 0.035629474</td><td>4.7473841</td><td> 0.202399915</td><td>⋯</td><td>-0.28926000</td><td>4.7473841</td><td>14.077216790</td><td>1.754560e-04</td><td>9.535690e-04</td><td> 0.303578453</td><td>4.7473841</td><td>1.667239e+01</td><td>4.440000e-05</td><td>1.527140e-04</td></tr>\n",
       "\t<tr><td>POMZP3  </td><td>    22932</td><td> 0.12684700</td><td>3.5797706</td><td>9.732877e-01</td><td>3.238616e-01</td><td>4.368586e-01</td><td>-0.119596212</td><td>3.5797706</td><td> 0.815506089</td><td>⋯</td><td>-0.01272829</td><td>3.5797706</td><td> 0.010252849</td><td>9.193470e-01</td><td>9.460262e-01</td><td> 0.005477501</td><td>3.5797706</td><td>1.918933e-03</td><td>9.650593e-01</td><td>9.735068e-01</td></tr>\n",
       "\t<tr><td>PON1    </td><td>     5444</td><td>-0.22180949</td><td>1.3509988</td><td>4.489141e-01</td><td>5.028511e-01</td><td>6.106307e-01</td><td> 0.658916100</td><td>1.3509988</td><td> 4.280243291</td><td>⋯</td><td>-1.22206637</td><td>1.3509988</td><td>12.871006290</td><td>3.337120e-04</td><td>1.639673e-03</td><td> 0.784959761</td><td>1.3509988</td><td>6.697706e+00</td><td>9.653706e-03</td><td>1.926941e-02</td></tr>\n",
       "\t<tr><td>PON2    </td><td>     5445</td><td>-0.08990220</td><td>6.5049090</td><td>1.130990e+00</td><td>2.875643e-01</td><td>3.984723e-01</td><td> 0.321198894</td><td>6.5049090</td><td>14.740152310</td><td>⋯</td><td> 0.03731213</td><td>6.5049090</td><td> 0.210319449</td><td>6.465171e-01</td><td>7.459096e-01</td><td>-0.268608829</td><td>6.5049090</td><td>1.062443e+01</td><td>1.116031e-03</td><td>2.822455e-03</td></tr>\n",
       "\t<tr><td>PON3    </td><td>     5446</td><td>-0.21537815</td><td>1.2556005</td><td>3.195536e-01</td><td>5.718760e-01</td><td>6.735872e-01</td><td>-0.096271954</td><td>1.2556005</td><td> 0.062893715</td><td>⋯</td><td>-0.35503715</td><td>1.2556005</td><td> 0.910958231</td><td>3.398603e-01</td><td>4.645914e-01</td><td> 0.666687257</td><td>1.2556005</td><td>3.600378e+00</td><td>5.776642e-02</td><td>9.360277e-02</td></tr>\n",
       "\t<tr><td>POP1    </td><td>    10940</td><td>-0.01250400</td><td>3.1027569</td><td>2.848456e-02</td><td>8.659747e-01</td><td>9.066212e-01</td><td> 0.107723062</td><td>3.1027569</td><td> 2.083302474</td><td>⋯</td><td> 0.04284999</td><td>3.1027569</td><td> 0.357994298</td><td>5.496223e-01</td><td>6.646676e-01</td><td>-0.138069050</td><td>3.1027569</td><td>3.675162e+00</td><td>5.522888e-02</td><td>8.991242e-02</td></tr>\n",
       "\t<tr><td>POP4    </td><td>    10775</td><td>-0.51677594</td><td>6.0573406</td><td>1.325123e+01</td><td>2.724010e-04</td><td>1.381919e-03</td><td>-0.540561228</td><td>6.0573406</td><td>14.008320410</td><td>⋯</td><td> 0.82151491</td><td>6.0573406</td><td>41.146552220</td><td>1.410000e-10</td><td>3.110000e-09</td><td> 0.235822258</td><td>6.0573406</td><td>3.235058e+00</td><td>7.207775e-02</td><td>1.130474e-01</td></tr>\n",
       "\t<tr><td>POP5    </td><td>    51367</td><td>-0.39360068</td><td>4.4075043</td><td>2.077492e+01</td><td>5.170000e-06</td><td>4.430000e-05</td><td>-0.038350965</td><td>4.4075043</td><td> 0.200170342</td><td>⋯</td><td> 0.24717681</td><td>4.4075043</td><td> 9.393132661</td><td>2.177997e-03</td><td>7.993171e-03</td><td> 0.184774828</td><td>4.4075043</td><td>5.258441e+00</td><td>2.184058e-02</td><td>3.974150e-02</td></tr>\n",
       "\t<tr><td>POP7    </td><td>    10248</td><td>-0.34293249</td><td>5.2495125</td><td>1.967368e+01</td><td>9.190000e-06</td><td>7.270000e-05</td><td> 0.109267851</td><td>5.2495125</td><td> 2.051770381</td><td>⋯</td><td> 0.23252710</td><td>5.2495125</td><td>10.287584890</td><td>1.339283e-03</td><td>5.298613e-03</td><td> 0.001137536</td><td>5.2495125</td><td>2.425670e-04</td><td>9.875738e-01</td><td>9.912212e-01</td></tr>\n",
       "\t<tr><td>ATP6V1G1</td><td>     9550</td><td>-0.03688180</td><td>7.0529355</td><td>2.311906e-01</td><td>6.306425e-01</td><td>7.237581e-01</td><td> 0.027408071</td><td>7.0529355</td><td> 0.125006929</td><td>⋯</td><td> 0.07152341</td><td>7.0529355</td><td> 0.936036790</td><td>3.332992e-01</td><td>4.576789e-01</td><td>-0.062049682</td><td>7.0529355</td><td>7.001442e-01</td><td>4.027353e-01</td><td>4.874221e-01</td></tr>\n",
       "\t<tr><td>POPDC2  </td><td>    64091</td><td> 0.20010816</td><td>0.7172611</td><td>4.385602e+00</td><td>3.624370e-02</td><td>7.788420e-02</td><td>-0.270540014</td><td>0.7172611</td><td> 7.299781581</td><td>⋯</td><td>-0.07111323</td><td>0.7172611</td><td> 0.569461650</td><td>4.504729e-01</td><td>5.748338e-01</td><td> 0.141545091</td><td>0.7172611</td><td>2.337224e+00</td><td>1.263145e-01</td><td>1.831422e-01</td></tr>\n",
       "\t<tr><td>POPDC3  </td><td>    64208</td><td>-0.92312728</td><td>0.4145986</td><td>6.685542e+00</td><td>9.719798e-03</td><td>2.645984e-02</td><td> 0.054910434</td><td>0.4145986</td><td> 0.026452457</td><td>⋯</td><td>-0.63169939</td><td>0.4145986</td><td> 3.479472663</td><td>6.213454e-02</td><td>1.234414e-01</td><td> 1.499916239</td><td>0.4145986</td><td>2.416938e+01</td><td>8.820000e-07</td><td>4.310000e-06</td></tr>\n",
       "\t<tr><td>POR     </td><td>     5447</td><td>-0.19509658</td><td>7.2889151</td><td>5.972801e+00</td><td>1.452819e-02</td><td>3.683380e-02</td><td> 0.310633521</td><td>7.2889151</td><td>15.641222890</td><td>⋯</td><td> 0.05780090</td><td>7.2889151</td><td> 0.574599748</td><td>4.484369e-01</td><td>5.728604e-01</td><td>-0.173337842</td><td>7.2889151</td><td>5.080229e+00</td><td>2.420017e-02</td><td>4.354027e-02</td></tr>\n",
       "\t<tr><td>PORCN   </td><td>    64840</td><td> 0.01368893</td><td>5.0043736</td><td>9.012165e-03</td><td>9.243685e-01</td><td>9.469868e-01</td><td> 0.510108436</td><td>5.0043736</td><td>12.890451880</td><td>⋯</td><td> 0.01065856</td><td>5.0043736</td><td> 0.005808698</td><td>9.392482e-01</td><td>9.598175e-01</td><td>-0.534455928</td><td>5.0043736</td><td>1.383452e+01</td><td>1.996340e-04</td><td>6.024270e-04</td></tr>\n",
       "\t<tr><td>POSTN   </td><td>    10631</td><td> 2.62926770</td><td>6.6347982</td><td>1.289688e+02</td><td>6.890000e-30</td><td>6.020000e-28</td><td>-0.870628370</td><td>6.6347982</td><td>10.014156330</td><td>⋯</td><td> 0.20262764</td><td>6.6347982</td><td> 0.680747883</td><td>4.093293e-01</td><td>5.345281e-01</td><td>-1.961266971</td><td>6.6347982</td><td>4.933693e+01</td><td>2.160000e-12</td><td>2.640000e-11</td></tr>\n",
       "\t<tr><td>POT1    </td><td>    25913</td><td>-0.20272344</td><td>5.1013811</td><td>7.465901e+00</td><td>6.287855e-03</td><td>1.858337e-02</td><td>-0.053071665</td><td>5.1013811</td><td> 0.506122972</td><td>⋯</td><td> 0.08722529</td><td>5.1013811</td><td> 1.521345411</td><td>2.174160e-01</td><td>3.310312e-01</td><td> 0.168569815</td><td>5.1013811</td><td>5.778097e+00</td><td>1.622710e-02</td><td>3.059198e-02</td></tr>\n",
       "\t<tr><td>POTEF   </td><td>   728378</td><td> 0.17986126</td><td>0.5382186</td><td>8.831078e-01</td><td>3.473519e-01</td><td>4.615697e-01</td><td>-0.003759615</td><td>0.5382186</td><td> 0.000364244</td><td>⋯</td><td>-0.27453408</td><td>0.5382186</td><td> 2.077088905</td><td>1.495251e-01</td><td>2.478021e-01</td><td> 0.098432440</td><td>0.5382186</td><td>2.807025e-01</td><td>5.962412e-01</td><td>6.698553e-01</td></tr>\n",
       "\t<tr><td>POU2AF1 </td><td>     5450</td><td> 0.02599428</td><td>2.6130569</td><td>1.167767e-02</td><td>9.139455e-01</td><td>9.398323e-01</td><td>-1.295666543</td><td>2.6130569</td><td>23.422026500</td><td>⋯</td><td> 1.29574329</td><td>2.6130569</td><td>34.266927850</td><td>4.800000e-09</td><td>8.160000e-08</td><td>-0.026071022</td><td>2.6130569</td><td>1.233437e-02</td><td>9.115686e-01</td><td>9.320953e-01</td></tr>\n",
       "\t<tr><td>POU2F1  </td><td>     5451</td><td>-0.17873502</td><td>3.9622907</td><td>6.111471e+00</td><td>1.343073e-02</td><td>3.450571e-02</td><td>-0.007693784</td><td>3.9622907</td><td> 0.011222357</td><td>⋯</td><td>-0.17588905</td><td>3.9622907</td><td> 6.308967122</td><td>1.201288e-02</td><td>3.294392e-02</td><td> 0.362317852</td><td>3.9622907</td><td>2.858633e+01</td><td>8.960000e-08</td><td>5.270000e-07</td></tr>\n",
       "\t<tr><td>POU2F2  </td><td>     5452</td><td> 0.58196769</td><td>2.8054157</td><td>2.564686e+01</td><td>4.100000e-07</td><td>4.480000e-06</td><td>-0.516608494</td><td>2.8054157</td><td>17.170354570</td><td>⋯</td><td> 0.41483008</td><td>2.8054157</td><td>13.545915050</td><td>2.327980e-04</td><td>1.205349e-03</td><td>-0.480189276</td><td>2.8054157</td><td>1.659568e+01</td><td>4.630000e-05</td><td>1.584800e-04</td></tr>\n",
       "</tbody>\n",
       "</table>\n"
      ],
      "text/latex": [
       "A data.frame: 15211 × 23\n",
       "\\begin{tabular}{lllllllllllllllllllll}\n",
       " Name & geneid & logFC.mesen & logCPM.mesen & LR.mesen & PValue.mesen & FDR.mesen & logFC.diff & logCPM.diff & LR.diff & ⋯ & logFC.immuno & logCPM.immuno & LR.immuno & PValue.immuno & FDR.immuno & logFC.prolif & logCPM.prolif & LR.prolif & PValue.prolif & FDR.prolif\\\\\n",
       " <chr> & <int> & <dbl> & <dbl> & <dbl> & <dbl> & <dbl> & <dbl> & <dbl> & <dbl> & ⋯ & <dbl> & <dbl> & <dbl> & <dbl> & <dbl> & <dbl> & <dbl> & <dbl> & <dbl> & <dbl>\\\\\n",
       "\\hline\n",
       "\t A1BG        &      1 & -0.077320895 & 2.5827100 &  0.265542288 & 6.063378e-01 & 7.038775e-01 & -0.242890159 & 2.5827100 & 2.490778e+00 & ⋯ &  0.39312991 & 2.5827100 &  7.67701142 & 5.592872e-03 & 0.017527558 & -0.07291885 & 2.5827100 &  0.2536317 & 6.145294e-01 & 6.852028e-01\\\\\n",
       "\t AADAT       &  51166 &  0.070121562 & 2.2266988 &  0.250469112 & 6.167450e-01 & 7.129096e-01 & -0.586270386 & 2.2266988 & 1.559364e+01 & ⋯ & -0.43841330 & 2.2266988 &  9.80546955 & 1.739936e-03 & 0.006603769 &  0.95456212 & 2.2266988 & 53.9597476 & 2.050000e-13 & 2.860000e-12\\\\\n",
       "\t ACADVL      &     37 & -0.081684942 & 7.3203376 &  0.928061773 & 3.353671e-01 & 4.493222e-01 &  0.002490680 & 7.3203376 & 8.467680e-04 & ⋯ &  0.12857053 & 7.3203376 &  2.50393576 & 1.135622e-01 & 0.199550404 & -0.04937627 & 7.3203376 &  0.3652864 & 5.455849e-01 & 6.229750e-01\\\\\n",
       "\t ATP6V1G2    &    534 & -0.314748726 & 1.2661867 &  3.301836234 & 6.920248e-02 & 1.311622e-01 & -0.357141995 & 1.2661867 & 4.100941e+00 & ⋯ &  0.20418411 & 1.2661867 &  1.57198027 & 2.099197e-01 & 0.322447272 &  0.46770661 & 1.2661867 &  8.5343521 & 3.485054e-03 & 7.837764e-03\\\\\n",
       "\t POU2F3      &  25833 &  0.221858061 & 4.8887288 &  1.239245261 & 2.656166e-01 & 3.745420e-01 &  0.288698853 & 4.8887288 & 2.056991e+00 & ⋯ &  0.86807297 & 4.8887288 & 21.37327834 & 3.780000e-06 & 0.000033800 & -1.37862988 & 4.8887288 & 42.3202960 & 7.750000e-11 & 7.470000e-10\\\\\n",
       "\t POU5F1      &   5460 & -0.727618829 & 1.7583399 & 11.139330420 & 8.451640e-04 & 3.591238e-03 &  0.322238215 & 1.7583399 & 2.420652e+00 & ⋯ &  0.66398983 & 1.7583399 & 11.56842358 & 6.708130e-04 & 0.002956941 & -0.25860921 & 1.7583399 &  1.6079839 & 2.047754e-01 & 2.763034e-01\\\\\n",
       "\t POU5F1B     &   5462 & -0.421291192 & 0.4675505 &  6.815279599 & 9.038115e-03 & 2.494789e-02 & -0.142569674 & 0.4675505 & 7.833023e-01 & ⋯ &  0.31208778 & 0.4675505 &  4.34101042 & 3.720484e-02 & 0.082213828 &  0.25177309 & 0.4675505 &  2.8296153 & 9.254053e-02 & 1.403656e-01\\\\\n",
       "\t POU6F1      &   5463 &  0.082304656 & 2.8167736 &  0.625238935 & 4.291071e-01 & 5.427436e-01 & -0.289833294 & 2.8167736 & 7.181229e+00 & ⋯ & -0.04186972 & 2.8167736 &  0.16957791 & 6.804872e-01 & 0.773949259 &  0.24939836 & 2.8167736 &  6.2590453 & 1.235608e-02 & 2.402360e-02\\\\\n",
       "\t POU6F2      &  11281 & -0.269211034 & 0.4724774 &  0.502561744 & 4.783767e-01 & 5.879032e-01 & -0.929613277 & 0.4724774 & 5.332995e+00 & ⋯ & -0.19907201 & 0.4724774 &  0.29516453 & 5.869298e-01 & 0.697257048 &  1.39789632 & 0.4724774 & 16.9657456 & 3.810000e-05 & 1.329450e-04\\\\\n",
       "\t PPA1        &   5464 & -0.251474444 & 7.7013474 &  6.349348630 & 1.174244e-02 & 3.091344e-02 &  0.301206390 & 7.7013474 & 9.465266e+00 & ⋯ &  0.40702444 & 7.7013474 & 19.02881073 & 1.290000e-05 & 0.000099500 & -0.45675638 & 7.7013474 & 22.0003182 & 2.730000e-06 & 1.210000e-05\\\\\n",
       "\t PPA2        &  27068 & -0.189782684 & 5.5349661 &  5.936935106 & 1.482678e-02 & 3.741188e-02 & -0.032226270 & 5.5349661 & 1.694910e-01 & ⋯ &  0.25561506 & 5.5349661 & 12.04440461 & 5.194810e-04 & 0.002390303 & -0.03360611 & 5.5349661 &  0.2035812 & 6.518456e-01 & 7.186979e-01\\\\\n",
       "\t PPAN-P2RY11 & 692312 & -0.495027529 & 2.6019555 &  2.507779036 & 1.132855e-01 & 1.928274e-01 &  0.245427620 & 2.6019555 & 6.563417e-01 & ⋯ & -0.15811447 & 2.6019555 &  0.28436075 & 5.938572e-01 & 0.703310483 &  0.40771438 & 2.6019555 &  2.0228975 & 1.549432e-01 & 2.180991e-01\\\\\n",
       "\t PPAN        &  56342 & -0.289016719 & 5.2481205 &  8.993166597 & 2.709910e-03 & 9.322287e-03 &  0.095779765 & 5.2481205 & 1.005959e+00 & ⋯ &  0.05166693 & 5.2481205 &  0.31853115 & 5.724917e-01 & 0.684326881 &  0.14157002 & 5.2481205 &  2.4339514 & 1.187333e-01 & 1.736368e-01\\\\\n",
       "\t PPAP2A      &   8611 &  0.751353871 & 4.5650929 & 90.622144960 & 1.740000e-21 & 8.320000e-20 & -0.222469817 & 4.5650929 & 6.903280e+00 & ⋯ & -0.10453108 & 4.5650929 &  1.69681934 & 1.927045e-01 & 0.301445539 & -0.42435298 & 4.5650929 & 27.1973035 & 1.840000e-07 & 1.020000e-06\\\\\n",
       "\t ATP6V1H     &  51606 & -0.195562499 & 5.7811572 &  7.660903964 & 5.643022e-03 & 1.698489e-02 &  0.000017700 & 5.7811572 & 6.410000e-08 & ⋯ &  0.02180684 & 5.7811572 &  0.10400590 & 7.470743e-01 & 0.825363338 &  0.17373792 & 5.7811572 &  6.7634538 & 9.304350e-03 & 1.867253e-02\\\\\n",
       "\t PPAP2B      &   8613 &  0.113051870 & 6.2545915 &  0.677806863 & 4.103429e-01 & 5.243290e-01 & -0.435874050 & 6.2545915 & 9.131165e+00 & ⋯ & -0.29706751 & 6.2545915 &  4.74990852 & 2.929985e-02 & 0.067860741 &  0.61988969 & 6.2545915 & 22.9231871 & 1.690000e-06 & 7.780000e-06\\\\\n",
       "\t PPAP2C      &   8612 & -0.092849030 & 5.3519188 &  0.310872849 & 5.771451e-01 & 6.787422e-01 &  0.669341226 & 5.3519188 & 1.716111e+01 & ⋯ &  0.03435273 & 5.3519188 &  0.04595310 & 8.302611e-01 & 0.884015635 & -0.61084493 & 5.3519188 & 13.6069570 & 2.253490e-04 & 6.708430e-04\\\\\n",
       "\t PPAPDC1A    & 196051 &  0.370583427 & 3.0426590 &  2.717534906 & 9.925119e-02 & 1.738610e-01 & -0.834546409 & 3.0426590 & 1.149183e+01 & ⋯ &  0.18837978 & 3.0426590 &  0.73013221 & 3.928403e-01 & 0.518335261 &  0.27558320 & 3.0426590 &  1.5891351 & 2.074498e-01 & 2.792349e-01\\\\\n",
       "\t PPAPDC1B    &  84513 & -0.186325544 & 4.8392867 &  3.763243535 & 5.239086e-02 & 1.053357e-01 &  0.113748905 & 4.8392867 & 1.413308e+00 & ⋯ & -0.08922657 & 4.8392867 &  0.92969915 & 3.349411e-01 & 0.459475535 &  0.16180321 & 4.8392867 &  3.1670082 & 7.513997e-02 & 1.173704e-01\\\\\n",
       "\t PPAPDC2     & 403313 & -0.288380474 & 4.0983374 &  9.434225953 & 2.129730e-03 & 7.648122e-03 &  0.016735163 & 4.0983374 & 3.204177e-02 & ⋯ &  0.32065368 & 4.0983374 & 13.29470147 & 2.661570e-04 & 0.001355468 & -0.04900837 & 4.0983374 &  0.3011944 & 5.831346e-01 & 6.584504e-01\\\\\n",
       "\t PPAPDC3     &  84814 &  0.463620836 & 0.6212830 &  8.278889356 & 4.010865e-03 & 1.288832e-02 & -0.268694402 & 0.6212830 & 2.472365e+00 & ⋯ & -0.53193510 & 0.6212830 & 10.31266649 & 1.321202e-03 & 0.005233889 &  0.33700867 & 0.6212830 &  4.6109440 & 3.176854e-02 & 5.538197e-02\\\\\n",
       "\t PPARA       &   5465 &  0.255375475 & 4.9940097 &  8.160095582 & 4.282211e-03 & 1.358236e-02 &  0.003906393 & 4.9940097 & 1.802063e-03 & ⋯ &  0.15469117 & 4.9940097 &  3.14231122 & 7.628564e-02 & 0.145767755 & -0.41397304 & 4.9940097 & 21.3007241 & 3.930000e-06 & 1.690000e-05\\\\\n",
       "\t PPARD       &   5467 &  0.169366586 & 6.1197434 &  6.017551443 & 1.416429e-02 & 3.609164e-02 & -0.052137186 & 6.1197434 & 5.394128e-01 & ⋯ &  0.06245636 & 6.1197434 &  0.85890012 & 3.540467e-01 & 0.478521359 & -0.17968576 & 6.1197434 &  6.9803573 & 8.240915e-03 & 1.674380e-02\\\\\n",
       "\t PPARG       &   5468 &  0.769792891 & 1.9299475 & 20.445467210 & 6.140000e-06 & 5.130000e-05 & -0.299063801 & 1.9299475 & 2.649317e+00 & ⋯ &  0.43984339 & 1.9299475 &  6.82600940 & 8.983977e-03 & 0.026026329 & -0.91057248 & 1.9299475 & 25.3233443 & 4.850000e-07 & 2.490000e-06\\\\\n",
       "\t PPARGC1A    &  10891 &  0.325640124 & 1.2060178 &  1.321582313 & 2.503083e-01 & 3.575967e-01 &  0.004092240 & 1.2060178 & 2.467810e-04 & ⋯ & -1.82384316 & 1.2060178 & 33.71154539 & 6.390000e-09 & 0.000000105 &  1.49411079 & 1.2060178 & 32.4675154 & 1.210000e-08 & 8.320000e-08\\\\\n",
       "\t ATP7A       &    538 &  0.037864241 & 4.1064671 &  0.156376858 & 6.925144e-01 & 7.748826e-01 & -0.054890339 & 4.1064671 & 3.155516e-01 & ⋯ &  0.14632452 & 4.1064671 &  2.51160237 & 1.130110e-01 & 0.198834475 & -0.12929842 & 4.1064671 &  1.9197432 & 1.658850e-01 & 2.311480e-01\\\\\n",
       "\t PPARGC1B    & 133522 & -0.005480188 & 3.1427926 &  0.001867104 & 9.655341e-01 & 9.750203e-01 &  0.467741254 & 3.1427926 & 1.405003e+01 & ⋯ &  0.24985707 & 3.1427926 &  4.26418083 & 3.892401e-02 & 0.085098027 & -0.71211813 & 3.1427926 & 31.3153280 & 2.190000e-08 & 1.430000e-07\\\\\n",
       "\t PPAT        &   5471 & -0.071729292 & 4.7193858 &  0.851008678 & 3.562671e-01 & 4.702825e-01 & -0.064427142 & 4.7193858 & 6.672016e-01 & ⋯ &  0.02211717 & 4.7193858 &  0.08701192 & 7.680108e-01 & 0.839958339 &  0.11403926 & 4.7193858 &  2.3557352 & 1.248230e-01 & 1.812185e-01\\\\\n",
       "\t PPCDC       &  60490 & -0.243529801 & 3.0833274 &  6.133486003 & 1.326451e-02 & 3.413053e-02 &  0.031240172 & 3.0833274 & 1.013891e-01 & ⋯ &  0.27438336 & 3.0833274 &  8.78477240 & 3.037555e-03 & 0.010621153 & -0.06209374 & 3.0833274 &  0.4378446 & 5.081646e-01 & 5.878479e-01\\\\\n",
       "\t PPCS        &  79717 & -0.110361777 & 6.1865098 &  1.646294258 & 1.994641e-01 & 3.001530e-01 & -0.007352508 & 6.1865098 & 7.186898e-03 & ⋯ &  0.25923733 & 6.1865098 & 10.06292561 & 1.512828e-03 & 0.005888726 & -0.14152305 & 6.1865098 &  2.8971213 & 8.873790e-02 & 1.353535e-01\\\\\n",
       "\t ⋮ & ⋮ & ⋮ & ⋮ & ⋮ & ⋮ & ⋮ & ⋮ & ⋮ & ⋮ & ⋱ & ⋮ & ⋮ & ⋮ & ⋮ & ⋮ & ⋮ & ⋮ & ⋮ & ⋮ & ⋮\\\\\n",
       "\t POLR3H   &    171568 &  0.05577472 & 5.4270625 & 7.111842e-01 & 3.990510e-01 & 5.128295e-01 &  0.005373598 & 5.4270625 &  0.006373906 & ⋯ &  0.05516554 & 5.4270625 &  0.739435890 & 3.898416e-01 & 5.156309e-01 & -0.116313853 & 5.4270625 & 3.253322e+00 & 7.127888e-02 & 1.119098e-01\\\\\n",
       "\t POLR3K   &     51728 & -0.26768487 & 3.8890382 & 8.384031e+00 & 3.785320e-03 & 1.225938e-02 & -0.072718936 & 3.8890382 &  0.615379660 & ⋯ &  0.34806181 & 3.8890382 & 16.158436370 & 5.830000e-05 & 3.681880e-04 & -0.007658001 & 3.8890382 & 7.596097e-03 & 9.305478e-01 & 9.469825e-01\\\\\n",
       "\t POLRMT   &      5442 & -0.18010055 & 5.3351053 & 5.295419e+00 & 2.138159e-02 & 5.049787e-02 &  0.163203481 & 5.3351053 &  4.405063859 & ⋯ & -0.01938042 & 5.3351053 &  0.066524731 & 7.964657e-01 & 8.605014e-01 &  0.036277490 & 5.3351053 & 2.364679e-01 & 6.267689e-01 & 6.953062e-01\\\\\n",
       "\t POM121   &      9883 & -0.01073478 & 7.4620770 & 2.432243e-02 & 8.760673e-01 & 9.134344e-01 &  0.044023990 & 7.4620770 &  0.400084203 & ⋯ & -0.23091030 & 7.4620770 & 11.679603250 & 6.318900e-04 & 2.815557e-03 &  0.197621095 & 7.4620770 & 9.036768e+00 & 2.646031e-03 & 6.122820e-03\\\\\n",
       "\t POM121C  & 100101267 & -0.00683170 & 6.4824992 & 9.748615e-03 & 9.213486e-01 & 9.448901e-01 &  0.044313014 & 6.4824992 &  0.400973597 & ⋯ & -0.21883401 & 6.4824992 & 10.390606140 & 1.266580e-03 & 5.054360e-03 &  0.181352693 & 6.4824992 & 7.515693e+00 & 6.116374e-03 & 1.291178e-02\\\\\n",
       "\t POMC     &      5443 & -0.98832367 & 1.7656506 & 1.423243e+01 & 1.615620e-04 & 8.840600e-04 & -1.809294029 & 1.7656506 & 41.176258820 & ⋯ & -0.63339820 & 1.7656506 &  6.544304802 & 1.052204e-02 & 2.959444e-02 &  3.431015902 & 1.7656506 & 2.457936e+02 & 2.150000e-55 & 4.080000e-52\\\\\n",
       "\t POMGNT1  &     55624 & -0.14466654 & 6.6631005 & 4.889011e+00 & 2.702816e-02 & 6.135687e-02 &  0.122476465 & 6.6631005 &  3.517153531 & ⋯ &  0.09086914 & 6.6631005 &  2.108515126 & 1.464814e-01 & 2.440073e-01 & -0.068679073 & 6.6631005 & 1.193680e+00 & 2.745885e-01 & 3.537766e-01\\\\\n",
       "\t POMP     &     51371 & -0.05344880 & 6.4707510 & 3.825942e-01 & 5.362181e-01 & 6.403635e-01 & -0.109333394 & 6.4707510 &  1.543880585 & ⋯ &  0.27919455 & 6.4707510 & 11.508327240 & 6.928510e-04 & 3.041746e-03 & -0.116412357 & 6.4707510 & 1.934162e+00 & 1.643038e-01 & 2.291966e-01\\\\\n",
       "\t ATP6V1F  &      9296 & -0.13882760 & 7.0512506 & 2.881486e+00 & 8.960332e-02 & 1.603679e-01 & -0.057322316 & 7.0512506 &  0.481870816 & ⋯ &  0.24423322 & 7.0512506 &  9.898800146 & 1.653866e-03 & 6.341972e-03 & -0.048083305 & 7.0512506 & 3.750313e-01 & 5.402745e-01 & 6.182854e-01\\\\\n",
       "\t POMT1    &     10585 &  0.05036836 & 4.8534273 & 4.998901e-01 & 4.795484e-01 & 5.892004e-01 &  0.113561316 & 4.8534273 &  2.487525592 & ⋯ & -0.18999302 & 4.8534273 &  7.360954949 & 6.665538e-03 & 2.028329e-02 &  0.026063347 & 4.8534273 & 1.430897e-01 & 7.052286e-01 & 7.643703e-01\\\\\n",
       "\t POMT2    &     29954 & -0.04994793 & 4.7473841 & 4.052848e-01 & 5.243725e-01 & 6.296775e-01 &  0.035629474 & 4.7473841 &  0.202399915 & ⋯ & -0.28926000 & 4.7473841 & 14.077216790 & 1.754560e-04 & 9.535690e-04 &  0.303578453 & 4.7473841 & 1.667239e+01 & 4.440000e-05 & 1.527140e-04\\\\\n",
       "\t POMZP3   &     22932 &  0.12684700 & 3.5797706 & 9.732877e-01 & 3.238616e-01 & 4.368586e-01 & -0.119596212 & 3.5797706 &  0.815506089 & ⋯ & -0.01272829 & 3.5797706 &  0.010252849 & 9.193470e-01 & 9.460262e-01 &  0.005477501 & 3.5797706 & 1.918933e-03 & 9.650593e-01 & 9.735068e-01\\\\\n",
       "\t PON1     &      5444 & -0.22180949 & 1.3509988 & 4.489141e-01 & 5.028511e-01 & 6.106307e-01 &  0.658916100 & 1.3509988 &  4.280243291 & ⋯ & -1.22206637 & 1.3509988 & 12.871006290 & 3.337120e-04 & 1.639673e-03 &  0.784959761 & 1.3509988 & 6.697706e+00 & 9.653706e-03 & 1.926941e-02\\\\\n",
       "\t PON2     &      5445 & -0.08990220 & 6.5049090 & 1.130990e+00 & 2.875643e-01 & 3.984723e-01 &  0.321198894 & 6.5049090 & 14.740152310 & ⋯ &  0.03731213 & 6.5049090 &  0.210319449 & 6.465171e-01 & 7.459096e-01 & -0.268608829 & 6.5049090 & 1.062443e+01 & 1.116031e-03 & 2.822455e-03\\\\\n",
       "\t PON3     &      5446 & -0.21537815 & 1.2556005 & 3.195536e-01 & 5.718760e-01 & 6.735872e-01 & -0.096271954 & 1.2556005 &  0.062893715 & ⋯ & -0.35503715 & 1.2556005 &  0.910958231 & 3.398603e-01 & 4.645914e-01 &  0.666687257 & 1.2556005 & 3.600378e+00 & 5.776642e-02 & 9.360277e-02\\\\\n",
       "\t POP1     &     10940 & -0.01250400 & 3.1027569 & 2.848456e-02 & 8.659747e-01 & 9.066212e-01 &  0.107723062 & 3.1027569 &  2.083302474 & ⋯ &  0.04284999 & 3.1027569 &  0.357994298 & 5.496223e-01 & 6.646676e-01 & -0.138069050 & 3.1027569 & 3.675162e+00 & 5.522888e-02 & 8.991242e-02\\\\\n",
       "\t POP4     &     10775 & -0.51677594 & 6.0573406 & 1.325123e+01 & 2.724010e-04 & 1.381919e-03 & -0.540561228 & 6.0573406 & 14.008320410 & ⋯ &  0.82151491 & 6.0573406 & 41.146552220 & 1.410000e-10 & 3.110000e-09 &  0.235822258 & 6.0573406 & 3.235058e+00 & 7.207775e-02 & 1.130474e-01\\\\\n",
       "\t POP5     &     51367 & -0.39360068 & 4.4075043 & 2.077492e+01 & 5.170000e-06 & 4.430000e-05 & -0.038350965 & 4.4075043 &  0.200170342 & ⋯ &  0.24717681 & 4.4075043 &  9.393132661 & 2.177997e-03 & 7.993171e-03 &  0.184774828 & 4.4075043 & 5.258441e+00 & 2.184058e-02 & 3.974150e-02\\\\\n",
       "\t POP7     &     10248 & -0.34293249 & 5.2495125 & 1.967368e+01 & 9.190000e-06 & 7.270000e-05 &  0.109267851 & 5.2495125 &  2.051770381 & ⋯ &  0.23252710 & 5.2495125 & 10.287584890 & 1.339283e-03 & 5.298613e-03 &  0.001137536 & 5.2495125 & 2.425670e-04 & 9.875738e-01 & 9.912212e-01\\\\\n",
       "\t ATP6V1G1 &      9550 & -0.03688180 & 7.0529355 & 2.311906e-01 & 6.306425e-01 & 7.237581e-01 &  0.027408071 & 7.0529355 &  0.125006929 & ⋯ &  0.07152341 & 7.0529355 &  0.936036790 & 3.332992e-01 & 4.576789e-01 & -0.062049682 & 7.0529355 & 7.001442e-01 & 4.027353e-01 & 4.874221e-01\\\\\n",
       "\t POPDC2   &     64091 &  0.20010816 & 0.7172611 & 4.385602e+00 & 3.624370e-02 & 7.788420e-02 & -0.270540014 & 0.7172611 &  7.299781581 & ⋯ & -0.07111323 & 0.7172611 &  0.569461650 & 4.504729e-01 & 5.748338e-01 &  0.141545091 & 0.7172611 & 2.337224e+00 & 1.263145e-01 & 1.831422e-01\\\\\n",
       "\t POPDC3   &     64208 & -0.92312728 & 0.4145986 & 6.685542e+00 & 9.719798e-03 & 2.645984e-02 &  0.054910434 & 0.4145986 &  0.026452457 & ⋯ & -0.63169939 & 0.4145986 &  3.479472663 & 6.213454e-02 & 1.234414e-01 &  1.499916239 & 0.4145986 & 2.416938e+01 & 8.820000e-07 & 4.310000e-06\\\\\n",
       "\t POR      &      5447 & -0.19509658 & 7.2889151 & 5.972801e+00 & 1.452819e-02 & 3.683380e-02 &  0.310633521 & 7.2889151 & 15.641222890 & ⋯ &  0.05780090 & 7.2889151 &  0.574599748 & 4.484369e-01 & 5.728604e-01 & -0.173337842 & 7.2889151 & 5.080229e+00 & 2.420017e-02 & 4.354027e-02\\\\\n",
       "\t PORCN    &     64840 &  0.01368893 & 5.0043736 & 9.012165e-03 & 9.243685e-01 & 9.469868e-01 &  0.510108436 & 5.0043736 & 12.890451880 & ⋯ &  0.01065856 & 5.0043736 &  0.005808698 & 9.392482e-01 & 9.598175e-01 & -0.534455928 & 5.0043736 & 1.383452e+01 & 1.996340e-04 & 6.024270e-04\\\\\n",
       "\t POSTN    &     10631 &  2.62926770 & 6.6347982 & 1.289688e+02 & 6.890000e-30 & 6.020000e-28 & -0.870628370 & 6.6347982 & 10.014156330 & ⋯ &  0.20262764 & 6.6347982 &  0.680747883 & 4.093293e-01 & 5.345281e-01 & -1.961266971 & 6.6347982 & 4.933693e+01 & 2.160000e-12 & 2.640000e-11\\\\\n",
       "\t POT1     &     25913 & -0.20272344 & 5.1013811 & 7.465901e+00 & 6.287855e-03 & 1.858337e-02 & -0.053071665 & 5.1013811 &  0.506122972 & ⋯ &  0.08722529 & 5.1013811 &  1.521345411 & 2.174160e-01 & 3.310312e-01 &  0.168569815 & 5.1013811 & 5.778097e+00 & 1.622710e-02 & 3.059198e-02\\\\\n",
       "\t POTEF    &    728378 &  0.17986126 & 0.5382186 & 8.831078e-01 & 3.473519e-01 & 4.615697e-01 & -0.003759615 & 0.5382186 &  0.000364244 & ⋯ & -0.27453408 & 0.5382186 &  2.077088905 & 1.495251e-01 & 2.478021e-01 &  0.098432440 & 0.5382186 & 2.807025e-01 & 5.962412e-01 & 6.698553e-01\\\\\n",
       "\t POU2AF1  &      5450 &  0.02599428 & 2.6130569 & 1.167767e-02 & 9.139455e-01 & 9.398323e-01 & -1.295666543 & 2.6130569 & 23.422026500 & ⋯ &  1.29574329 & 2.6130569 & 34.266927850 & 4.800000e-09 & 8.160000e-08 & -0.026071022 & 2.6130569 & 1.233437e-02 & 9.115686e-01 & 9.320953e-01\\\\\n",
       "\t POU2F1   &      5451 & -0.17873502 & 3.9622907 & 6.111471e+00 & 1.343073e-02 & 3.450571e-02 & -0.007693784 & 3.9622907 &  0.011222357 & ⋯ & -0.17588905 & 3.9622907 &  6.308967122 & 1.201288e-02 & 3.294392e-02 &  0.362317852 & 3.9622907 & 2.858633e+01 & 8.960000e-08 & 5.270000e-07\\\\\n",
       "\t POU2F2   &      5452 &  0.58196769 & 2.8054157 & 2.564686e+01 & 4.100000e-07 & 4.480000e-06 & -0.516608494 & 2.8054157 & 17.170354570 & ⋯ &  0.41483008 & 2.8054157 & 13.545915050 & 2.327980e-04 & 1.205349e-03 & -0.480189276 & 2.8054157 & 1.659568e+01 & 4.630000e-05 & 1.584800e-04\\\\\n",
       "\\end{tabular}\n"
      ],
      "text/markdown": [
       "\n",
       "A data.frame: 15211 × 23\n",
       "\n",
       "| Name &lt;chr&gt; | geneid &lt;int&gt; | logFC.mesen &lt;dbl&gt; | logCPM.mesen &lt;dbl&gt; | LR.mesen &lt;dbl&gt; | PValue.mesen &lt;dbl&gt; | FDR.mesen &lt;dbl&gt; | logFC.diff &lt;dbl&gt; | logCPM.diff &lt;dbl&gt; | LR.diff &lt;dbl&gt; | ⋯ ⋯ | logFC.immuno &lt;dbl&gt; | logCPM.immuno &lt;dbl&gt; | LR.immuno &lt;dbl&gt; | PValue.immuno &lt;dbl&gt; | FDR.immuno &lt;dbl&gt; | logFC.prolif &lt;dbl&gt; | logCPM.prolif &lt;dbl&gt; | LR.prolif &lt;dbl&gt; | PValue.prolif &lt;dbl&gt; | FDR.prolif &lt;dbl&gt; |\n",
       "|---|---|---|---|---|---|---|---|---|---|---|---|---|---|---|---|---|---|---|---|---|\n",
       "| A1BG        |      1 | -0.077320895 | 2.5827100 |  0.265542288 | 6.063378e-01 | 7.038775e-01 | -0.242890159 | 2.5827100 | 2.490778e+00 | ⋯ |  0.39312991 | 2.5827100 |  7.67701142 | 5.592872e-03 | 0.017527558 | -0.07291885 | 2.5827100 |  0.2536317 | 6.145294e-01 | 6.852028e-01 |\n",
       "| AADAT       |  51166 |  0.070121562 | 2.2266988 |  0.250469112 | 6.167450e-01 | 7.129096e-01 | -0.586270386 | 2.2266988 | 1.559364e+01 | ⋯ | -0.43841330 | 2.2266988 |  9.80546955 | 1.739936e-03 | 0.006603769 |  0.95456212 | 2.2266988 | 53.9597476 | 2.050000e-13 | 2.860000e-12 |\n",
       "| ACADVL      |     37 | -0.081684942 | 7.3203376 |  0.928061773 | 3.353671e-01 | 4.493222e-01 |  0.002490680 | 7.3203376 | 8.467680e-04 | ⋯ |  0.12857053 | 7.3203376 |  2.50393576 | 1.135622e-01 | 0.199550404 | -0.04937627 | 7.3203376 |  0.3652864 | 5.455849e-01 | 6.229750e-01 |\n",
       "| ATP6V1G2    |    534 | -0.314748726 | 1.2661867 |  3.301836234 | 6.920248e-02 | 1.311622e-01 | -0.357141995 | 1.2661867 | 4.100941e+00 | ⋯ |  0.20418411 | 1.2661867 |  1.57198027 | 2.099197e-01 | 0.322447272 |  0.46770661 | 1.2661867 |  8.5343521 | 3.485054e-03 | 7.837764e-03 |\n",
       "| POU2F3      |  25833 |  0.221858061 | 4.8887288 |  1.239245261 | 2.656166e-01 | 3.745420e-01 |  0.288698853 | 4.8887288 | 2.056991e+00 | ⋯ |  0.86807297 | 4.8887288 | 21.37327834 | 3.780000e-06 | 0.000033800 | -1.37862988 | 4.8887288 | 42.3202960 | 7.750000e-11 | 7.470000e-10 |\n",
       "| POU5F1      |   5460 | -0.727618829 | 1.7583399 | 11.139330420 | 8.451640e-04 | 3.591238e-03 |  0.322238215 | 1.7583399 | 2.420652e+00 | ⋯ |  0.66398983 | 1.7583399 | 11.56842358 | 6.708130e-04 | 0.002956941 | -0.25860921 | 1.7583399 |  1.6079839 | 2.047754e-01 | 2.763034e-01 |\n",
       "| POU5F1B     |   5462 | -0.421291192 | 0.4675505 |  6.815279599 | 9.038115e-03 | 2.494789e-02 | -0.142569674 | 0.4675505 | 7.833023e-01 | ⋯ |  0.31208778 | 0.4675505 |  4.34101042 | 3.720484e-02 | 0.082213828 |  0.25177309 | 0.4675505 |  2.8296153 | 9.254053e-02 | 1.403656e-01 |\n",
       "| POU6F1      |   5463 |  0.082304656 | 2.8167736 |  0.625238935 | 4.291071e-01 | 5.427436e-01 | -0.289833294 | 2.8167736 | 7.181229e+00 | ⋯ | -0.04186972 | 2.8167736 |  0.16957791 | 6.804872e-01 | 0.773949259 |  0.24939836 | 2.8167736 |  6.2590453 | 1.235608e-02 | 2.402360e-02 |\n",
       "| POU6F2      |  11281 | -0.269211034 | 0.4724774 |  0.502561744 | 4.783767e-01 | 5.879032e-01 | -0.929613277 | 0.4724774 | 5.332995e+00 | ⋯ | -0.19907201 | 0.4724774 |  0.29516453 | 5.869298e-01 | 0.697257048 |  1.39789632 | 0.4724774 | 16.9657456 | 3.810000e-05 | 1.329450e-04 |\n",
       "| PPA1        |   5464 | -0.251474444 | 7.7013474 |  6.349348630 | 1.174244e-02 | 3.091344e-02 |  0.301206390 | 7.7013474 | 9.465266e+00 | ⋯ |  0.40702444 | 7.7013474 | 19.02881073 | 1.290000e-05 | 0.000099500 | -0.45675638 | 7.7013474 | 22.0003182 | 2.730000e-06 | 1.210000e-05 |\n",
       "| PPA2        |  27068 | -0.189782684 | 5.5349661 |  5.936935106 | 1.482678e-02 | 3.741188e-02 | -0.032226270 | 5.5349661 | 1.694910e-01 | ⋯ |  0.25561506 | 5.5349661 | 12.04440461 | 5.194810e-04 | 0.002390303 | -0.03360611 | 5.5349661 |  0.2035812 | 6.518456e-01 | 7.186979e-01 |\n",
       "| PPAN-P2RY11 | 692312 | -0.495027529 | 2.6019555 |  2.507779036 | 1.132855e-01 | 1.928274e-01 |  0.245427620 | 2.6019555 | 6.563417e-01 | ⋯ | -0.15811447 | 2.6019555 |  0.28436075 | 5.938572e-01 | 0.703310483 |  0.40771438 | 2.6019555 |  2.0228975 | 1.549432e-01 | 2.180991e-01 |\n",
       "| PPAN        |  56342 | -0.289016719 | 5.2481205 |  8.993166597 | 2.709910e-03 | 9.322287e-03 |  0.095779765 | 5.2481205 | 1.005959e+00 | ⋯ |  0.05166693 | 5.2481205 |  0.31853115 | 5.724917e-01 | 0.684326881 |  0.14157002 | 5.2481205 |  2.4339514 | 1.187333e-01 | 1.736368e-01 |\n",
       "| PPAP2A      |   8611 |  0.751353871 | 4.5650929 | 90.622144960 | 1.740000e-21 | 8.320000e-20 | -0.222469817 | 4.5650929 | 6.903280e+00 | ⋯ | -0.10453108 | 4.5650929 |  1.69681934 | 1.927045e-01 | 0.301445539 | -0.42435298 | 4.5650929 | 27.1973035 | 1.840000e-07 | 1.020000e-06 |\n",
       "| ATP6V1H     |  51606 | -0.195562499 | 5.7811572 |  7.660903964 | 5.643022e-03 | 1.698489e-02 |  0.000017700 | 5.7811572 | 6.410000e-08 | ⋯ |  0.02180684 | 5.7811572 |  0.10400590 | 7.470743e-01 | 0.825363338 |  0.17373792 | 5.7811572 |  6.7634538 | 9.304350e-03 | 1.867253e-02 |\n",
       "| PPAP2B      |   8613 |  0.113051870 | 6.2545915 |  0.677806863 | 4.103429e-01 | 5.243290e-01 | -0.435874050 | 6.2545915 | 9.131165e+00 | ⋯ | -0.29706751 | 6.2545915 |  4.74990852 | 2.929985e-02 | 0.067860741 |  0.61988969 | 6.2545915 | 22.9231871 | 1.690000e-06 | 7.780000e-06 |\n",
       "| PPAP2C      |   8612 | -0.092849030 | 5.3519188 |  0.310872849 | 5.771451e-01 | 6.787422e-01 |  0.669341226 | 5.3519188 | 1.716111e+01 | ⋯ |  0.03435273 | 5.3519188 |  0.04595310 | 8.302611e-01 | 0.884015635 | -0.61084493 | 5.3519188 | 13.6069570 | 2.253490e-04 | 6.708430e-04 |\n",
       "| PPAPDC1A    | 196051 |  0.370583427 | 3.0426590 |  2.717534906 | 9.925119e-02 | 1.738610e-01 | -0.834546409 | 3.0426590 | 1.149183e+01 | ⋯ |  0.18837978 | 3.0426590 |  0.73013221 | 3.928403e-01 | 0.518335261 |  0.27558320 | 3.0426590 |  1.5891351 | 2.074498e-01 | 2.792349e-01 |\n",
       "| PPAPDC1B    |  84513 | -0.186325544 | 4.8392867 |  3.763243535 | 5.239086e-02 | 1.053357e-01 |  0.113748905 | 4.8392867 | 1.413308e+00 | ⋯ | -0.08922657 | 4.8392867 |  0.92969915 | 3.349411e-01 | 0.459475535 |  0.16180321 | 4.8392867 |  3.1670082 | 7.513997e-02 | 1.173704e-01 |\n",
       "| PPAPDC2     | 403313 | -0.288380474 | 4.0983374 |  9.434225953 | 2.129730e-03 | 7.648122e-03 |  0.016735163 | 4.0983374 | 3.204177e-02 | ⋯ |  0.32065368 | 4.0983374 | 13.29470147 | 2.661570e-04 | 0.001355468 | -0.04900837 | 4.0983374 |  0.3011944 | 5.831346e-01 | 6.584504e-01 |\n",
       "| PPAPDC3     |  84814 |  0.463620836 | 0.6212830 |  8.278889356 | 4.010865e-03 | 1.288832e-02 | -0.268694402 | 0.6212830 | 2.472365e+00 | ⋯ | -0.53193510 | 0.6212830 | 10.31266649 | 1.321202e-03 | 0.005233889 |  0.33700867 | 0.6212830 |  4.6109440 | 3.176854e-02 | 5.538197e-02 |\n",
       "| PPARA       |   5465 |  0.255375475 | 4.9940097 |  8.160095582 | 4.282211e-03 | 1.358236e-02 |  0.003906393 | 4.9940097 | 1.802063e-03 | ⋯ |  0.15469117 | 4.9940097 |  3.14231122 | 7.628564e-02 | 0.145767755 | -0.41397304 | 4.9940097 | 21.3007241 | 3.930000e-06 | 1.690000e-05 |\n",
       "| PPARD       |   5467 |  0.169366586 | 6.1197434 |  6.017551443 | 1.416429e-02 | 3.609164e-02 | -0.052137186 | 6.1197434 | 5.394128e-01 | ⋯ |  0.06245636 | 6.1197434 |  0.85890012 | 3.540467e-01 | 0.478521359 | -0.17968576 | 6.1197434 |  6.9803573 | 8.240915e-03 | 1.674380e-02 |\n",
       "| PPARG       |   5468 |  0.769792891 | 1.9299475 | 20.445467210 | 6.140000e-06 | 5.130000e-05 | -0.299063801 | 1.9299475 | 2.649317e+00 | ⋯ |  0.43984339 | 1.9299475 |  6.82600940 | 8.983977e-03 | 0.026026329 | -0.91057248 | 1.9299475 | 25.3233443 | 4.850000e-07 | 2.490000e-06 |\n",
       "| PPARGC1A    |  10891 |  0.325640124 | 1.2060178 |  1.321582313 | 2.503083e-01 | 3.575967e-01 |  0.004092240 | 1.2060178 | 2.467810e-04 | ⋯ | -1.82384316 | 1.2060178 | 33.71154539 | 6.390000e-09 | 0.000000105 |  1.49411079 | 1.2060178 | 32.4675154 | 1.210000e-08 | 8.320000e-08 |\n",
       "| ATP7A       |    538 |  0.037864241 | 4.1064671 |  0.156376858 | 6.925144e-01 | 7.748826e-01 | -0.054890339 | 4.1064671 | 3.155516e-01 | ⋯ |  0.14632452 | 4.1064671 |  2.51160237 | 1.130110e-01 | 0.198834475 | -0.12929842 | 4.1064671 |  1.9197432 | 1.658850e-01 | 2.311480e-01 |\n",
       "| PPARGC1B    | 133522 | -0.005480188 | 3.1427926 |  0.001867104 | 9.655341e-01 | 9.750203e-01 |  0.467741254 | 3.1427926 | 1.405003e+01 | ⋯ |  0.24985707 | 3.1427926 |  4.26418083 | 3.892401e-02 | 0.085098027 | -0.71211813 | 3.1427926 | 31.3153280 | 2.190000e-08 | 1.430000e-07 |\n",
       "| PPAT        |   5471 | -0.071729292 | 4.7193858 |  0.851008678 | 3.562671e-01 | 4.702825e-01 | -0.064427142 | 4.7193858 | 6.672016e-01 | ⋯ |  0.02211717 | 4.7193858 |  0.08701192 | 7.680108e-01 | 0.839958339 |  0.11403926 | 4.7193858 |  2.3557352 | 1.248230e-01 | 1.812185e-01 |\n",
       "| PPCDC       |  60490 | -0.243529801 | 3.0833274 |  6.133486003 | 1.326451e-02 | 3.413053e-02 |  0.031240172 | 3.0833274 | 1.013891e-01 | ⋯ |  0.27438336 | 3.0833274 |  8.78477240 | 3.037555e-03 | 0.010621153 | -0.06209374 | 3.0833274 |  0.4378446 | 5.081646e-01 | 5.878479e-01 |\n",
       "| PPCS        |  79717 | -0.110361777 | 6.1865098 |  1.646294258 | 1.994641e-01 | 3.001530e-01 | -0.007352508 | 6.1865098 | 7.186898e-03 | ⋯ |  0.25923733 | 6.1865098 | 10.06292561 | 1.512828e-03 | 0.005888726 | -0.14152305 | 6.1865098 |  2.8971213 | 8.873790e-02 | 1.353535e-01 |\n",
       "| ⋮ | ⋮ | ⋮ | ⋮ | ⋮ | ⋮ | ⋮ | ⋮ | ⋮ | ⋮ | ⋱ | ⋮ | ⋮ | ⋮ | ⋮ | ⋮ | ⋮ | ⋮ | ⋮ | ⋮ | ⋮ |\n",
       "| POLR3H   |    171568 |  0.05577472 | 5.4270625 | 7.111842e-01 | 3.990510e-01 | 5.128295e-01 |  0.005373598 | 5.4270625 |  0.006373906 | ⋯ |  0.05516554 | 5.4270625 |  0.739435890 | 3.898416e-01 | 5.156309e-01 | -0.116313853 | 5.4270625 | 3.253322e+00 | 7.127888e-02 | 1.119098e-01 |\n",
       "| POLR3K   |     51728 | -0.26768487 | 3.8890382 | 8.384031e+00 | 3.785320e-03 | 1.225938e-02 | -0.072718936 | 3.8890382 |  0.615379660 | ⋯ |  0.34806181 | 3.8890382 | 16.158436370 | 5.830000e-05 | 3.681880e-04 | -0.007658001 | 3.8890382 | 7.596097e-03 | 9.305478e-01 | 9.469825e-01 |\n",
       "| POLRMT   |      5442 | -0.18010055 | 5.3351053 | 5.295419e+00 | 2.138159e-02 | 5.049787e-02 |  0.163203481 | 5.3351053 |  4.405063859 | ⋯ | -0.01938042 | 5.3351053 |  0.066524731 | 7.964657e-01 | 8.605014e-01 |  0.036277490 | 5.3351053 | 2.364679e-01 | 6.267689e-01 | 6.953062e-01 |\n",
       "| POM121   |      9883 | -0.01073478 | 7.4620770 | 2.432243e-02 | 8.760673e-01 | 9.134344e-01 |  0.044023990 | 7.4620770 |  0.400084203 | ⋯ | -0.23091030 | 7.4620770 | 11.679603250 | 6.318900e-04 | 2.815557e-03 |  0.197621095 | 7.4620770 | 9.036768e+00 | 2.646031e-03 | 6.122820e-03 |\n",
       "| POM121C  | 100101267 | -0.00683170 | 6.4824992 | 9.748615e-03 | 9.213486e-01 | 9.448901e-01 |  0.044313014 | 6.4824992 |  0.400973597 | ⋯ | -0.21883401 | 6.4824992 | 10.390606140 | 1.266580e-03 | 5.054360e-03 |  0.181352693 | 6.4824992 | 7.515693e+00 | 6.116374e-03 | 1.291178e-02 |\n",
       "| POMC     |      5443 | -0.98832367 | 1.7656506 | 1.423243e+01 | 1.615620e-04 | 8.840600e-04 | -1.809294029 | 1.7656506 | 41.176258820 | ⋯ | -0.63339820 | 1.7656506 |  6.544304802 | 1.052204e-02 | 2.959444e-02 |  3.431015902 | 1.7656506 | 2.457936e+02 | 2.150000e-55 | 4.080000e-52 |\n",
       "| POMGNT1  |     55624 | -0.14466654 | 6.6631005 | 4.889011e+00 | 2.702816e-02 | 6.135687e-02 |  0.122476465 | 6.6631005 |  3.517153531 | ⋯ |  0.09086914 | 6.6631005 |  2.108515126 | 1.464814e-01 | 2.440073e-01 | -0.068679073 | 6.6631005 | 1.193680e+00 | 2.745885e-01 | 3.537766e-01 |\n",
       "| POMP     |     51371 | -0.05344880 | 6.4707510 | 3.825942e-01 | 5.362181e-01 | 6.403635e-01 | -0.109333394 | 6.4707510 |  1.543880585 | ⋯ |  0.27919455 | 6.4707510 | 11.508327240 | 6.928510e-04 | 3.041746e-03 | -0.116412357 | 6.4707510 | 1.934162e+00 | 1.643038e-01 | 2.291966e-01 |\n",
       "| ATP6V1F  |      9296 | -0.13882760 | 7.0512506 | 2.881486e+00 | 8.960332e-02 | 1.603679e-01 | -0.057322316 | 7.0512506 |  0.481870816 | ⋯ |  0.24423322 | 7.0512506 |  9.898800146 | 1.653866e-03 | 6.341972e-03 | -0.048083305 | 7.0512506 | 3.750313e-01 | 5.402745e-01 | 6.182854e-01 |\n",
       "| POMT1    |     10585 |  0.05036836 | 4.8534273 | 4.998901e-01 | 4.795484e-01 | 5.892004e-01 |  0.113561316 | 4.8534273 |  2.487525592 | ⋯ | -0.18999302 | 4.8534273 |  7.360954949 | 6.665538e-03 | 2.028329e-02 |  0.026063347 | 4.8534273 | 1.430897e-01 | 7.052286e-01 | 7.643703e-01 |\n",
       "| POMT2    |     29954 | -0.04994793 | 4.7473841 | 4.052848e-01 | 5.243725e-01 | 6.296775e-01 |  0.035629474 | 4.7473841 |  0.202399915 | ⋯ | -0.28926000 | 4.7473841 | 14.077216790 | 1.754560e-04 | 9.535690e-04 |  0.303578453 | 4.7473841 | 1.667239e+01 | 4.440000e-05 | 1.527140e-04 |\n",
       "| POMZP3   |     22932 |  0.12684700 | 3.5797706 | 9.732877e-01 | 3.238616e-01 | 4.368586e-01 | -0.119596212 | 3.5797706 |  0.815506089 | ⋯ | -0.01272829 | 3.5797706 |  0.010252849 | 9.193470e-01 | 9.460262e-01 |  0.005477501 | 3.5797706 | 1.918933e-03 | 9.650593e-01 | 9.735068e-01 |\n",
       "| PON1     |      5444 | -0.22180949 | 1.3509988 | 4.489141e-01 | 5.028511e-01 | 6.106307e-01 |  0.658916100 | 1.3509988 |  4.280243291 | ⋯ | -1.22206637 | 1.3509988 | 12.871006290 | 3.337120e-04 | 1.639673e-03 |  0.784959761 | 1.3509988 | 6.697706e+00 | 9.653706e-03 | 1.926941e-02 |\n",
       "| PON2     |      5445 | -0.08990220 | 6.5049090 | 1.130990e+00 | 2.875643e-01 | 3.984723e-01 |  0.321198894 | 6.5049090 | 14.740152310 | ⋯ |  0.03731213 | 6.5049090 |  0.210319449 | 6.465171e-01 | 7.459096e-01 | -0.268608829 | 6.5049090 | 1.062443e+01 | 1.116031e-03 | 2.822455e-03 |\n",
       "| PON3     |      5446 | -0.21537815 | 1.2556005 | 3.195536e-01 | 5.718760e-01 | 6.735872e-01 | -0.096271954 | 1.2556005 |  0.062893715 | ⋯ | -0.35503715 | 1.2556005 |  0.910958231 | 3.398603e-01 | 4.645914e-01 |  0.666687257 | 1.2556005 | 3.600378e+00 | 5.776642e-02 | 9.360277e-02 |\n",
       "| POP1     |     10940 | -0.01250400 | 3.1027569 | 2.848456e-02 | 8.659747e-01 | 9.066212e-01 |  0.107723062 | 3.1027569 |  2.083302474 | ⋯ |  0.04284999 | 3.1027569 |  0.357994298 | 5.496223e-01 | 6.646676e-01 | -0.138069050 | 3.1027569 | 3.675162e+00 | 5.522888e-02 | 8.991242e-02 |\n",
       "| POP4     |     10775 | -0.51677594 | 6.0573406 | 1.325123e+01 | 2.724010e-04 | 1.381919e-03 | -0.540561228 | 6.0573406 | 14.008320410 | ⋯ |  0.82151491 | 6.0573406 | 41.146552220 | 1.410000e-10 | 3.110000e-09 |  0.235822258 | 6.0573406 | 3.235058e+00 | 7.207775e-02 | 1.130474e-01 |\n",
       "| POP5     |     51367 | -0.39360068 | 4.4075043 | 2.077492e+01 | 5.170000e-06 | 4.430000e-05 | -0.038350965 | 4.4075043 |  0.200170342 | ⋯ |  0.24717681 | 4.4075043 |  9.393132661 | 2.177997e-03 | 7.993171e-03 |  0.184774828 | 4.4075043 | 5.258441e+00 | 2.184058e-02 | 3.974150e-02 |\n",
       "| POP7     |     10248 | -0.34293249 | 5.2495125 | 1.967368e+01 | 9.190000e-06 | 7.270000e-05 |  0.109267851 | 5.2495125 |  2.051770381 | ⋯ |  0.23252710 | 5.2495125 | 10.287584890 | 1.339283e-03 | 5.298613e-03 |  0.001137536 | 5.2495125 | 2.425670e-04 | 9.875738e-01 | 9.912212e-01 |\n",
       "| ATP6V1G1 |      9550 | -0.03688180 | 7.0529355 | 2.311906e-01 | 6.306425e-01 | 7.237581e-01 |  0.027408071 | 7.0529355 |  0.125006929 | ⋯ |  0.07152341 | 7.0529355 |  0.936036790 | 3.332992e-01 | 4.576789e-01 | -0.062049682 | 7.0529355 | 7.001442e-01 | 4.027353e-01 | 4.874221e-01 |\n",
       "| POPDC2   |     64091 |  0.20010816 | 0.7172611 | 4.385602e+00 | 3.624370e-02 | 7.788420e-02 | -0.270540014 | 0.7172611 |  7.299781581 | ⋯ | -0.07111323 | 0.7172611 |  0.569461650 | 4.504729e-01 | 5.748338e-01 |  0.141545091 | 0.7172611 | 2.337224e+00 | 1.263145e-01 | 1.831422e-01 |\n",
       "| POPDC3   |     64208 | -0.92312728 | 0.4145986 | 6.685542e+00 | 9.719798e-03 | 2.645984e-02 |  0.054910434 | 0.4145986 |  0.026452457 | ⋯ | -0.63169939 | 0.4145986 |  3.479472663 | 6.213454e-02 | 1.234414e-01 |  1.499916239 | 0.4145986 | 2.416938e+01 | 8.820000e-07 | 4.310000e-06 |\n",
       "| POR      |      5447 | -0.19509658 | 7.2889151 | 5.972801e+00 | 1.452819e-02 | 3.683380e-02 |  0.310633521 | 7.2889151 | 15.641222890 | ⋯ |  0.05780090 | 7.2889151 |  0.574599748 | 4.484369e-01 | 5.728604e-01 | -0.173337842 | 7.2889151 | 5.080229e+00 | 2.420017e-02 | 4.354027e-02 |\n",
       "| PORCN    |     64840 |  0.01368893 | 5.0043736 | 9.012165e-03 | 9.243685e-01 | 9.469868e-01 |  0.510108436 | 5.0043736 | 12.890451880 | ⋯ |  0.01065856 | 5.0043736 |  0.005808698 | 9.392482e-01 | 9.598175e-01 | -0.534455928 | 5.0043736 | 1.383452e+01 | 1.996340e-04 | 6.024270e-04 |\n",
       "| POSTN    |     10631 |  2.62926770 | 6.6347982 | 1.289688e+02 | 6.890000e-30 | 6.020000e-28 | -0.870628370 | 6.6347982 | 10.014156330 | ⋯ |  0.20262764 | 6.6347982 |  0.680747883 | 4.093293e-01 | 5.345281e-01 | -1.961266971 | 6.6347982 | 4.933693e+01 | 2.160000e-12 | 2.640000e-11 |\n",
       "| POT1     |     25913 | -0.20272344 | 5.1013811 | 7.465901e+00 | 6.287855e-03 | 1.858337e-02 | -0.053071665 | 5.1013811 |  0.506122972 | ⋯ |  0.08722529 | 5.1013811 |  1.521345411 | 2.174160e-01 | 3.310312e-01 |  0.168569815 | 5.1013811 | 5.778097e+00 | 1.622710e-02 | 3.059198e-02 |\n",
       "| POTEF    |    728378 |  0.17986126 | 0.5382186 | 8.831078e-01 | 3.473519e-01 | 4.615697e-01 | -0.003759615 | 0.5382186 |  0.000364244 | ⋯ | -0.27453408 | 0.5382186 |  2.077088905 | 1.495251e-01 | 2.478021e-01 |  0.098432440 | 0.5382186 | 2.807025e-01 | 5.962412e-01 | 6.698553e-01 |\n",
       "| POU2AF1  |      5450 |  0.02599428 | 2.6130569 | 1.167767e-02 | 9.139455e-01 | 9.398323e-01 | -1.295666543 | 2.6130569 | 23.422026500 | ⋯ |  1.29574329 | 2.6130569 | 34.266927850 | 4.800000e-09 | 8.160000e-08 | -0.026071022 | 2.6130569 | 1.233437e-02 | 9.115686e-01 | 9.320953e-01 |\n",
       "| POU2F1   |      5451 | -0.17873502 | 3.9622907 | 6.111471e+00 | 1.343073e-02 | 3.450571e-02 | -0.007693784 | 3.9622907 |  0.011222357 | ⋯ | -0.17588905 | 3.9622907 |  6.308967122 | 1.201288e-02 | 3.294392e-02 |  0.362317852 | 3.9622907 | 2.858633e+01 | 8.960000e-08 | 5.270000e-07 |\n",
       "| POU2F2   |      5452 |  0.58196769 | 2.8054157 | 2.564686e+01 | 4.100000e-07 | 4.480000e-06 | -0.516608494 | 2.8054157 | 17.170354570 | ⋯ |  0.41483008 | 2.8054157 | 13.545915050 | 2.327980e-04 | 1.205349e-03 | -0.480189276 | 2.8054157 | 1.659568e+01 | 4.630000e-05 | 1.584800e-04 |\n",
       "\n"
      ],
      "text/plain": [
       "      Name        geneid    logFC.mesen  logCPM.mesen LR.mesen     PValue.mesen\n",
       "1     A1BG             1    -0.077320895 2.5827100     0.265542288 6.063378e-01\n",
       "2     AADAT        51166     0.070121562 2.2266988     0.250469112 6.167450e-01\n",
       "3     ACADVL          37    -0.081684942 7.3203376     0.928061773 3.353671e-01\n",
       "4     ATP6V1G2       534    -0.314748726 1.2661867     3.301836234 6.920248e-02\n",
       "5     POU2F3       25833     0.221858061 4.8887288     1.239245261 2.656166e-01\n",
       "6     POU5F1        5460    -0.727618829 1.7583399    11.139330420 8.451640e-04\n",
       "7     POU5F1B       5462    -0.421291192 0.4675505     6.815279599 9.038115e-03\n",
       "8     POU6F1        5463     0.082304656 2.8167736     0.625238935 4.291071e-01\n",
       "9     POU6F2       11281    -0.269211034 0.4724774     0.502561744 4.783767e-01\n",
       "10    PPA1          5464    -0.251474444 7.7013474     6.349348630 1.174244e-02\n",
       "11    PPA2         27068    -0.189782684 5.5349661     5.936935106 1.482678e-02\n",
       "12    PPAN-P2RY11 692312    -0.495027529 2.6019555     2.507779036 1.132855e-01\n",
       "13    PPAN         56342    -0.289016719 5.2481205     8.993166597 2.709910e-03\n",
       "14    PPAP2A        8611     0.751353871 4.5650929    90.622144960 1.740000e-21\n",
       "15    ATP6V1H      51606    -0.195562499 5.7811572     7.660903964 5.643022e-03\n",
       "16    PPAP2B        8613     0.113051870 6.2545915     0.677806863 4.103429e-01\n",
       "17    PPAP2C        8612    -0.092849030 5.3519188     0.310872849 5.771451e-01\n",
       "18    PPAPDC1A    196051     0.370583427 3.0426590     2.717534906 9.925119e-02\n",
       "19    PPAPDC1B     84513    -0.186325544 4.8392867     3.763243535 5.239086e-02\n",
       "20    PPAPDC2     403313    -0.288380474 4.0983374     9.434225953 2.129730e-03\n",
       "21    PPAPDC3      84814     0.463620836 0.6212830     8.278889356 4.010865e-03\n",
       "22    PPARA         5465     0.255375475 4.9940097     8.160095582 4.282211e-03\n",
       "23    PPARD         5467     0.169366586 6.1197434     6.017551443 1.416429e-02\n",
       "24    PPARG         5468     0.769792891 1.9299475    20.445467210 6.140000e-06\n",
       "25    PPARGC1A     10891     0.325640124 1.2060178     1.321582313 2.503083e-01\n",
       "26    ATP7A          538     0.037864241 4.1064671     0.156376858 6.925144e-01\n",
       "27    PPARGC1B    133522    -0.005480188 3.1427926     0.001867104 9.655341e-01\n",
       "28    PPAT          5471    -0.071729292 4.7193858     0.851008678 3.562671e-01\n",
       "29    PPCDC        60490    -0.243529801 3.0833274     6.133486003 1.326451e-02\n",
       "30    PPCS         79717    -0.110361777 6.1865098     1.646294258 1.994641e-01\n",
       "⋮     ⋮           ⋮         ⋮            ⋮            ⋮            ⋮           \n",
       "15182 POLR3H         171568  0.05577472  5.4270625    7.111842e-01 3.990510e-01\n",
       "15183 POLR3K          51728 -0.26768487  3.8890382    8.384031e+00 3.785320e-03\n",
       "15184 POLRMT           5442 -0.18010055  5.3351053    5.295419e+00 2.138159e-02\n",
       "15185 POM121           9883 -0.01073478  7.4620770    2.432243e-02 8.760673e-01\n",
       "15186 POM121C     100101267 -0.00683170  6.4824992    9.748615e-03 9.213486e-01\n",
       "15187 POMC             5443 -0.98832367  1.7656506    1.423243e+01 1.615620e-04\n",
       "15188 POMGNT1         55624 -0.14466654  6.6631005    4.889011e+00 2.702816e-02\n",
       "15189 POMP            51371 -0.05344880  6.4707510    3.825942e-01 5.362181e-01\n",
       "15190 ATP6V1F          9296 -0.13882760  7.0512506    2.881486e+00 8.960332e-02\n",
       "15191 POMT1           10585  0.05036836  4.8534273    4.998901e-01 4.795484e-01\n",
       "15192 POMT2           29954 -0.04994793  4.7473841    4.052848e-01 5.243725e-01\n",
       "15193 POMZP3          22932  0.12684700  3.5797706    9.732877e-01 3.238616e-01\n",
       "15194 PON1             5444 -0.22180949  1.3509988    4.489141e-01 5.028511e-01\n",
       "15195 PON2             5445 -0.08990220  6.5049090    1.130990e+00 2.875643e-01\n",
       "15196 PON3             5446 -0.21537815  1.2556005    3.195536e-01 5.718760e-01\n",
       "15197 POP1            10940 -0.01250400  3.1027569    2.848456e-02 8.659747e-01\n",
       "15198 POP4            10775 -0.51677594  6.0573406    1.325123e+01 2.724010e-04\n",
       "15199 POP5            51367 -0.39360068  4.4075043    2.077492e+01 5.170000e-06\n",
       "15200 POP7            10248 -0.34293249  5.2495125    1.967368e+01 9.190000e-06\n",
       "15201 ATP6V1G1         9550 -0.03688180  7.0529355    2.311906e-01 6.306425e-01\n",
       "15202 POPDC2          64091  0.20010816  0.7172611    4.385602e+00 3.624370e-02\n",
       "15203 POPDC3          64208 -0.92312728  0.4145986    6.685542e+00 9.719798e-03\n",
       "15204 POR              5447 -0.19509658  7.2889151    5.972801e+00 1.452819e-02\n",
       "15205 PORCN           64840  0.01368893  5.0043736    9.012165e-03 9.243685e-01\n",
       "15206 POSTN           10631  2.62926770  6.6347982    1.289688e+02 6.890000e-30\n",
       "15207 POT1            25913 -0.20272344  5.1013811    7.465901e+00 6.287855e-03\n",
       "15208 POTEF          728378  0.17986126  0.5382186    8.831078e-01 3.473519e-01\n",
       "15209 POU2AF1          5450  0.02599428  2.6130569    1.167767e-02 9.139455e-01\n",
       "15210 POU2F1           5451 -0.17873502  3.9622907    6.111471e+00 1.343073e-02\n",
       "15211 POU2F2           5452  0.58196769  2.8054157    2.564686e+01 4.100000e-07\n",
       "      FDR.mesen    logFC.diff   logCPM.diff LR.diff      ⋯ logFC.immuno\n",
       "1     7.038775e-01 -0.242890159 2.5827100   2.490778e+00 ⋯  0.39312991 \n",
       "2     7.129096e-01 -0.586270386 2.2266988   1.559364e+01 ⋯ -0.43841330 \n",
       "3     4.493222e-01  0.002490680 7.3203376   8.467680e-04 ⋯  0.12857053 \n",
       "4     1.311622e-01 -0.357141995 1.2661867   4.100941e+00 ⋯  0.20418411 \n",
       "5     3.745420e-01  0.288698853 4.8887288   2.056991e+00 ⋯  0.86807297 \n",
       "6     3.591238e-03  0.322238215 1.7583399   2.420652e+00 ⋯  0.66398983 \n",
       "7     2.494789e-02 -0.142569674 0.4675505   7.833023e-01 ⋯  0.31208778 \n",
       "8     5.427436e-01 -0.289833294 2.8167736   7.181229e+00 ⋯ -0.04186972 \n",
       "9     5.879032e-01 -0.929613277 0.4724774   5.332995e+00 ⋯ -0.19907201 \n",
       "10    3.091344e-02  0.301206390 7.7013474   9.465266e+00 ⋯  0.40702444 \n",
       "11    3.741188e-02 -0.032226270 5.5349661   1.694910e-01 ⋯  0.25561506 \n",
       "12    1.928274e-01  0.245427620 2.6019555   6.563417e-01 ⋯ -0.15811447 \n",
       "13    9.322287e-03  0.095779765 5.2481205   1.005959e+00 ⋯  0.05166693 \n",
       "14    8.320000e-20 -0.222469817 4.5650929   6.903280e+00 ⋯ -0.10453108 \n",
       "15    1.698489e-02  0.000017700 5.7811572   6.410000e-08 ⋯  0.02180684 \n",
       "16    5.243290e-01 -0.435874050 6.2545915   9.131165e+00 ⋯ -0.29706751 \n",
       "17    6.787422e-01  0.669341226 5.3519188   1.716111e+01 ⋯  0.03435273 \n",
       "18    1.738610e-01 -0.834546409 3.0426590   1.149183e+01 ⋯  0.18837978 \n",
       "19    1.053357e-01  0.113748905 4.8392867   1.413308e+00 ⋯ -0.08922657 \n",
       "20    7.648122e-03  0.016735163 4.0983374   3.204177e-02 ⋯  0.32065368 \n",
       "21    1.288832e-02 -0.268694402 0.6212830   2.472365e+00 ⋯ -0.53193510 \n",
       "22    1.358236e-02  0.003906393 4.9940097   1.802063e-03 ⋯  0.15469117 \n",
       "23    3.609164e-02 -0.052137186 6.1197434   5.394128e-01 ⋯  0.06245636 \n",
       "24    5.130000e-05 -0.299063801 1.9299475   2.649317e+00 ⋯  0.43984339 \n",
       "25    3.575967e-01  0.004092240 1.2060178   2.467810e-04 ⋯ -1.82384316 \n",
       "26    7.748826e-01 -0.054890339 4.1064671   3.155516e-01 ⋯  0.14632452 \n",
       "27    9.750203e-01  0.467741254 3.1427926   1.405003e+01 ⋯  0.24985707 \n",
       "28    4.702825e-01 -0.064427142 4.7193858   6.672016e-01 ⋯  0.02211717 \n",
       "29    3.413053e-02  0.031240172 3.0833274   1.013891e-01 ⋯  0.27438336 \n",
       "30    3.001530e-01 -0.007352508 6.1865098   7.186898e-03 ⋯  0.25923733 \n",
       "⋮     ⋮            ⋮            ⋮           ⋮            ⋱ ⋮           \n",
       "15182 5.128295e-01  0.005373598 5.4270625    0.006373906 ⋯  0.05516554 \n",
       "15183 1.225938e-02 -0.072718936 3.8890382    0.615379660 ⋯  0.34806181 \n",
       "15184 5.049787e-02  0.163203481 5.3351053    4.405063859 ⋯ -0.01938042 \n",
       "15185 9.134344e-01  0.044023990 7.4620770    0.400084203 ⋯ -0.23091030 \n",
       "15186 9.448901e-01  0.044313014 6.4824992    0.400973597 ⋯ -0.21883401 \n",
       "15187 8.840600e-04 -1.809294029 1.7656506   41.176258820 ⋯ -0.63339820 \n",
       "15188 6.135687e-02  0.122476465 6.6631005    3.517153531 ⋯  0.09086914 \n",
       "15189 6.403635e-01 -0.109333394 6.4707510    1.543880585 ⋯  0.27919455 \n",
       "15190 1.603679e-01 -0.057322316 7.0512506    0.481870816 ⋯  0.24423322 \n",
       "15191 5.892004e-01  0.113561316 4.8534273    2.487525592 ⋯ -0.18999302 \n",
       "15192 6.296775e-01  0.035629474 4.7473841    0.202399915 ⋯ -0.28926000 \n",
       "15193 4.368586e-01 -0.119596212 3.5797706    0.815506089 ⋯ -0.01272829 \n",
       "15194 6.106307e-01  0.658916100 1.3509988    4.280243291 ⋯ -1.22206637 \n",
       "15195 3.984723e-01  0.321198894 6.5049090   14.740152310 ⋯  0.03731213 \n",
       "15196 6.735872e-01 -0.096271954 1.2556005    0.062893715 ⋯ -0.35503715 \n",
       "15197 9.066212e-01  0.107723062 3.1027569    2.083302474 ⋯  0.04284999 \n",
       "15198 1.381919e-03 -0.540561228 6.0573406   14.008320410 ⋯  0.82151491 \n",
       "15199 4.430000e-05 -0.038350965 4.4075043    0.200170342 ⋯  0.24717681 \n",
       "15200 7.270000e-05  0.109267851 5.2495125    2.051770381 ⋯  0.23252710 \n",
       "15201 7.237581e-01  0.027408071 7.0529355    0.125006929 ⋯  0.07152341 \n",
       "15202 7.788420e-02 -0.270540014 0.7172611    7.299781581 ⋯ -0.07111323 \n",
       "15203 2.645984e-02  0.054910434 0.4145986    0.026452457 ⋯ -0.63169939 \n",
       "15204 3.683380e-02  0.310633521 7.2889151   15.641222890 ⋯  0.05780090 \n",
       "15205 9.469868e-01  0.510108436 5.0043736   12.890451880 ⋯  0.01065856 \n",
       "15206 6.020000e-28 -0.870628370 6.6347982   10.014156330 ⋯  0.20262764 \n",
       "15207 1.858337e-02 -0.053071665 5.1013811    0.506122972 ⋯  0.08722529 \n",
       "15208 4.615697e-01 -0.003759615 0.5382186    0.000364244 ⋯ -0.27453408 \n",
       "15209 9.398323e-01 -1.295666543 2.6130569   23.422026500 ⋯  1.29574329 \n",
       "15210 3.450571e-02 -0.007693784 3.9622907    0.011222357 ⋯ -0.17588905 \n",
       "15211 4.480000e-06 -0.516608494 2.8054157   17.170354570 ⋯  0.41483008 \n",
       "      logCPM.immuno LR.immuno    PValue.immuno FDR.immuno   logFC.prolif\n",
       "1     2.5827100      7.67701142  5.592872e-03  0.017527558  -0.07291885 \n",
       "2     2.2266988      9.80546955  1.739936e-03  0.006603769   0.95456212 \n",
       "3     7.3203376      2.50393576  1.135622e-01  0.199550404  -0.04937627 \n",
       "4     1.2661867      1.57198027  2.099197e-01  0.322447272   0.46770661 \n",
       "5     4.8887288     21.37327834  3.780000e-06  0.000033800  -1.37862988 \n",
       "6     1.7583399     11.56842358  6.708130e-04  0.002956941  -0.25860921 \n",
       "7     0.4675505      4.34101042  3.720484e-02  0.082213828   0.25177309 \n",
       "8     2.8167736      0.16957791  6.804872e-01  0.773949259   0.24939836 \n",
       "9     0.4724774      0.29516453  5.869298e-01  0.697257048   1.39789632 \n",
       "10    7.7013474     19.02881073  1.290000e-05  0.000099500  -0.45675638 \n",
       "11    5.5349661     12.04440461  5.194810e-04  0.002390303  -0.03360611 \n",
       "12    2.6019555      0.28436075  5.938572e-01  0.703310483   0.40771438 \n",
       "13    5.2481205      0.31853115  5.724917e-01  0.684326881   0.14157002 \n",
       "14    4.5650929      1.69681934  1.927045e-01  0.301445539  -0.42435298 \n",
       "15    5.7811572      0.10400590  7.470743e-01  0.825363338   0.17373792 \n",
       "16    6.2545915      4.74990852  2.929985e-02  0.067860741   0.61988969 \n",
       "17    5.3519188      0.04595310  8.302611e-01  0.884015635  -0.61084493 \n",
       "18    3.0426590      0.73013221  3.928403e-01  0.518335261   0.27558320 \n",
       "19    4.8392867      0.92969915  3.349411e-01  0.459475535   0.16180321 \n",
       "20    4.0983374     13.29470147  2.661570e-04  0.001355468  -0.04900837 \n",
       "21    0.6212830     10.31266649  1.321202e-03  0.005233889   0.33700867 \n",
       "22    4.9940097      3.14231122  7.628564e-02  0.145767755  -0.41397304 \n",
       "23    6.1197434      0.85890012  3.540467e-01  0.478521359  -0.17968576 \n",
       "24    1.9299475      6.82600940  8.983977e-03  0.026026329  -0.91057248 \n",
       "25    1.2060178     33.71154539  6.390000e-09  0.000000105   1.49411079 \n",
       "26    4.1064671      2.51160237  1.130110e-01  0.198834475  -0.12929842 \n",
       "27    3.1427926      4.26418083  3.892401e-02  0.085098027  -0.71211813 \n",
       "28    4.7193858      0.08701192  7.680108e-01  0.839958339   0.11403926 \n",
       "29    3.0833274      8.78477240  3.037555e-03  0.010621153  -0.06209374 \n",
       "30    6.1865098     10.06292561  1.512828e-03  0.005888726  -0.14152305 \n",
       "⋮     ⋮             ⋮            ⋮             ⋮            ⋮           \n",
       "15182 5.4270625      0.739435890 3.898416e-01  5.156309e-01 -0.116313853\n",
       "15183 3.8890382     16.158436370 5.830000e-05  3.681880e-04 -0.007658001\n",
       "15184 5.3351053      0.066524731 7.964657e-01  8.605014e-01  0.036277490\n",
       "15185 7.4620770     11.679603250 6.318900e-04  2.815557e-03  0.197621095\n",
       "15186 6.4824992     10.390606140 1.266580e-03  5.054360e-03  0.181352693\n",
       "15187 1.7656506      6.544304802 1.052204e-02  2.959444e-02  3.431015902\n",
       "15188 6.6631005      2.108515126 1.464814e-01  2.440073e-01 -0.068679073\n",
       "15189 6.4707510     11.508327240 6.928510e-04  3.041746e-03 -0.116412357\n",
       "15190 7.0512506      9.898800146 1.653866e-03  6.341972e-03 -0.048083305\n",
       "15191 4.8534273      7.360954949 6.665538e-03  2.028329e-02  0.026063347\n",
       "15192 4.7473841     14.077216790 1.754560e-04  9.535690e-04  0.303578453\n",
       "15193 3.5797706      0.010252849 9.193470e-01  9.460262e-01  0.005477501\n",
       "15194 1.3509988     12.871006290 3.337120e-04  1.639673e-03  0.784959761\n",
       "15195 6.5049090      0.210319449 6.465171e-01  7.459096e-01 -0.268608829\n",
       "15196 1.2556005      0.910958231 3.398603e-01  4.645914e-01  0.666687257\n",
       "15197 3.1027569      0.357994298 5.496223e-01  6.646676e-01 -0.138069050\n",
       "15198 6.0573406     41.146552220 1.410000e-10  3.110000e-09  0.235822258\n",
       "15199 4.4075043      9.393132661 2.177997e-03  7.993171e-03  0.184774828\n",
       "15200 5.2495125     10.287584890 1.339283e-03  5.298613e-03  0.001137536\n",
       "15201 7.0529355      0.936036790 3.332992e-01  4.576789e-01 -0.062049682\n",
       "15202 0.7172611      0.569461650 4.504729e-01  5.748338e-01  0.141545091\n",
       "15203 0.4145986      3.479472663 6.213454e-02  1.234414e-01  1.499916239\n",
       "15204 7.2889151      0.574599748 4.484369e-01  5.728604e-01 -0.173337842\n",
       "15205 5.0043736      0.005808698 9.392482e-01  9.598175e-01 -0.534455928\n",
       "15206 6.6347982      0.680747883 4.093293e-01  5.345281e-01 -1.961266971\n",
       "15207 5.1013811      1.521345411 2.174160e-01  3.310312e-01  0.168569815\n",
       "15208 0.5382186      2.077088905 1.495251e-01  2.478021e-01  0.098432440\n",
       "15209 2.6130569     34.266927850 4.800000e-09  8.160000e-08 -0.026071022\n",
       "15210 3.9622907      6.308967122 1.201288e-02  3.294392e-02  0.362317852\n",
       "15211 2.8054157     13.545915050 2.327980e-04  1.205349e-03 -0.480189276\n",
       "      logCPM.prolif LR.prolif    PValue.prolif FDR.prolif  \n",
       "1     2.5827100      0.2536317   6.145294e-01  6.852028e-01\n",
       "2     2.2266988     53.9597476   2.050000e-13  2.860000e-12\n",
       "3     7.3203376      0.3652864   5.455849e-01  6.229750e-01\n",
       "4     1.2661867      8.5343521   3.485054e-03  7.837764e-03\n",
       "5     4.8887288     42.3202960   7.750000e-11  7.470000e-10\n",
       "6     1.7583399      1.6079839   2.047754e-01  2.763034e-01\n",
       "7     0.4675505      2.8296153   9.254053e-02  1.403656e-01\n",
       "8     2.8167736      6.2590453   1.235608e-02  2.402360e-02\n",
       "9     0.4724774     16.9657456   3.810000e-05  1.329450e-04\n",
       "10    7.7013474     22.0003182   2.730000e-06  1.210000e-05\n",
       "11    5.5349661      0.2035812   6.518456e-01  7.186979e-01\n",
       "12    2.6019555      2.0228975   1.549432e-01  2.180991e-01\n",
       "13    5.2481205      2.4339514   1.187333e-01  1.736368e-01\n",
       "14    4.5650929     27.1973035   1.840000e-07  1.020000e-06\n",
       "15    5.7811572      6.7634538   9.304350e-03  1.867253e-02\n",
       "16    6.2545915     22.9231871   1.690000e-06  7.780000e-06\n",
       "17    5.3519188     13.6069570   2.253490e-04  6.708430e-04\n",
       "18    3.0426590      1.5891351   2.074498e-01  2.792349e-01\n",
       "19    4.8392867      3.1670082   7.513997e-02  1.173704e-01\n",
       "20    4.0983374      0.3011944   5.831346e-01  6.584504e-01\n",
       "21    0.6212830      4.6109440   3.176854e-02  5.538197e-02\n",
       "22    4.9940097     21.3007241   3.930000e-06  1.690000e-05\n",
       "23    6.1197434      6.9803573   8.240915e-03  1.674380e-02\n",
       "24    1.9299475     25.3233443   4.850000e-07  2.490000e-06\n",
       "25    1.2060178     32.4675154   1.210000e-08  8.320000e-08\n",
       "26    4.1064671      1.9197432   1.658850e-01  2.311480e-01\n",
       "27    3.1427926     31.3153280   2.190000e-08  1.430000e-07\n",
       "28    4.7193858      2.3557352   1.248230e-01  1.812185e-01\n",
       "29    3.0833274      0.4378446   5.081646e-01  5.878479e-01\n",
       "30    6.1865098      2.8971213   8.873790e-02  1.353535e-01\n",
       "⋮     ⋮             ⋮            ⋮             ⋮           \n",
       "15182 5.4270625     3.253322e+00 7.127888e-02  1.119098e-01\n",
       "15183 3.8890382     7.596097e-03 9.305478e-01  9.469825e-01\n",
       "15184 5.3351053     2.364679e-01 6.267689e-01  6.953062e-01\n",
       "15185 7.4620770     9.036768e+00 2.646031e-03  6.122820e-03\n",
       "15186 6.4824992     7.515693e+00 6.116374e-03  1.291178e-02\n",
       "15187 1.7656506     2.457936e+02 2.150000e-55  4.080000e-52\n",
       "15188 6.6631005     1.193680e+00 2.745885e-01  3.537766e-01\n",
       "15189 6.4707510     1.934162e+00 1.643038e-01  2.291966e-01\n",
       "15190 7.0512506     3.750313e-01 5.402745e-01  6.182854e-01\n",
       "15191 4.8534273     1.430897e-01 7.052286e-01  7.643703e-01\n",
       "15192 4.7473841     1.667239e+01 4.440000e-05  1.527140e-04\n",
       "15193 3.5797706     1.918933e-03 9.650593e-01  9.735068e-01\n",
       "15194 1.3509988     6.697706e+00 9.653706e-03  1.926941e-02\n",
       "15195 6.5049090     1.062443e+01 1.116031e-03  2.822455e-03\n",
       "15196 1.2556005     3.600378e+00 5.776642e-02  9.360277e-02\n",
       "15197 3.1027569     3.675162e+00 5.522888e-02  8.991242e-02\n",
       "15198 6.0573406     3.235058e+00 7.207775e-02  1.130474e-01\n",
       "15199 4.4075043     5.258441e+00 2.184058e-02  3.974150e-02\n",
       "15200 5.2495125     2.425670e-04 9.875738e-01  9.912212e-01\n",
       "15201 7.0529355     7.001442e-01 4.027353e-01  4.874221e-01\n",
       "15202 0.7172611     2.337224e+00 1.263145e-01  1.831422e-01\n",
       "15203 0.4145986     2.416938e+01 8.820000e-07  4.310000e-06\n",
       "15204 7.2889151     5.080229e+00 2.420017e-02  4.354027e-02\n",
       "15205 5.0043736     1.383452e+01 1.996340e-04  6.024270e-04\n",
       "15206 6.6347982     4.933693e+01 2.160000e-12  2.640000e-11\n",
       "15207 5.1013811     5.778097e+00 1.622710e-02  3.059198e-02\n",
       "15208 0.5382186     2.807025e-01 5.962412e-01  6.698553e-01\n",
       "15209 2.6130569     1.233437e-02 9.115686e-01  9.320953e-01\n",
       "15210 3.9622907     2.858633e+01 8.960000e-08  5.270000e-07\n",
       "15211 2.8054157     1.659568e+01 4.630000e-05  1.584800e-04"
      ]
     },
     "metadata": {},
     "output_type": "display_data"
    }
   ],
   "source": [
    "RNASeq_gene_scores"
   ]
  },
  {
   "cell_type": "code",
   "execution_count": 10,
   "id": "b5ef074b-db34-486f-af7a-b6264afc28c4",
   "metadata": {},
   "outputs": [
    {
     "data": {
      "text/html": [
       "<table class=\"dataframe\">\n",
       "<caption>A data.frame: 6 × 23</caption>\n",
       "<thead>\n",
       "\t<tr><th></th><th scope=col>Name</th><th scope=col>geneid</th><th scope=col>logFC.mesen</th><th scope=col>logCPM.mesen</th><th scope=col>LR.mesen</th><th scope=col>PValue.mesen</th><th scope=col>FDR.mesen</th><th scope=col>logFC.diff</th><th scope=col>logCPM.diff</th><th scope=col>LR.diff</th><th scope=col>⋯</th><th scope=col>logFC.immuno</th><th scope=col>logCPM.immuno</th><th scope=col>LR.immuno</th><th scope=col>PValue.immuno</th><th scope=col>FDR.immuno</th><th scope=col>logFC.prolif</th><th scope=col>logCPM.prolif</th><th scope=col>LR.prolif</th><th scope=col>PValue.prolif</th><th scope=col>FDR.prolif</th></tr>\n",
       "\t<tr><th></th><th scope=col>&lt;chr&gt;</th><th scope=col>&lt;int&gt;</th><th scope=col>&lt;dbl&gt;</th><th scope=col>&lt;dbl&gt;</th><th scope=col>&lt;dbl&gt;</th><th scope=col>&lt;dbl&gt;</th><th scope=col>&lt;dbl&gt;</th><th scope=col>&lt;dbl&gt;</th><th scope=col>&lt;dbl&gt;</th><th scope=col>&lt;dbl&gt;</th><th scope=col>⋯</th><th scope=col>&lt;dbl&gt;</th><th scope=col>&lt;dbl&gt;</th><th scope=col>&lt;dbl&gt;</th><th scope=col>&lt;dbl&gt;</th><th scope=col>&lt;dbl&gt;</th><th scope=col>&lt;dbl&gt;</th><th scope=col>&lt;dbl&gt;</th><th scope=col>&lt;dbl&gt;</th><th scope=col>&lt;dbl&gt;</th><th scope=col>&lt;dbl&gt;</th></tr>\n",
       "</thead>\n",
       "<tbody>\n",
       "\t<tr><th scope=row>188</th><td>PRG4 </td><td>10216</td><td>2.705305</td><td> 2.6139056</td><td> 95.58179</td><td>1.42e-22</td><td>7.34e-21</td><td>-1.2716521</td><td> 2.6139056</td><td>14.107056</td><td>⋯</td><td>-0.4980017</td><td> 2.6139056</td><td> 2.651951</td><td>0.103422901</td><td>0.185548905</td><td>-0.9356510</td><td> 2.6139056</td><td> 8.9562066</td><td>0.0027652850</td><td>0.006372597</td></tr>\n",
       "\t<tr><th scope=row>252</th><td>PROK1</td><td>84432</td><td>2.543381</td><td> 1.3255202</td><td> 68.31067</td><td>1.40e-16</td><td>4.77e-15</td><td> 0.7455119</td><td> 1.3255202</td><td> 5.105528</td><td>⋯</td><td>-1.9692994</td><td> 1.3255202</td><td>27.876348</td><td>0.000000129</td><td>0.000001650</td><td>-1.3195933</td><td> 1.3255202</td><td>13.7675841</td><td>0.0002068750</td><td>0.000622057</td></tr>\n",
       "\t<tr><th scope=row>308</th><td>PRRX1</td><td> 5396</td><td>2.077538</td><td> 4.8570983</td><td>123.09925</td><td>1.33e-28</td><td>1.08e-26</td><td>-1.2367108</td><td> 4.8570983</td><td>29.949104</td><td>⋯</td><td>-0.4914091</td><td> 4.8570983</td><td> 5.773502</td><td>0.016269586</td><td>0.042062023</td><td>-0.3494185</td><td> 4.8570983</td><td> 2.9943819</td><td>0.0835537930</td><td>0.128528698</td></tr>\n",
       "\t<tr><th scope=row>434</th><td>PTGFR</td><td> 5737</td><td>2.075707</td><td>-0.1960881</td><td> 73.24646</td><td>1.14e-17</td><td>4.30e-16</td><td>-0.4233297</td><td>-0.1960881</td><td> 2.318523</td><td>⋯</td><td>-0.6737143</td><td>-0.1960881</td><td> 6.289647</td><td>0.012144523</td><td>0.033197211</td><td>-0.9786631</td><td>-0.1960881</td><td>12.9112727</td><td>0.0003266090</td><td>0.000932503</td></tr>\n",
       "\t<tr><th scope=row>438</th><td>PTGIS</td><td> 5740</td><td>2.094198</td><td> 5.8279714</td><td>165.11038</td><td>8.65e-38</td><td>1.20e-35</td><td>-0.4448761</td><td> 5.8279714</td><td> 5.696086</td><td>⋯</td><td>-0.6138074</td><td> 5.8279714</td><td>11.708780</td><td>0.000622059</td><td>0.002779895</td><td>-1.0355143</td><td> 5.8279714</td><td>31.9162051</td><td>0.0000000161</td><td>0.000000107</td></tr>\n",
       "\t<tr><th scope=row>1214</th><td>BARX1</td><td>56033</td><td>3.267472</td><td> 1.7427387</td><td>166.30064</td><td>4.76e-38</td><td>6.82e-36</td><td>-2.4411370</td><td> 1.7427387</td><td>52.224346</td><td>⋯</td><td>-0.6063633</td><td> 1.7427387</td><td> 4.577141</td><td>0.032401228</td><td>0.073565295</td><td>-0.2199714</td><td> 1.7427387</td><td> 0.6315171</td><td>0.4267993850</td><td>0.510856262</td></tr>\n",
       "</tbody>\n",
       "</table>\n"
      ],
      "text/latex": [
       "A data.frame: 6 × 23\n",
       "\\begin{tabular}{r|lllllllllllllllllllll}\n",
       "  & Name & geneid & logFC.mesen & logCPM.mesen & LR.mesen & PValue.mesen & FDR.mesen & logFC.diff & logCPM.diff & LR.diff & ⋯ & logFC.immuno & logCPM.immuno & LR.immuno & PValue.immuno & FDR.immuno & logFC.prolif & logCPM.prolif & LR.prolif & PValue.prolif & FDR.prolif\\\\\n",
       "  & <chr> & <int> & <dbl> & <dbl> & <dbl> & <dbl> & <dbl> & <dbl> & <dbl> & <dbl> & ⋯ & <dbl> & <dbl> & <dbl> & <dbl> & <dbl> & <dbl> & <dbl> & <dbl> & <dbl> & <dbl>\\\\\n",
       "\\hline\n",
       "\t188 & PRG4  & 10216 & 2.705305 &  2.6139056 &  95.58179 & 1.42e-22 & 7.34e-21 & -1.2716521 &  2.6139056 & 14.107056 & ⋯ & -0.4980017 &  2.6139056 &  2.651951 & 0.103422901 & 0.185548905 & -0.9356510 &  2.6139056 &  8.9562066 & 0.0027652850 & 0.006372597\\\\\n",
       "\t252 & PROK1 & 84432 & 2.543381 &  1.3255202 &  68.31067 & 1.40e-16 & 4.77e-15 &  0.7455119 &  1.3255202 &  5.105528 & ⋯ & -1.9692994 &  1.3255202 & 27.876348 & 0.000000129 & 0.000001650 & -1.3195933 &  1.3255202 & 13.7675841 & 0.0002068750 & 0.000622057\\\\\n",
       "\t308 & PRRX1 &  5396 & 2.077538 &  4.8570983 & 123.09925 & 1.33e-28 & 1.08e-26 & -1.2367108 &  4.8570983 & 29.949104 & ⋯ & -0.4914091 &  4.8570983 &  5.773502 & 0.016269586 & 0.042062023 & -0.3494185 &  4.8570983 &  2.9943819 & 0.0835537930 & 0.128528698\\\\\n",
       "\t434 & PTGFR &  5737 & 2.075707 & -0.1960881 &  73.24646 & 1.14e-17 & 4.30e-16 & -0.4233297 & -0.1960881 &  2.318523 & ⋯ & -0.6737143 & -0.1960881 &  6.289647 & 0.012144523 & 0.033197211 & -0.9786631 & -0.1960881 & 12.9112727 & 0.0003266090 & 0.000932503\\\\\n",
       "\t438 & PTGIS &  5740 & 2.094198 &  5.8279714 & 165.11038 & 8.65e-38 & 1.20e-35 & -0.4448761 &  5.8279714 &  5.696086 & ⋯ & -0.6138074 &  5.8279714 & 11.708780 & 0.000622059 & 0.002779895 & -1.0355143 &  5.8279714 & 31.9162051 & 0.0000000161 & 0.000000107\\\\\n",
       "\t1214 & BARX1 & 56033 & 3.267472 &  1.7427387 & 166.30064 & 4.76e-38 & 6.82e-36 & -2.4411370 &  1.7427387 & 52.224346 & ⋯ & -0.6063633 &  1.7427387 &  4.577141 & 0.032401228 & 0.073565295 & -0.2199714 &  1.7427387 &  0.6315171 & 0.4267993850 & 0.510856262\\\\\n",
       "\\end{tabular}\n"
      ],
      "text/markdown": [
       "\n",
       "A data.frame: 6 × 23\n",
       "\n",
       "| <!--/--> | Name &lt;chr&gt; | geneid &lt;int&gt; | logFC.mesen &lt;dbl&gt; | logCPM.mesen &lt;dbl&gt; | LR.mesen &lt;dbl&gt; | PValue.mesen &lt;dbl&gt; | FDR.mesen &lt;dbl&gt; | logFC.diff &lt;dbl&gt; | logCPM.diff &lt;dbl&gt; | LR.diff &lt;dbl&gt; | ⋯ ⋯ | logFC.immuno &lt;dbl&gt; | logCPM.immuno &lt;dbl&gt; | LR.immuno &lt;dbl&gt; | PValue.immuno &lt;dbl&gt; | FDR.immuno &lt;dbl&gt; | logFC.prolif &lt;dbl&gt; | logCPM.prolif &lt;dbl&gt; | LR.prolif &lt;dbl&gt; | PValue.prolif &lt;dbl&gt; | FDR.prolif &lt;dbl&gt; |\n",
       "|---|---|---|---|---|---|---|---|---|---|---|---|---|---|---|---|---|---|---|---|---|---|\n",
       "| 188 | PRG4  | 10216 | 2.705305 |  2.6139056 |  95.58179 | 1.42e-22 | 7.34e-21 | -1.2716521 |  2.6139056 | 14.107056 | ⋯ | -0.4980017 |  2.6139056 |  2.651951 | 0.103422901 | 0.185548905 | -0.9356510 |  2.6139056 |  8.9562066 | 0.0027652850 | 0.006372597 |\n",
       "| 252 | PROK1 | 84432 | 2.543381 |  1.3255202 |  68.31067 | 1.40e-16 | 4.77e-15 |  0.7455119 |  1.3255202 |  5.105528 | ⋯ | -1.9692994 |  1.3255202 | 27.876348 | 0.000000129 | 0.000001650 | -1.3195933 |  1.3255202 | 13.7675841 | 0.0002068750 | 0.000622057 |\n",
       "| 308 | PRRX1 |  5396 | 2.077538 |  4.8570983 | 123.09925 | 1.33e-28 | 1.08e-26 | -1.2367108 |  4.8570983 | 29.949104 | ⋯ | -0.4914091 |  4.8570983 |  5.773502 | 0.016269586 | 0.042062023 | -0.3494185 |  4.8570983 |  2.9943819 | 0.0835537930 | 0.128528698 |\n",
       "| 434 | PTGFR |  5737 | 2.075707 | -0.1960881 |  73.24646 | 1.14e-17 | 4.30e-16 | -0.4233297 | -0.1960881 |  2.318523 | ⋯ | -0.6737143 | -0.1960881 |  6.289647 | 0.012144523 | 0.033197211 | -0.9786631 | -0.1960881 | 12.9112727 | 0.0003266090 | 0.000932503 |\n",
       "| 438 | PTGIS |  5740 | 2.094198 |  5.8279714 | 165.11038 | 8.65e-38 | 1.20e-35 | -0.4448761 |  5.8279714 |  5.696086 | ⋯ | -0.6138074 |  5.8279714 | 11.708780 | 0.000622059 | 0.002779895 | -1.0355143 |  5.8279714 | 31.9162051 | 0.0000000161 | 0.000000107 |\n",
       "| 1214 | BARX1 | 56033 | 3.267472 |  1.7427387 | 166.30064 | 4.76e-38 | 6.82e-36 | -2.4411370 |  1.7427387 | 52.224346 | ⋯ | -0.6063633 |  1.7427387 |  4.577141 | 0.032401228 | 0.073565295 | -0.2199714 |  1.7427387 |  0.6315171 | 0.4267993850 | 0.510856262 |\n",
       "\n"
      ],
      "text/plain": [
       "     Name  geneid logFC.mesen logCPM.mesen LR.mesen  PValue.mesen FDR.mesen\n",
       "188  PRG4  10216  2.705305     2.6139056    95.58179 1.42e-22     7.34e-21 \n",
       "252  PROK1 84432  2.543381     1.3255202    68.31067 1.40e-16     4.77e-15 \n",
       "308  PRRX1  5396  2.077538     4.8570983   123.09925 1.33e-28     1.08e-26 \n",
       "434  PTGFR  5737  2.075707    -0.1960881    73.24646 1.14e-17     4.30e-16 \n",
       "438  PTGIS  5740  2.094198     5.8279714   165.11038 8.65e-38     1.20e-35 \n",
       "1214 BARX1 56033  3.267472     1.7427387   166.30064 4.76e-38     6.82e-36 \n",
       "     logFC.diff logCPM.diff LR.diff   ⋯ logFC.immuno logCPM.immuno LR.immuno\n",
       "188  -1.2716521  2.6139056  14.107056 ⋯ -0.4980017    2.6139056     2.651951\n",
       "252   0.7455119  1.3255202   5.105528 ⋯ -1.9692994    1.3255202    27.876348\n",
       "308  -1.2367108  4.8570983  29.949104 ⋯ -0.4914091    4.8570983     5.773502\n",
       "434  -0.4233297 -0.1960881   2.318523 ⋯ -0.6737143   -0.1960881     6.289647\n",
       "438  -0.4448761  5.8279714   5.696086 ⋯ -0.6138074    5.8279714    11.708780\n",
       "1214 -2.4411370  1.7427387  52.224346 ⋯ -0.6063633    1.7427387     4.577141\n",
       "     PValue.immuno FDR.immuno  logFC.prolif logCPM.prolif LR.prolif \n",
       "188  0.103422901   0.185548905 -0.9356510    2.6139056     8.9562066\n",
       "252  0.000000129   0.000001650 -1.3195933    1.3255202    13.7675841\n",
       "308  0.016269586   0.042062023 -0.3494185    4.8570983     2.9943819\n",
       "434  0.012144523   0.033197211 -0.9786631   -0.1960881    12.9112727\n",
       "438  0.000622059   0.002779895 -1.0355143    5.8279714    31.9162051\n",
       "1214 0.032401228   0.073565295 -0.2199714    1.7427387     0.6315171\n",
       "     PValue.prolif FDR.prolif \n",
       "188  0.0027652850  0.006372597\n",
       "252  0.0002068750  0.000622057\n",
       "308  0.0835537930  0.128528698\n",
       "434  0.0003266090  0.000932503\n",
       "438  0.0000000161  0.000000107\n",
       "1214 0.4267993850  0.510856262"
      ]
     },
     "metadata": {},
     "output_type": "display_data"
    }
   ],
   "source": [
    "top_mesenchymal_genes <- RNASeq_gene_scores[which(RNASeq_gene_scores$FDR.mesen < 0.05 & RNASeq_gene_scores$logFC.mesen > 2),]\n",
    "head(top_mesenchymal_genes)"
   ]
  },
  {
   "cell_type": "markdown",
   "id": "4576428b-3d05-4704-a5f4-eea8cf3e0319",
   "metadata": {},
   "source": [
    "## ユースケース-私の上位の遺伝子はどのように関連していますか？\n",
    "\n",
    "相互作用データを格納しているデータベースは無限にあります。\n",
    "\n",
    "![image](https://user-images.githubusercontent.com/12192/139541346-9e223e88-e6df-4e4d-b7f2-a5836f6e97eb.png)\n",
    "\n",
    "STRINGデータベースにクエリを実行して、トップのMesenchymalの遺伝子のセットに対して見つかったすべての相互作用を取得します。\n",
    "\n",
    "### ネットワークデータを使用した Cytoscape Apps\n",
    "\n",
    "ありがたいことに、遺伝子それぞれを個別にクエリする必要はありません。\n",
    "\n",
    "多くの特殊な（たとえば、特定の分子、相互作用の種類、または種の）相互作用データベースに加えて、これらのデータベースを照合して、より使いやすい幅広いリソースを作成するデータベースもあります。例えば：\n",
    "\n",
    "- [stringApp](https://apps.cytoscape.org/apps/stringapp) - は [STRING(Szklarczyk et al.)](https://doi.org/10.1093/nar/gkaa1074) から protein-protein そして protein-chemical  にクエリをかけてそれをネットワークとしてCytoscapeにインポートしてくれます。\n",
    "\n",
    "この \"App\" のインストールもRで自動的に行えます。\n"
   ]
  },
  {
   "cell_type": "code",
   "execution_count": 11,
   "id": "10334a0b-384f-41ce-9de0-df49294a6b09",
   "metadata": {},
   "outputs": [
    {
     "name": "stderr",
     "output_type": "stream",
     "text": [
      "App stringApp installedFinished\n",
      "\n"
     ]
    }
   ],
   "source": [
    "installApp(\"stringApp\")"
   ]
  },
  {
   "cell_type": "code",
   "execution_count": 12,
   "id": "501ba664-7ce6-49a2-81bb-2720379c8506",
   "metadata": {},
   "outputs": [
    {
     "data": {
      "text/html": [
       "<style>\n",
       ".list-inline {list-style: none; margin:0; padding: 0}\n",
       ".list-inline>li {display: inline-block}\n",
       ".list-inline>li:not(:last-child)::after {content: \"\\00b7\"; padding: 0 .5ex}\n",
       "</style>\n",
       "<ol class=list-inline><li>'app: stringApp, status: Installed'</li><li>'Finished'</li></ol>\n"
      ],
      "text/latex": [
       "\\begin{enumerate*}\n",
       "\\item 'app: stringApp, status: Installed'\n",
       "\\item 'Finished'\n",
       "\\end{enumerate*}\n"
      ],
      "text/markdown": [
       "1. 'app: stringApp, status: Installed'\n",
       "2. 'Finished'\n",
       "\n",
       "\n"
      ],
      "text/plain": [
       "[1] \"app: stringApp, status: Installed\" \"Finished\"                         "
      ]
     },
     "metadata": {},
     "output_type": "display_data"
    }
   ],
   "source": [
    "getAppStatus(\"stringApp\")"
   ]
  },
  {
   "cell_type": "markdown",
   "id": "0a9cd5bf-6838-43c0-bb4c-d6e333942e7e",
   "metadata": {},
   "source": [
    "### 特定のCytoscapeコマンドのヘルプ\n",
    "Rの環境から個々のコマンドに関する情報を取得するには、commandsHelp関数を使用することでできます。\n",
    "コマンドに名前を追加して、情報を取得するコマンドを指定するだけです。\n",
    "たとえば “commandsHelp(\"help string”)“ といったふうにです。\n"
   ]
  },
  {
   "cell_type": "code",
   "execution_count": 13,
   "id": "0e3029f1-761a-43c8-af78-1da9057dbce8",
   "metadata": {},
   "outputs": [
    {
     "data": {
      "text/html": [
       "<style>\n",
       ".list-inline {list-style: none; margin:0; padding: 0}\n",
       ".list-inline>li {display: inline-block}\n",
       ".list-inline>li:not(:last-child)::after {content: \"\\00b7\"; padding: 0 .5ex}\n",
       "</style>\n",
       "<ol class=list-inline><li>'analyzer'</li><li>'annotation'</li><li>'apps'</li><li>'command'</li><li>'cybrowser'</li><li>'cychart'</li><li>'diffusion'</li><li>'edge'</li><li>'enhancedGraphics'</li><li>'filetransfer'</li><li>'filter'</li><li>'group'</li><li>'idmapper'</li><li>'layout'</li><li>'network'</li><li>'node'</li><li>'session'</li><li>'string'</li><li>'table'</li><li>'view'</li><li>'vizmap'</li></ol>\n"
      ],
      "text/latex": [
       "\\begin{enumerate*}\n",
       "\\item 'analyzer'\n",
       "\\item 'annotation'\n",
       "\\item 'apps'\n",
       "\\item 'command'\n",
       "\\item 'cybrowser'\n",
       "\\item 'cychart'\n",
       "\\item 'diffusion'\n",
       "\\item 'edge'\n",
       "\\item 'enhancedGraphics'\n",
       "\\item 'filetransfer'\n",
       "\\item 'filter'\n",
       "\\item 'group'\n",
       "\\item 'idmapper'\n",
       "\\item 'layout'\n",
       "\\item 'network'\n",
       "\\item 'node'\n",
       "\\item 'session'\n",
       "\\item 'string'\n",
       "\\item 'table'\n",
       "\\item 'view'\n",
       "\\item 'vizmap'\n",
       "\\end{enumerate*}\n"
      ],
      "text/markdown": [
       "1. 'analyzer'\n",
       "2. 'annotation'\n",
       "3. 'apps'\n",
       "4. 'command'\n",
       "5. 'cybrowser'\n",
       "6. 'cychart'\n",
       "7. 'diffusion'\n",
       "8. 'edge'\n",
       "9. 'enhancedGraphics'\n",
       "10. 'filetransfer'\n",
       "11. 'filter'\n",
       "12. 'group'\n",
       "13. 'idmapper'\n",
       "14. 'layout'\n",
       "15. 'network'\n",
       "16. 'node'\n",
       "17. 'session'\n",
       "18. 'string'\n",
       "19. 'table'\n",
       "20. 'view'\n",
       "21. 'vizmap'\n",
       "\n",
       "\n"
      ],
      "text/plain": [
       " [1] \"analyzer\"         \"annotation\"       \"apps\"             \"command\"         \n",
       " [5] \"cybrowser\"        \"cychart\"          \"diffusion\"        \"edge\"            \n",
       " [9] \"enhancedGraphics\" \"filetransfer\"     \"filter\"           \"group\"           \n",
       "[13] \"idmapper\"         \"layout\"           \"network\"          \"node\"            \n",
       "[17] \"session\"          \"string\"           \"table\"            \"view\"            \n",
       "[21] \"vizmap\"          "
      ]
     },
     "metadata": {},
     "output_type": "display_data"
    }
   ],
   "source": [
    "commandsHelp(\"help\")"
   ]
  },
  {
   "cell_type": "code",
   "execution_count": 14,
   "id": "ad1b6997-358e-4046-94d6-d9d64d99d2a4",
   "metadata": {},
   "outputs": [
    {
     "data": {
      "text/html": [
       "<style>\n",
       ".list-inline {list-style: none; margin:0; padding: 0}\n",
       ".list-inline>li {display: inline-block}\n",
       ".list-inline>li:not(:last-child)::after {content: \"\\00b7\"; padding: 0 .5ex}\n",
       "</style>\n",
       "<ol class=list-inline><li>'add nodes'</li><li>'change confidence'</li><li>'change type'</li><li>'compound query'</li><li>'disease query'</li><li>'enable glass'</li><li>'expand'</li><li>'filter enrichment'</li><li>'hide charts'</li><li>'list species'</li><li>'make string'</li><li>'protein query'</li><li>'pubmed query'</li><li>'retrieve enrichment'</li><li>'retrieve publications'</li><li>'settings'</li><li>'show charts'</li><li>'show enrichment'</li><li>'show images'</li><li>'show labels'</li><li>'show publications'</li><li>'stringify'</li><li>'version'</li></ol>\n"
      ],
      "text/latex": [
       "\\begin{enumerate*}\n",
       "\\item 'add nodes'\n",
       "\\item 'change confidence'\n",
       "\\item 'change type'\n",
       "\\item 'compound query'\n",
       "\\item 'disease query'\n",
       "\\item 'enable glass'\n",
       "\\item 'expand'\n",
       "\\item 'filter enrichment'\n",
       "\\item 'hide charts'\n",
       "\\item 'list species'\n",
       "\\item 'make string'\n",
       "\\item 'protein query'\n",
       "\\item 'pubmed query'\n",
       "\\item 'retrieve enrichment'\n",
       "\\item 'retrieve publications'\n",
       "\\item 'settings'\n",
       "\\item 'show charts'\n",
       "\\item 'show enrichment'\n",
       "\\item 'show images'\n",
       "\\item 'show labels'\n",
       "\\item 'show publications'\n",
       "\\item 'stringify'\n",
       "\\item 'version'\n",
       "\\end{enumerate*}\n"
      ],
      "text/markdown": [
       "1. 'add nodes'\n",
       "2. 'change confidence'\n",
       "3. 'change type'\n",
       "4. 'compound query'\n",
       "5. 'disease query'\n",
       "6. 'enable glass'\n",
       "7. 'expand'\n",
       "8. 'filter enrichment'\n",
       "9. 'hide charts'\n",
       "10. 'list species'\n",
       "11. 'make string'\n",
       "12. 'protein query'\n",
       "13. 'pubmed query'\n",
       "14. 'retrieve enrichment'\n",
       "15. 'retrieve publications'\n",
       "16. 'settings'\n",
       "17. 'show charts'\n",
       "18. 'show enrichment'\n",
       "19. 'show images'\n",
       "20. 'show labels'\n",
       "21. 'show publications'\n",
       "22. 'stringify'\n",
       "23. 'version'\n",
       "\n",
       "\n"
      ],
      "text/plain": [
       " [1] \"add nodes\"             \"change confidence\"     \"change type\"          \n",
       " [4] \"compound query\"        \"disease query\"         \"enable glass\"         \n",
       " [7] \"expand\"                \"filter enrichment\"     \"hide charts\"          \n",
       "[10] \"list species\"          \"make string\"           \"protein query\"        \n",
       "[13] \"pubmed query\"          \"retrieve enrichment\"   \"retrieve publications\"\n",
       "[16] \"settings\"              \"show charts\"           \"show enrichment\"      \n",
       "[19] \"show images\"           \"show labels\"           \"show publications\"    \n",
       "[22] \"stringify\"             \"version\"              "
      ]
     },
     "metadata": {},
     "output_type": "display_data"
    }
   ],
   "source": [
    "commandsHelp(\"help string\")"
   ]
  },
  {
   "cell_type": "code",
   "execution_count": 15,
   "id": "e4dc8cc3-8b8f-49db-9219-ebaa4994b37f",
   "metadata": {},
   "outputs": [
    {
     "data": {
      "text/html": [
       "<style>\n",
       ".list-inline {list-style: none; margin:0; padding: 0}\n",
       ".list-inline>li {display: inline-block}\n",
       ".list-inline>li:not(:last-child)::after {content: \"\\00b7\"; padding: 0 .5ex}\n",
       "</style>\n",
       "<ol class=list-inline><li>'cutoff'</li><li>'includesViruses'</li><li>'limit'</li><li>'networkType'</li><li>'newNetName'</li><li>'query'</li><li>'species'</li><li>'taxonID'</li></ol>\n"
      ],
      "text/latex": [
       "\\begin{enumerate*}\n",
       "\\item 'cutoff'\n",
       "\\item 'includesViruses'\n",
       "\\item 'limit'\n",
       "\\item 'networkType'\n",
       "\\item 'newNetName'\n",
       "\\item 'query'\n",
       "\\item 'species'\n",
       "\\item 'taxonID'\n",
       "\\end{enumerate*}\n"
      ],
      "text/markdown": [
       "1. 'cutoff'\n",
       "2. 'includesViruses'\n",
       "3. 'limit'\n",
       "4. 'networkType'\n",
       "5. 'newNetName'\n",
       "6. 'query'\n",
       "7. 'species'\n",
       "8. 'taxonID'\n",
       "\n",
       "\n"
      ],
      "text/plain": [
       "[1] \"cutoff\"          \"includesViruses\" \"limit\"           \"networkType\"    \n",
       "[5] \"newNetName\"      \"query\"           \"species\"         \"taxonID\"        "
      ]
     },
     "metadata": {},
     "output_type": "display_data"
    }
   ],
   "source": [
    "commandsHelp(\"help string protein query\")"
   ]
  },
  {
   "cell_type": "code",
   "execution_count": 16,
   "id": "87a87e8c-5fc0-44f2-9dc3-4b66072f8268",
   "metadata": {},
   "outputs": [
    {
     "data": {
      "text/html": [
       "<style>\n",
       ".list-inline {list-style: none; margin:0; padding: 0}\n",
       ".list-inline>li {display: inline-block}\n",
       ".list-inline>li:not(:last-child)::after {content: \"\\00b7\"; padding: 0 .5ex}\n",
       "</style>\n",
       "<ol class=list-inline><li>'Loaded network \\'STRING network\\' with 262 nodes and 2140 edges'</li><li>'Finished'</li></ol>\n"
      ],
      "text/latex": [
       "\\begin{enumerate*}\n",
       "\\item 'Loaded network \\textbackslash{}'STRING network\\textbackslash{}' with 262 nodes and 2140 edges'\n",
       "\\item 'Finished'\n",
       "\\end{enumerate*}\n"
      ],
      "text/markdown": [
       "1. 'Loaded network \\'STRING network\\' with 262 nodes and 2140 edges'\n",
       "2. 'Finished'\n",
       "\n",
       "\n"
      ],
      "text/plain": [
       "[1] \"Loaded network 'STRING network' with 262 nodes and 2140 edges\"\n",
       "[2] \"Finished\"                                                     "
      ]
     },
     "metadata": {},
     "output_type": "display_data"
    }
   ],
   "source": [
    "mesen_string_interaction_cmd <- paste('string protein query taxonID=9606 limit=150 cutoff=0.9 query=\"',paste(top_mesenchymal_genes$Name, collapse=\",\"),'\"',sep=\"\")\n",
    "commandsGET(mesen_string_interaction_cmd)"
   ]
  },
  {
   "cell_type": "markdown",
   "id": "30c5358a-e65f-4ff4-b7e3-8b60c2114b9a",
   "metadata": {},
   "source": [
    "- cutoff: 信頼スコアは、この相互作用が存在するという累積された証拠を反映しています。このカットオフよりも大きいスコアのインタラクションのみが返されます。\n",
    "- limit: クエリセットに加えて返されるタンパク質の最大数。\n",
    "- query: タンパク質名または識別子のコンマ区切りリスト。\n",
    "- taxonID: 種の分類ID。 IDについては、NCBI分類のホームページを参照してください。種とtaxonIDの両方が異なる種に設定されている場合、taxonIDが優先されます。\n",
    "\n",
    "詳細については、Cytoscapeメニューバーの \"Help -> Automation -> CyREST Commands API\" を参照してください。\n"
   ]
  },
  {
   "cell_type": "code",
   "execution_count": 17,
   "id": "71c87712-5d26-4c63-86b3-49af9bf604e3",
   "metadata": {},
   "outputs": [
    {
     "data": {
      "text/html": [
       "<strong>file:</strong> 'C:\\\\Users\\\\kozo2\\\\CytoscapeConfiguration\\\\filetransfer\\\\default_sandbox\\\\initial_string_network.png'"
      ],
      "text/latex": [
       "\\textbf{file:} 'C:\\textbackslash{}\\textbackslash{}Users\\textbackslash{}\\textbackslash{}kozo2\\textbackslash{}\\textbackslash{}CytoscapeConfiguration\\textbackslash{}\\textbackslash{}filetransfer\\textbackslash{}\\textbackslash{}default\\_sandbox\\textbackslash{}\\textbackslash{}initial\\_string\\_network.png'"
      ],
      "text/markdown": [
       "**file:** 'C:\\\\Users\\\\kozo2\\\\CytoscapeConfiguration\\\\filetransfer\\\\default_sandbox\\\\initial_string_network.png'"
      ],
      "text/plain": [
       "                                                                                                 file \n",
       "\"C:\\\\Users\\\\kozo2\\\\CytoscapeConfiguration\\\\filetransfer\\\\default_sandbox\\\\initial_string_network.png\" "
      ]
     },
     "metadata": {},
     "output_type": "display_data"
    }
   ],
   "source": [
    "exportImage(\"initial_string_network\", type = \"png\")"
   ]
  },
  {
   "cell_type": "markdown",
   "id": "bc08311c-1ac0-47db-87d4-e08a571181ec",
   "metadata": {},
   "source": [
    "![initial_string_network](https://user-images.githubusercontent.com/12192/139543384-b19ac0f3-1dc9-4e6d-a212-af4f19ab6529.png)\n",
    "\n",
    "### レイアウト\n",
    "ネットワークをレイアウトするのも自動的に行えます。\n"
   ]
  },
  {
   "cell_type": "code",
   "execution_count": 18,
   "id": "3a1befe9-31c1-437e-9865-fa64f84533a5",
   "metadata": {},
   "outputs": [],
   "source": [
    "layoutNetwork('force-directed')"
   ]
  },
  {
   "cell_type": "markdown",
   "id": "a952e4a6-1902-4a65-9aee-dea7728992eb",
   "metadata": {},
   "source": [
    "試してみることができる他のレイアウトアルゴリズムを確認してください。"
   ]
  },
  {
   "cell_type": "code",
   "execution_count": 19,
   "id": "5668a54c-ea48-4cb5-991f-24ee7ef75d52",
   "metadata": {},
   "outputs": [
    {
     "data": {
      "text/html": [
       "<style>\n",
       ".list-inline {list-style: none; margin:0; padding: 0}\n",
       ".list-inline>li {display: inline-block}\n",
       ".list-inline>li:not(:last-child)::after {content: \"\\00b7\"; padding: 0 .5ex}\n",
       "</style>\n",
       "<ol class=list-inline><li>'attribute-circle'</li><li>'stacked-node-layout'</li><li>'attribute-grid'</li><li>'degree-circle'</li><li>'circular'</li><li>'attributes-layout'</li><li>'kamada-kawai'</li><li>'force-directed'</li><li>'cose'</li><li>'grid'</li><li>'hierarchical'</li><li>'fruchterman-rheingold'</li><li>'isom'</li><li>'force-directed-cl'</li></ol>\n"
      ],
      "text/latex": [
       "\\begin{enumerate*}\n",
       "\\item 'attribute-circle'\n",
       "\\item 'stacked-node-layout'\n",
       "\\item 'attribute-grid'\n",
       "\\item 'degree-circle'\n",
       "\\item 'circular'\n",
       "\\item 'attributes-layout'\n",
       "\\item 'kamada-kawai'\n",
       "\\item 'force-directed'\n",
       "\\item 'cose'\n",
       "\\item 'grid'\n",
       "\\item 'hierarchical'\n",
       "\\item 'fruchterman-rheingold'\n",
       "\\item 'isom'\n",
       "\\item 'force-directed-cl'\n",
       "\\end{enumerate*}\n"
      ],
      "text/markdown": [
       "1. 'attribute-circle'\n",
       "2. 'stacked-node-layout'\n",
       "3. 'attribute-grid'\n",
       "4. 'degree-circle'\n",
       "5. 'circular'\n",
       "6. 'attributes-layout'\n",
       "7. 'kamada-kawai'\n",
       "8. 'force-directed'\n",
       "9. 'cose'\n",
       "10. 'grid'\n",
       "11. 'hierarchical'\n",
       "12. 'fruchterman-rheingold'\n",
       "13. 'isom'\n",
       "14. 'force-directed-cl'\n",
       "\n",
       "\n"
      ],
      "text/plain": [
       " [1] \"attribute-circle\"      \"stacked-node-layout\"   \"attribute-grid\"       \n",
       " [4] \"degree-circle\"         \"circular\"              \"attributes-layout\"    \n",
       " [7] \"kamada-kawai\"          \"force-directed\"        \"cose\"                 \n",
       "[10] \"grid\"                  \"hierarchical\"          \"fruchterman-rheingold\"\n",
       "[13] \"isom\"                  \"force-directed-cl\"    "
      ]
     },
     "metadata": {},
     "output_type": "display_data"
    }
   ],
   "source": [
    "getLayoutNames()"
   ]
  },
  {
   "cell_type": "markdown",
   "id": "80850f09-52fa-438c-9aa8-cec8e290f62f",
   "metadata": {},
   "source": [
    "### レイアウト-続き\n",
    "\n",
    "特定のレイアウトのパラメーターを取得する。"
   ]
  },
  {
   "cell_type": "code",
   "execution_count": 20,
   "id": "25c56737-ad00-4fa2-8146-438e11705c76",
   "metadata": {},
   "outputs": [
    {
     "data": {
      "text/html": [
       "<style>\n",
       ".list-inline {list-style: none; margin:0; padding: 0}\n",
       ".list-inline>li {display: inline-block}\n",
       ".list-inline>li:not(:last-child)::after {content: \"\\00b7\"; padding: 0 .5ex}\n",
       "</style>\n",
       "<ol class=list-inline><li>'defaultEdgeWeight'</li><li>'defaultNodeMass'</li><li>'defaultSpringCoefficient'</li><li>'defaultSpringLength'</li><li>'edgeAttribute'</li><li>'isDeterministic'</li><li>'maxWeightCutoff'</li><li>'minWeightCutoff'</li><li>'network'</li><li>'nodeAttribute'</li><li>'nodeList'</li><li>'numIterations'</li><li>'singlePartition'</li><li>'type'</li></ol>\n"
      ],
      "text/latex": [
       "\\begin{enumerate*}\n",
       "\\item 'defaultEdgeWeight'\n",
       "\\item 'defaultNodeMass'\n",
       "\\item 'defaultSpringCoefficient'\n",
       "\\item 'defaultSpringLength'\n",
       "\\item 'edgeAttribute'\n",
       "\\item 'isDeterministic'\n",
       "\\item 'maxWeightCutoff'\n",
       "\\item 'minWeightCutoff'\n",
       "\\item 'network'\n",
       "\\item 'nodeAttribute'\n",
       "\\item 'nodeList'\n",
       "\\item 'numIterations'\n",
       "\\item 'singlePartition'\n",
       "\\item 'type'\n",
       "\\end{enumerate*}\n"
      ],
      "text/markdown": [
       "1. 'defaultEdgeWeight'\n",
       "2. 'defaultNodeMass'\n",
       "3. 'defaultSpringCoefficient'\n",
       "4. 'defaultSpringLength'\n",
       "5. 'edgeAttribute'\n",
       "6. 'isDeterministic'\n",
       "7. 'maxWeightCutoff'\n",
       "8. 'minWeightCutoff'\n",
       "9. 'network'\n",
       "10. 'nodeAttribute'\n",
       "11. 'nodeList'\n",
       "12. 'numIterations'\n",
       "13. 'singlePartition'\n",
       "14. 'type'\n",
       "\n",
       "\n"
      ],
      "text/plain": [
       " [1] \"defaultEdgeWeight\"        \"defaultNodeMass\"         \n",
       " [3] \"defaultSpringCoefficient\" \"defaultSpringLength\"     \n",
       " [5] \"edgeAttribute\"            \"isDeterministic\"         \n",
       " [7] \"maxWeightCutoff\"          \"minWeightCutoff\"         \n",
       " [9] \"network\"                  \"nodeAttribute\"           \n",
       "[11] \"nodeList\"                 \"numIterations\"           \n",
       "[13] \"singlePartition\"          \"type\"                    "
      ]
     },
     "metadata": {},
     "output_type": "display_data"
    }
   ],
   "source": [
    "getLayoutPropertyNames(layout.name='force-directed')"
   ]
  },
  {
   "cell_type": "markdown",
   "id": "e63b2857-9076-4541-b432-91a532a090ac",
   "metadata": {},
   "source": [
    "force directed レイアウトを使用してネットワークを再レイアウトしますが、今度はいくつかのパラメーターを指定してみましょう。\n",
    "このような「パラメーターを変えてまた試す」といった際に「自動化」は大いに役立つことがお分かりになるでしょう。"
   ]
  },
  {
   "cell_type": "code",
   "execution_count": 21,
   "id": "b295bc49-51cf-4c10-ac4d-38afddc83440",
   "metadata": {},
   "outputs": [],
   "source": [
    "layoutNetwork('force-directed defaultSpringCoefficient=0.0000008 defaultSpringLength=70')"
   ]
  },
  {
   "cell_type": "markdown",
   "id": "3cf03586-7024-4919-8dce-3db40b488d10",
   "metadata": {},
   "source": [
    "再レイアウトされたネットワークのスクリーンショットを取得する。"
   ]
  },
  {
   "cell_type": "code",
   "execution_count": 22,
   "id": "4e22e893-cf33-466b-8a84-1bb8cdcdeab6",
   "metadata": {},
   "outputs": [],
   "source": [
    "response <- exportImage(\"relayout_string_network\", type = \"png\")"
   ]
  },
  {
   "cell_type": "code",
   "execution_count": 23,
   "id": "82e843d8-5f18-4939-91c0-bd4e6ed6a609",
   "metadata": {},
   "outputs": [
    {
     "data": {
      "text/html": [
       "<strong>file:</strong> 'C:\\\\Users\\\\kozo2\\\\CytoscapeConfiguration\\\\filetransfer\\\\default_sandbox\\\\relayout_string_network.png'"
      ],
      "text/latex": [
       "\\textbf{file:} 'C:\\textbackslash{}\\textbackslash{}Users\\textbackslash{}\\textbackslash{}kozo2\\textbackslash{}\\textbackslash{}CytoscapeConfiguration\\textbackslash{}\\textbackslash{}filetransfer\\textbackslash{}\\textbackslash{}default\\_sandbox\\textbackslash{}\\textbackslash{}relayout\\_string\\_network.png'"
      ],
      "text/markdown": [
       "**file:** 'C:\\\\Users\\\\kozo2\\\\CytoscapeConfiguration\\\\filetransfer\\\\default_sandbox\\\\relayout_string_network.png'"
      ],
      "text/plain": [
       "                                                                                                  file \n",
       "\"C:\\\\Users\\\\kozo2\\\\CytoscapeConfiguration\\\\filetransfer\\\\default_sandbox\\\\relayout_string_network.png\" "
      ]
     },
     "metadata": {},
     "output_type": "display_data"
    }
   ],
   "source": [
    "response"
   ]
  },
  {
   "cell_type": "markdown",
   "id": "016d8d05-b0f3-423b-b604-f11d8de4e600",
   "metadata": {},
   "source": [
    "新しいレイアウトのSTRINGのネットワーク\n",
    "\n",
    "![relayout_string_network](https://user-images.githubusercontent.com/12192/139554068-55353d6a-62e2-4956-b2c6-cda4cc5a28d8.png)\n",
    "\n",
    "## STRINGネットワークに発現解析データをオーバーレイします\n",
    "\n",
    "これを行うには、RCy3のloadTableData関数を使用します。\n",
    "IDの種類が一致していることを確認することが重要です。\n",
    "ノード属性テーブルの列名を取得することで、STRINGが何を使用しているかを確認できます。"
   ]
  },
  {
   "cell_type": "code",
   "execution_count": 24,
   "id": "79a69c1e-238b-4816-9a89-3b9670965bcd",
   "metadata": {},
   "outputs": [
    {
     "data": {
      "text/html": [
       "<style>\n",
       ".list-inline {list-style: none; margin:0; padding: 0}\n",
       ".list-inline>li {display: inline-block}\n",
       ".list-inline>li:not(:last-child)::after {content: \"\\00b7\"; padding: 0 .5ex}\n",
       "</style>\n",
       "<ol class=list-inline><li>'SUID'</li><li>'shared name'</li><li>'name'</li><li>'selected'</li><li>'stringdb::canonical name'</li><li>'display name'</li><li>'stringdb::full name'</li><li>'stringdb::database identifier'</li><li>'stringdb::description'</li><li>'@id'</li><li>'stringdb::namespace'</li><li>'stringdb::node type'</li><li>'query term'</li><li>'stringdb::sequence'</li><li>'stringdb::species'</li><li>'stringdb::STRING style'</li><li>'stringdb::enhancedLabel Passthrough'</li><li>'compartment::cytoskeleton'</li><li>'compartment::cytosol'</li><li>'compartment::endoplasmic reticulum'</li><li>'compartment::endosome'</li><li>'compartment::extracellular'</li><li>'compartment::golgi apparatus'</li><li>'compartment::lysosome'</li><li>'compartment::mitochondrion'</li><li>'compartment::nucleus'</li><li>'compartment::peroxisome'</li><li>'compartment::plasma membrane'</li><li>'stringdb::interactor score'</li><li>'stringdb::structures'</li><li>'target::development level'</li><li>'target::family'</li><li>'tissue::adrenal gland'</li><li>'tissue::blood'</li><li>'tissue::bone'</li><li>'tissue::bone marrow'</li><li>'tissue::eye'</li><li>'tissue::gall bladder'</li><li>'tissue::heart'</li><li>'tissue::intestine'</li><li>'tissue::kidney'</li><li>'tissue::liver'</li><li>'tissue::lung'</li><li>'tissue::muscle'</li><li>'tissue::nervous system'</li><li>'tissue::pancreas'</li><li>'tissue::saliva'</li><li>'tissue::skin'</li><li>'tissue::spleen'</li><li>'tissue::stomach'</li><li>'tissue::thyroid gland'</li><li>'tissue::urine'</li></ol>\n"
      ],
      "text/latex": [
       "\\begin{enumerate*}\n",
       "\\item 'SUID'\n",
       "\\item 'shared name'\n",
       "\\item 'name'\n",
       "\\item 'selected'\n",
       "\\item 'stringdb::canonical name'\n",
       "\\item 'display name'\n",
       "\\item 'stringdb::full name'\n",
       "\\item 'stringdb::database identifier'\n",
       "\\item 'stringdb::description'\n",
       "\\item '@id'\n",
       "\\item 'stringdb::namespace'\n",
       "\\item 'stringdb::node type'\n",
       "\\item 'query term'\n",
       "\\item 'stringdb::sequence'\n",
       "\\item 'stringdb::species'\n",
       "\\item 'stringdb::STRING style'\n",
       "\\item 'stringdb::enhancedLabel Passthrough'\n",
       "\\item 'compartment::cytoskeleton'\n",
       "\\item 'compartment::cytosol'\n",
       "\\item 'compartment::endoplasmic reticulum'\n",
       "\\item 'compartment::endosome'\n",
       "\\item 'compartment::extracellular'\n",
       "\\item 'compartment::golgi apparatus'\n",
       "\\item 'compartment::lysosome'\n",
       "\\item 'compartment::mitochondrion'\n",
       "\\item 'compartment::nucleus'\n",
       "\\item 'compartment::peroxisome'\n",
       "\\item 'compartment::plasma membrane'\n",
       "\\item 'stringdb::interactor score'\n",
       "\\item 'stringdb::structures'\n",
       "\\item 'target::development level'\n",
       "\\item 'target::family'\n",
       "\\item 'tissue::adrenal gland'\n",
       "\\item 'tissue::blood'\n",
       "\\item 'tissue::bone'\n",
       "\\item 'tissue::bone marrow'\n",
       "\\item 'tissue::eye'\n",
       "\\item 'tissue::gall bladder'\n",
       "\\item 'tissue::heart'\n",
       "\\item 'tissue::intestine'\n",
       "\\item 'tissue::kidney'\n",
       "\\item 'tissue::liver'\n",
       "\\item 'tissue::lung'\n",
       "\\item 'tissue::muscle'\n",
       "\\item 'tissue::nervous system'\n",
       "\\item 'tissue::pancreas'\n",
       "\\item 'tissue::saliva'\n",
       "\\item 'tissue::skin'\n",
       "\\item 'tissue::spleen'\n",
       "\\item 'tissue::stomach'\n",
       "\\item 'tissue::thyroid gland'\n",
       "\\item 'tissue::urine'\n",
       "\\end{enumerate*}\n"
      ],
      "text/markdown": [
       "1. 'SUID'\n",
       "2. 'shared name'\n",
       "3. 'name'\n",
       "4. 'selected'\n",
       "5. 'stringdb::canonical name'\n",
       "6. 'display name'\n",
       "7. 'stringdb::full name'\n",
       "8. 'stringdb::database identifier'\n",
       "9. 'stringdb::description'\n",
       "10. '@id'\n",
       "11. 'stringdb::namespace'\n",
       "12. 'stringdb::node type'\n",
       "13. 'query term'\n",
       "14. 'stringdb::sequence'\n",
       "15. 'stringdb::species'\n",
       "16. 'stringdb::STRING style'\n",
       "17. 'stringdb::enhancedLabel Passthrough'\n",
       "18. 'compartment::cytoskeleton'\n",
       "19. 'compartment::cytosol'\n",
       "20. 'compartment::endoplasmic reticulum'\n",
       "21. 'compartment::endosome'\n",
       "22. 'compartment::extracellular'\n",
       "23. 'compartment::golgi apparatus'\n",
       "24. 'compartment::lysosome'\n",
       "25. 'compartment::mitochondrion'\n",
       "26. 'compartment::nucleus'\n",
       "27. 'compartment::peroxisome'\n",
       "28. 'compartment::plasma membrane'\n",
       "29. 'stringdb::interactor score'\n",
       "30. 'stringdb::structures'\n",
       "31. 'target::development level'\n",
       "32. 'target::family'\n",
       "33. 'tissue::adrenal gland'\n",
       "34. 'tissue::blood'\n",
       "35. 'tissue::bone'\n",
       "36. 'tissue::bone marrow'\n",
       "37. 'tissue::eye'\n",
       "38. 'tissue::gall bladder'\n",
       "39. 'tissue::heart'\n",
       "40. 'tissue::intestine'\n",
       "41. 'tissue::kidney'\n",
       "42. 'tissue::liver'\n",
       "43. 'tissue::lung'\n",
       "44. 'tissue::muscle'\n",
       "45. 'tissue::nervous system'\n",
       "46. 'tissue::pancreas'\n",
       "47. 'tissue::saliva'\n",
       "48. 'tissue::skin'\n",
       "49. 'tissue::spleen'\n",
       "50. 'tissue::stomach'\n",
       "51. 'tissue::thyroid gland'\n",
       "52. 'tissue::urine'\n",
       "\n",
       "\n"
      ],
      "text/plain": [
       " [1] \"SUID\"                                \"shared name\"                        \n",
       " [3] \"name\"                                \"selected\"                           \n",
       " [5] \"stringdb::canonical name\"            \"display name\"                       \n",
       " [7] \"stringdb::full name\"                 \"stringdb::database identifier\"      \n",
       " [9] \"stringdb::description\"               \"@id\"                                \n",
       "[11] \"stringdb::namespace\"                 \"stringdb::node type\"                \n",
       "[13] \"query term\"                          \"stringdb::sequence\"                 \n",
       "[15] \"stringdb::species\"                   \"stringdb::STRING style\"             \n",
       "[17] \"stringdb::enhancedLabel Passthrough\" \"compartment::cytoskeleton\"          \n",
       "[19] \"compartment::cytosol\"                \"compartment::endoplasmic reticulum\" \n",
       "[21] \"compartment::endosome\"               \"compartment::extracellular\"         \n",
       "[23] \"compartment::golgi apparatus\"        \"compartment::lysosome\"              \n",
       "[25] \"compartment::mitochondrion\"          \"compartment::nucleus\"               \n",
       "[27] \"compartment::peroxisome\"             \"compartment::plasma membrane\"       \n",
       "[29] \"stringdb::interactor score\"          \"stringdb::structures\"               \n",
       "[31] \"target::development level\"           \"target::family\"                     \n",
       "[33] \"tissue::adrenal gland\"               \"tissue::blood\"                      \n",
       "[35] \"tissue::bone\"                        \"tissue::bone marrow\"                \n",
       "[37] \"tissue::eye\"                         \"tissue::gall bladder\"               \n",
       "[39] \"tissue::heart\"                       \"tissue::intestine\"                  \n",
       "[41] \"tissue::kidney\"                      \"tissue::liver\"                      \n",
       "[43] \"tissue::lung\"                        \"tissue::muscle\"                     \n",
       "[45] \"tissue::nervous system\"              \"tissue::pancreas\"                   \n",
       "[47] \"tissue::saliva\"                      \"tissue::skin\"                       \n",
       "[49] \"tissue::spleen\"                      \"tissue::stomach\"                    \n",
       "[51] \"tissue::thyroid gland\"               \"tissue::urine\"                      "
      ]
     },
     "metadata": {},
     "output_type": "display_data"
    }
   ],
   "source": [
    "getTableColumnNames('node')"
   ]
  },
  {
   "cell_type": "markdown",
   "id": "dd4fef90-d2c3-4582-b3f6-0419c4ee7698",
   "metadata": {},
   "source": [
    "## STRINGネットワークに発現解析データをオーバーレイします-続き\n",
    "\n",
    "各列が何であるかわからず、使用する列をさらに確認したい場合は、ノード属性テーブル全体をプルすることもできます。"
   ]
  },
  {
   "cell_type": "code",
   "execution_count": 25,
   "id": "e22f61f3-c94a-4214-9642-b2b370d74713",
   "metadata": {},
   "outputs": [
    {
     "data": {
      "text/html": [
       "<table class=\"dataframe\">\n",
       "<caption>A data.frame: 6 × 5</caption>\n",
       "<thead>\n",
       "\t<tr><th></th><th scope=col>name</th><th scope=col>selected</th><th scope=col>stringdb::canonical name</th><th scope=col>display name</th><th scope=col>stringdb::full name</th></tr>\n",
       "\t<tr><th></th><th scope=col>&lt;chr&gt;</th><th scope=col>&lt;lgl&gt;</th><th scope=col>&lt;chr&gt;</th><th scope=col>&lt;chr&gt;</th><th scope=col>&lt;chr&gt;</th></tr>\n",
       "</thead>\n",
       "<tbody>\n",
       "\t<tr><th scope=row>1024</th><td>9606.ENSP00000295992</td><td>FALSE</td><td>Q9UKZ9</td><td>PCOLCE2</td><td>NA</td></tr>\n",
       "\t<tr><th scope=row>1027</th><td>9606.ENSP00000361818</td><td>FALSE</td><td>P31431</td><td>SDC4   </td><td>NA</td></tr>\n",
       "\t<tr><th scope=row>1030</th><td>9606.ENSP00000363827</td><td>FALSE</td><td>P98160</td><td>HSPG2  </td><td>NA</td></tr>\n",
       "\t<tr><th scope=row>1033</th><td>9606.ENSP00000351807</td><td>FALSE</td><td>Q6ZWJ6</td><td>ELN    </td><td>NA</td></tr>\n",
       "\t<tr><th scope=row>1036</th><td>9606.ENSP00000284987</td><td>FALSE</td><td>Q9UNA0</td><td>ADAMTS5</td><td>NA</td></tr>\n",
       "\t<tr><th scope=row>1039</th><td>9606.ENSP00000263253</td><td>FALSE</td><td>Q09472</td><td>EP300  </td><td>NA</td></tr>\n",
       "</tbody>\n",
       "</table>\n"
      ],
      "text/latex": [
       "A data.frame: 6 × 5\n",
       "\\begin{tabular}{r|lllll}\n",
       "  & name & selected & stringdb::canonical name & display name & stringdb::full name\\\\\n",
       "  & <chr> & <lgl> & <chr> & <chr> & <chr>\\\\\n",
       "\\hline\n",
       "\t1024 & 9606.ENSP00000295992 & FALSE & Q9UKZ9 & PCOLCE2 & NA\\\\\n",
       "\t1027 & 9606.ENSP00000361818 & FALSE & P31431 & SDC4    & NA\\\\\n",
       "\t1030 & 9606.ENSP00000363827 & FALSE & P98160 & HSPG2   & NA\\\\\n",
       "\t1033 & 9606.ENSP00000351807 & FALSE & Q6ZWJ6 & ELN     & NA\\\\\n",
       "\t1036 & 9606.ENSP00000284987 & FALSE & Q9UNA0 & ADAMTS5 & NA\\\\\n",
       "\t1039 & 9606.ENSP00000263253 & FALSE & Q09472 & EP300   & NA\\\\\n",
       "\\end{tabular}\n"
      ],
      "text/markdown": [
       "\n",
       "A data.frame: 6 × 5\n",
       "\n",
       "| <!--/--> | name &lt;chr&gt; | selected &lt;lgl&gt; | stringdb::canonical name &lt;chr&gt; | display name &lt;chr&gt; | stringdb::full name &lt;chr&gt; |\n",
       "|---|---|---|---|---|---|\n",
       "| 1024 | 9606.ENSP00000295992 | FALSE | Q9UKZ9 | PCOLCE2 | NA |\n",
       "| 1027 | 9606.ENSP00000361818 | FALSE | P31431 | SDC4    | NA |\n",
       "| 1030 | 9606.ENSP00000363827 | FALSE | P98160 | HSPG2   | NA |\n",
       "| 1033 | 9606.ENSP00000351807 | FALSE | Q6ZWJ6 | ELN     | NA |\n",
       "| 1036 | 9606.ENSP00000284987 | FALSE | Q9UNA0 | ADAMTS5 | NA |\n",
       "| 1039 | 9606.ENSP00000263253 | FALSE | Q09472 | EP300   | NA |\n",
       "\n"
      ],
      "text/plain": [
       "     name                 selected stringdb::canonical name display name\n",
       "1024 9606.ENSP00000295992 FALSE    Q9UKZ9                   PCOLCE2     \n",
       "1027 9606.ENSP00000361818 FALSE    P31431                   SDC4        \n",
       "1030 9606.ENSP00000363827 FALSE    P98160                   HSPG2       \n",
       "1033 9606.ENSP00000351807 FALSE    Q6ZWJ6                   ELN         \n",
       "1036 9606.ENSP00000284987 FALSE    Q9UNA0                   ADAMTS5     \n",
       "1039 9606.ENSP00000263253 FALSE    Q09472                   EP300       \n",
       "     stringdb::full name\n",
       "1024 NA                 \n",
       "1027 NA                 \n",
       "1030 NA                 \n",
       "1033 NA                 \n",
       "1036 NA                 \n",
       "1039 NA                 "
      ]
     },
     "metadata": {},
     "output_type": "display_data"
    }
   ],
   "source": [
    "node_attribute_table_topmesen <- getTableColumns(table=\"node\")\n",
    "head(node_attribute_table_topmesen[,3:7])"
   ]
  },
  {
   "cell_type": "markdown",
   "id": "18dc8403-370e-4877-9356-eee7727ad396",
   "metadata": {},
   "source": [
    "![image](https://user-images.githubusercontent.com/12192/139554236-dc19aaf7-8186-40f0-9ed3-d50a46c64d27.png)\n",
    "\n",
    "“display name” の列には、Ovarian Cancerデータセットにも含まれている HGNC 遺伝子名が含まれています。\n",
    "\n",
    "発現データをインポートするには、そのデータセットを “display name” ノード属性に一致させます。"
   ]
  },
  {
   "cell_type": "code",
   "execution_count": 26,
   "id": "1dfb32cb-c582-4c86-a2d7-03f4abeb6331",
   "metadata": {},
   "outputs": [
    {
     "data": {
      "text/html": [
       "'Success: Data loaded in defaultnode table'"
      ],
      "text/latex": [
       "'Success: Data loaded in defaultnode table'"
      ],
      "text/markdown": [
       "'Success: Data loaded in defaultnode table'"
      ],
      "text/plain": [
       "[1] \"Success: Data loaded in defaultnode table\""
      ]
     },
     "metadata": {},
     "output_type": "display_data"
    }
   ],
   "source": [
    "loadTableData(RNASeq_gene_scores, table.key.column = \"display name\", data.key.column = \"Name\")  #default data.frame key is row.names"
   ]
  },
  {
   "cell_type": "markdown",
   "id": "491887c3-c23e-4f79-b361-f20eaaa6b71f",
   "metadata": {},
   "source": [
    "## ビジュアルスタイル\n",
    "\n",
    "ビジュアルスタイルを変更する独自の視覚スタイルを作成して、STRINGネットワーク上の発現データを可視化してみましょう。\n",
    "まずはデフォルトのスタイルから始めます。\n",
    "\n",
    "**フォーマットされたSTRINGネットワーク**\n",
    "\n",
    "![mesen_string_network](https://user-images.githubusercontent.com/12192/139555494-3d46d339-153d-4c93-bf06-c393375ba2be.png)"
   ]
  },
  {
   "cell_type": "code",
   "execution_count": 27,
   "id": "b9dcb5e9-dbf1-46b7-8ef4-e10391792946",
   "metadata": {},
   "outputs": [
    {
     "data": {
      "text/html": [
       "<strong>message:</strong> 'Visual Style applied.'"
      ],
      "text/latex": [
       "\\textbf{message:} 'Visual Style applied.'"
      ],
      "text/markdown": [
       "**message:** 'Visual Style applied.'"
      ],
      "text/plain": [
       "                message \n",
       "\"Visual Style applied.\" "
      ]
     },
     "metadata": {},
     "output_type": "display_data"
    }
   ],
   "source": [
    "style.name = \"MesenchymalStyle\"\n",
    "defaults.list <- list(NODE_SHAPE=\"ellipse\",\n",
    "                 NODE_SIZE=60,\n",
    "                 NODE_FILL_COLOR=\"#AAAAAA\",\n",
    "                 EDGE_TRANSPARENCY=120)\n",
    "# p for passthrough; nothing else needed\n",
    "node.label.map <- mapVisualProperty('node label','display name','p') \n",
    "createVisualStyle(style.name, defaults.list, list(node.label.map))\n",
    "setVisualStyle(style.name=style.name)"
   ]
  },
  {
   "cell_type": "markdown",
   "id": "e916f94a-fe13-4b00-8d2a-fdf3b40abf0c",
   "metadata": {},
   "source": [
    "### ビジュアルスタイル-続き\n",
    "MesenchymalのlogFCの発現に対するマッピングを使用して、作成したスタイルを更新します。\n",
    "最初のステップは、Cytoscapeから列データを取得し（上記のnode_attributeテーブルの概念を再利用できますが、式データを追加したので、関数を再度呼び出す必要があります）、最小値と最大値を引き出して値の範囲に対するデータマッピングを定義します。 \n",
    "\n",
    "注：データセット全体、または現在Cytoscapeで表されているサブセットのみに基づいて最小値と最大値を定義できます。2つの方法では、異なる結果が得られます。 同じデータセットで作成された異なるネットワークを比較する場合は、サブセットではなく、データセット全体から最小値と最大値を計算するのが最善です。\n"
   ]
  },
  {
   "cell_type": "code",
   "execution_count": 28,
   "id": "35bf9073-c9f5-43e4-ac9b-5ae5cac2ca0e",
   "metadata": {},
   "outputs": [],
   "source": [
    "min.mesen.logfc = min(RNASeq_gene_scores$logFC.mesen,na.rm=TRUE)\n",
    "max.mesen.logfc = max(RNASeq_gene_scores$logFC.mesen,na.rm=TRUE)\n",
    "data.values = c(min.mesen.logfc,0,max.mesen.logfc)"
   ]
  },
  {
   "cell_type": "markdown",
   "id": "f0477b9b-ff92-4f3a-8136-54e01ea9bae4",
   "metadata": {},
   "source": [
    "### ビジュアルスタイル-続き\n",
    "次に、RColorBrewer パッケージを使用して、データ値と組み合わせるのに適した色を選択します。"
   ]
  },
  {
   "cell_type": "code",
   "execution_count": 29,
   "id": "833827d3-19b3-4af8-9c59-3d67f8547ec2",
   "metadata": {},
   "outputs": [
    {
     "data": {
      "image/png": "[encoded data removed]",
      "text/plain": [
       "plot without title"
      ]
     },
     "metadata": {
      "image/png": {
       "height": 420,
       "width": 420
      }
     },
     "output_type": "display_data"
    }
   ],
   "source": [
    "library(RColorBrewer)\n",
    "display.brewer.all(length(data.values), colorblindFriendly=TRUE, type=\"div\") "
   ]
  },
  {
   "cell_type": "markdown",
   "id": "a0fea46b-7dee-4e1a-95d8-9a2da885ce1b",
   "metadata": {},
   "source": [
    "### ノードの色を logFC に。"
   ]
  },
  {
   "cell_type": "code",
   "execution_count": 30,
   "id": "60e94f3f-a080-47eb-9abd-2ed6e8946856",
   "metadata": {},
   "outputs": [],
   "source": [
    "node.colors <- c(rev(brewer.pal(length(data.values), \"RdBu\")))"
   ]
  },
  {
   "cell_type": "markdown",
   "id": "fe1a3904-30b6-4b35-accd-a865d75f516f",
   "metadata": {},
   "source": [
    "色をデータ値にマッピングし、ビジュアルスタイルを更新します。"
   ]
  },
  {
   "cell_type": "code",
   "execution_count": 31,
   "id": "5d237b64-9f48-495b-8974-64ed05dd2215",
   "metadata": {},
   "outputs": [
    {
     "data": {
      "text/html": [
       "<dl>\n",
       "\t<dt>$status</dt>\n",
       "\t\t<dd>201</dd>\n",
       "\t<dt>$reason</dt>\n",
       "\t\t<dd>'Created'</dd>\n",
       "\t<dt>$text</dt>\n",
       "\t\t<dd>''</dd>\n",
       "</dl>\n"
      ],
      "text/latex": [
       "\\begin{description}\n",
       "\\item[\\$status] 201\n",
       "\\item[\\$reason] 'Created'\n",
       "\\item[\\$text] ''\n",
       "\\end{description}\n"
      ],
      "text/markdown": [
       "$status\n",
       ":   201\n",
       "$reason\n",
       ":   'Created'\n",
       "$text\n",
       ":   ''\n",
       "\n",
       "\n"
      ],
      "text/plain": [
       "$status\n",
       "[1] 201\n",
       "\n",
       "$reason\n",
       "[1] \"Created\"\n",
       "\n",
       "$text\n",
       "[1] \"\"\n"
      ]
     },
     "metadata": {},
     "output_type": "display_data"
    }
   ],
   "source": [
    "setNodeColorMapping(\"logFC.mesen\", data.values, node.colors, style.name=style.name)"
   ]
  },
  {
   "cell_type": "markdown",
   "id": "9105f6ca-7ac4-444d-90df-3be099e7ae56",
   "metadata": {},
   "source": [
    "### ビジュアルスタイル-続き\n",
    "STRINGには、クエリタンパク質と、クエリタンパク質に関連する他のタンパク質（最初に最も強い接続を含む）が含まれることを忘れないでください。\n",
    "このネットワークのすべてのタンパク質があなたのトップヒットであるわけではありません。どのタンパク質がトップMesenchymalヒットであるかをどのように可視化できますか？\n",
    "\n",
    "別の(境界線の)色を追加するか、トップヒットのノードの形状を変更してみましょう。"
   ]
  },
  {
   "cell_type": "code",
   "execution_count": 32,
   "id": "2dcc7ceb-55a9-4e9b-9e59-a3ddc0379b64",
   "metadata": {},
   "outputs": [
    {
     "data": {
      "text/html": [
       "<style>\n",
       ".list-inline {list-style: none; margin:0; padding: 0}\n",
       ".list-inline>li {display: inline-block}\n",
       ".list-inline>li:not(:last-child)::after {content: \"\\00b7\"; padding: 0 .5ex}\n",
       "</style>\n",
       "<ol class=list-inline><li>'HEXAGON'</li><li>'OCTAGON'</li><li>'PARALLELOGRAM'</li><li>'TRIANGLE'</li><li>'ELLIPSE'</li><li>'RECTANGLE'</li><li>'ROUND_RECTANGLE'</li><li>'VEE'</li><li>'DIAMOND'</li></ol>\n"
      ],
      "text/latex": [
       "\\begin{enumerate*}\n",
       "\\item 'HEXAGON'\n",
       "\\item 'OCTAGON'\n",
       "\\item 'PARALLELOGRAM'\n",
       "\\item 'TRIANGLE'\n",
       "\\item 'ELLIPSE'\n",
       "\\item 'RECTANGLE'\n",
       "\\item 'ROUND\\_RECTANGLE'\n",
       "\\item 'VEE'\n",
       "\\item 'DIAMOND'\n",
       "\\end{enumerate*}\n"
      ],
      "text/markdown": [
       "1. 'HEXAGON'\n",
       "2. 'OCTAGON'\n",
       "3. 'PARALLELOGRAM'\n",
       "4. 'TRIANGLE'\n",
       "5. 'ELLIPSE'\n",
       "6. 'RECTANGLE'\n",
       "7. 'ROUND_RECTANGLE'\n",
       "8. 'VEE'\n",
       "9. 'DIAMOND'\n",
       "\n",
       "\n"
      ],
      "text/plain": [
       "[1] \"HEXAGON\"         \"OCTAGON\"         \"PARALLELOGRAM\"   \"TRIANGLE\"       \n",
       "[5] \"ELLIPSE\"         \"RECTANGLE\"       \"ROUND_RECTANGLE\" \"VEE\"            \n",
       "[9] \"DIAMOND\"        "
      ]
     },
     "metadata": {},
     "output_type": "display_data"
    }
   ],
   "source": [
    "getNodeShapes()\n",
    "\n",
    "#select the Nodes of interest\n",
    "#selectNode(nodes = top_mesenchymal_genes$Name, by.col=\"display name\")\n",
    "setNodeShapeBypass(node.names = top_mesenchymal_genes$Name, new.shapes = \"TRIANGLE\")"
   ]
  },
  {
   "cell_type": "markdown",
   "id": "8e072292-77ae-4f24-9821-4a51f281e5c1",
   "metadata": {},
   "source": [
    "### ビジュアルスタイル-続き\n",
    "最後に Mesenchymal の p-value と相関するノードのサイズを変更しましょう。\n"
   ]
  },
  {
   "cell_type": "code",
   "execution_count": 33,
   "id": "f3b9211b-f42d-4b96-88c5-f19f0be0ca63",
   "metadata": {},
   "outputs": [
    {
     "data": {
      "text/html": [
       "<dl>\n",
       "\t<dt>$status</dt>\n",
       "\t\t<dd>201</dd>\n",
       "\t<dt>$reason</dt>\n",
       "\t\t<dd>'Created'</dd>\n",
       "\t<dt>$text</dt>\n",
       "\t\t<dd>''</dd>\n",
       "</dl>\n"
      ],
      "text/latex": [
       "\\begin{description}\n",
       "\\item[\\$status] 201\n",
       "\\item[\\$reason] 'Created'\n",
       "\\item[\\$text] ''\n",
       "\\end{description}\n"
      ],
      "text/markdown": [
       "$status\n",
       ":   201\n",
       "$reason\n",
       ":   'Created'\n",
       "$text\n",
       ":   ''\n",
       "\n",
       "\n"
      ],
      "text/plain": [
       "$status\n",
       "[1] 201\n",
       "\n",
       "$reason\n",
       "[1] \"Created\"\n",
       "\n",
       "$text\n",
       "[1] \"\"\n"
      ]
     },
     "metadata": {},
     "output_type": "display_data"
    }
   ],
   "source": [
    "setNodeSizeMapping(table.column = 'LR.mesen', \n",
    "                   table.column.values = c(min(RNASeq_gene_scores$LR.mesen), \n",
    "                                           mean(RNASeq_gene_scores$LR.mesen), \n",
    "                                           max(RNASeq_gene_scores$LR.mesen)), \n",
    "                   sizes = c(30, 60, 150), mapping.type = \"c\", style.name = style.name)"
   ]
  },
  {
   "cell_type": "code",
   "execution_count": 34,
   "id": "c5b1d290-4183-43ec-ba18-e79e638442a8",
   "metadata": {},
   "outputs": [],
   "source": [
    "response <- exportImage(\"mesen_string_network\", type = \"png\")"
   ]
  },
  {
   "cell_type": "code",
   "execution_count": 35,
   "id": "75d31be5-a182-42fb-8a02-2a599850cddc",
   "metadata": {},
   "outputs": [
    {
     "data": {
      "text/html": [
       "<strong>file:</strong> 'C:\\\\Users\\\\kozo2\\\\CytoscapeConfiguration\\\\filetransfer\\\\default_sandbox\\\\mesen_string_network.png'"
      ],
      "text/latex": [
       "\\textbf{file:} 'C:\\textbackslash{}\\textbackslash{}Users\\textbackslash{}\\textbackslash{}kozo2\\textbackslash{}\\textbackslash{}CytoscapeConfiguration\\textbackslash{}\\textbackslash{}filetransfer\\textbackslash{}\\textbackslash{}default\\_sandbox\\textbackslash{}\\textbackslash{}mesen\\_string\\_network.png'"
      ],
      "text/markdown": [
       "**file:** 'C:\\\\Users\\\\kozo2\\\\CytoscapeConfiguration\\\\filetransfer\\\\default_sandbox\\\\mesen_string_network.png'"
      ],
      "text/plain": [
       "                                                                                               file \n",
       "\"C:\\\\Users\\\\kozo2\\\\CytoscapeConfiguration\\\\filetransfer\\\\default_sandbox\\\\mesen_string_network.png\" "
      ]
     },
     "metadata": {},
     "output_type": "display_data"
    }
   ],
   "source": [
    "response"
   ]
  },
  {
   "cell_type": "markdown",
   "id": "74ab19e8-f90d-4520-bcda-a860a1777b31",
   "metadata": {},
   "source": [
    "# ありがとうございました!\n",
    "これで基本的なしくみだけでなく論文のような図を作る実践的な方法も学習できましたね。\n",
    "\n",
    "役立つと思われる追加のリソースは次のとおりです:\n",
    "\n",
    "- manual.cytoscape.org\n",
    "- tutorials.cytoscape.org\n",
    "- automation.cytoscape.org\n",
    "- apps.cytoscape.org\n",
    "- cytoscape-publications.tumblr.com\n",
    "- [cytoscape help page](https://cytoscape.org/documentation_users.html)\n",
    "- [cytoscape developer page](https://cytoscape.org/documentation_developers.html)\n",
    "- [nrnb.org/training.html](http://nrnb.org/training.html)"
   ]
  },
  {
   "cell_type": "code",
   "execution_count": null,
   "id": "31760af0-3446-4320-b22b-a40aaf88eeef",
   "metadata": {},
   "outputs": [],
   "source": []
  }
 ],
 "metadata": {
  "colab": {
   "name": "workshop_ja.ipynb",
   "provenance": []
  },
  "kernelspec": {
   "display_name": "R",
   "language": "R",
   "name": "ir"
  },
  "language_info": {
   "codemirror_mode": "r",
   "file_extension": ".r",
   "mimetype": "text/x-r-source",
   "name": "R",
   "pygments_lexer": "r",
   "version": "4.1.1"
  }
 },
 "nbformat": 4,
 "nbformat_minor": 5
}
